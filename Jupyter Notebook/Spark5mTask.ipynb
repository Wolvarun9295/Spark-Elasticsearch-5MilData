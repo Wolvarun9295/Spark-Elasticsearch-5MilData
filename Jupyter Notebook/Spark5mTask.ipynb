{
 "cells": [
  {
   "cell_type": "code",
   "execution_count": 2,
   "metadata": {},
   "outputs": [
    {
     "data": {
      "text/html": [
       "<style>.container { width:100% !important; }</style>"
      ],
      "text/plain": [
       "<IPython.core.display.HTML object>"
      ]
     },
     "metadata": {},
     "output_type": "display_data"
    }
   ],
   "source": [
    "from IPython.core.display import display, HTML\n",
    "display(HTML(\"<style>.container { width:100% !important; }</style>\"))"
   ]
  },
  {
   "cell_type": "markdown",
   "metadata": {},
   "source": [
    "### Finding locally installed Spark and importing PySpark libraries"
   ]
  },
  {
   "cell_type": "code",
   "execution_count": 4,
   "metadata": {},
   "outputs": [],
   "source": [
    "import findspark\n",
    "findspark.init(\"/usr/local/spark/\")\n",
    "from pyspark.sql import SparkSession, functions as func"
   ]
  },
  {
   "cell_type": "markdown",
   "metadata": {},
   "source": [
    "### Creating Spark Session"
   ]
  },
  {
   "cell_type": "code",
   "execution_count": 5,
   "metadata": {},
   "outputs": [],
   "source": [
    "spark = SparkSession.builder.appName('task').getOrCreate()"
   ]
  },
  {
   "cell_type": "markdown",
   "metadata": {},
   "source": [
    "### Reading 5 million data CSV with Spark by loading the file"
   ]
  },
  {
   "cell_type": "code",
   "execution_count": 6,
   "metadata": {},
   "outputs": [
    {
     "name": "stdout",
     "output_type": "stream",
     "text": [
      "+------+---------------------+---------+------+--------------------+-----------+--------------------+-----+-------+----------+-----+------+-----------+\n",
      "|Emp ID|Month Name of Joining|Last Name|Gender|              E Mail|        SSN|              County|State| Region|      City|  Zip|Salary|Salary Hike|\n",
      "+------+---------------------+---------+------+--------------------+-----------+--------------------+-----+-------+----------+-----+------+-----------+\n",
      "|742048|              January|   Mccoll|     F|lizeth.mccoll@ibm...|171-86-6830|               Stark|   OH|Midwest|  Alliance|44601|147446|         14|\n",
      "|671135|                April|     Hern|     F|argentina.hern@nt...|083-02-3078|District of Columbia|   DC|  South|Washington|20411|129174|          8|\n",
      "|965851|             December|  Patillo|     M|damian.patillo@ou...|326-11-9852|              Fresno|   CA|   West|    Burrel|93607|158746|          8|\n",
      "|224660|                 June| Hagopian|     F|imogene.hagopian@...|656-36-0772|              Brazos|   TX|  South|     Bryan|77806| 55761|         14|\n",
      "|852694|             February|  Wallach|     M|walker.wallach@ao...|296-15-3535|              Vernon|   LA|  South|  Newllano|71461|197519|         24|\n",
      "+------+---------------------+---------+------+--------------------+-----------+--------------------+-----+-------+----------+-----+------+-----------+\n",
      "only showing top 5 rows\n",
      "\n"
     ]
    }
   ],
   "source": [
    "df = spark.read.format(\"csv\").option(\"header\",\"true\").load(\"/home/ubuntu/Hr5m.csv\").fillna(0)[\"Emp ID\", \"Month Name of Joining\", \"Last Name\", \"Gender\", \"E Mail\", \"SSN\", \"County\", \"State\", \"Region\", \"City\", \"Zip\", \"Salary\", func.regexp_replace(func.col(\"Last % Hike\"), \"%\", \"\").alias(\"Salary Hike\")]\n",
    "df.show(5)"
   ]
  },
  {
   "cell_type": "markdown",
   "metadata": {},
   "source": [
    "### Checking the total records in the PySpark Dataframe"
   ]
  },
  {
   "cell_type": "code",
   "execution_count": 7,
   "metadata": {},
   "outputs": [
    {
     "name": "stdout",
     "output_type": "stream",
     "text": [
      "Total records present: 5000000\n"
     ]
    }
   ],
   "source": [
    "print(f\"Total records present: {df.count()}\")"
   ]
  },
  {
   "cell_type": "markdown",
   "metadata": {},
   "source": [
    "### Checking the data types"
   ]
  },
  {
   "cell_type": "code",
   "execution_count": 8,
   "metadata": {},
   "outputs": [
    {
     "data": {
      "text/plain": [
       "[('Emp ID', 'string'),\n",
       " ('Month Name of Joining', 'string'),\n",
       " ('Last Name', 'string'),\n",
       " ('Gender', 'string'),\n",
       " ('E Mail', 'string'),\n",
       " ('SSN', 'string'),\n",
       " ('County', 'string'),\n",
       " ('State', 'string'),\n",
       " ('Region', 'string'),\n",
       " ('City', 'string'),\n",
       " ('Zip', 'string'),\n",
       " ('Salary', 'string'),\n",
       " ('Salary Hike', 'string')]"
      ]
     },
     "execution_count": 8,
     "metadata": {},
     "output_type": "execute_result"
    }
   ],
   "source": [
    "df.dtypes"
   ]
  },
  {
   "cell_type": "markdown",
   "metadata": {},
   "source": [
    "### Casting 'string' value to 'int'"
   ]
  },
  {
   "cell_type": "code",
   "execution_count": 9,
   "metadata": {},
   "outputs": [
    {
     "data": {
      "text/plain": [
       "[('Emp ID', 'int'),\n",
       " ('Month Name of Joining', 'string'),\n",
       " ('Last Name', 'string'),\n",
       " ('Gender', 'string'),\n",
       " ('E Mail', 'string'),\n",
       " ('SSN', 'string'),\n",
       " ('County', 'string'),\n",
       " ('State', 'string'),\n",
       " ('Region', 'string'),\n",
       " ('City', 'string'),\n",
       " ('Zip', 'int'),\n",
       " ('Salary', 'int'),\n",
       " ('Salary Hike', 'int')]"
      ]
     },
     "execution_count": 9,
     "metadata": {},
     "output_type": "execute_result"
    }
   ],
   "source": [
    "df = df.withColumn(\"Emp ID\", df[\"Emp ID\"].cast(\"int\"))\n",
    "df = df.withColumn(\"Zip\", df[\"Zip\"].cast(\"int\"))\n",
    "df = df.withColumn(\"Salary\", df[\"Salary\"].cast(\"int\"))\n",
    "df = df.withColumn(\"Salary Hike\", df[\"Salary Hike\"].cast(\"int\"))\n",
    "df.dtypes"
   ]
  },
  {
   "cell_type": "markdown",
   "metadata": {},
   "source": [
    "### Checking if the changes have been made successfully"
   ]
  },
  {
   "cell_type": "code",
   "execution_count": 10,
   "metadata": {},
   "outputs": [
    {
     "name": "stdout",
     "output_type": "stream",
     "text": [
      "+------+---------------------+---------+------+--------------------+-----------+--------------------+-----+---------+-------------+-----+------+-----------+\n",
      "|Emp ID|Month Name of Joining|Last Name|Gender|              E Mail|        SSN|              County|State|   Region|         City|  Zip|Salary|Salary Hike|\n",
      "+------+---------------------+---------+------+--------------------+-----------+--------------------+-----+---------+-------------+-----+------+-----------+\n",
      "|742048|              January|   Mccoll|     F|lizeth.mccoll@ibm...|171-86-6830|               Stark|   OH|  Midwest|     Alliance|44601|147446|         14|\n",
      "|671135|                April|     Hern|     F|argentina.hern@nt...|083-02-3078|District of Columbia|   DC|    South|   Washington|20411|129174|          8|\n",
      "|965851|             December|  Patillo|     M|damian.patillo@ou...|326-11-9852|              Fresno|   CA|     West|       Burrel|93607|158746|          8|\n",
      "|224660|                 June| Hagopian|     F|imogene.hagopian@...|656-36-0772|              Brazos|   TX|    South|        Bryan|77806| 55761|         14|\n",
      "|852694|             February|  Wallach|     M|walker.wallach@ao...|296-15-3535|              Vernon|   LA|    South|     Newllano|71461|197519|         24|\n",
      "|144102|                March|   Hollie|     F|jesusita.hollie@h...|375-37-3861|         Los Angeles|   CA|     West|      Topanga|90290|103839|          6|\n",
      "|687793|              October|  Esqueda|     M|fausto.esqueda@ao...|095-02-0857|          Tuscarawas|   OH|  Midwest|    Somerdale|44678| 60101|          5|\n",
      "|636308|                 July|    Komar|     F| vanda.komar@aol.com|002-11-5408|              Summit|   OH|  Midwest|        Akron|44312|115639|         26|\n",
      "|218660|             November|Nicholson|     F|destiny.nicholson...|386-37-5628|            Atlantic|   NJ|Northeast|Atlantic City| 8401|126048|         19|\n",
      "|465691|              October|    Hamby|     F|evie.hamby@gmail.com|682-24-5946|              Morris|   NJ|Northeast|     Rockaway| 7866|193757|         28|\n",
      "|242339|              October|Friedrich|     M|carlton.friedrich...|717-18-8892|            Hamilton|   OH|  Midwest|   Cincinnati|45202| 43826|         14|\n",
      "|636949|                March|   Haynie|     M|carmelo.haynie@gm...|529-99-1135|          Livingston|   MI|  Midwest|       Howell|48844| 84036|          2|\n",
      "|890565|                 June|   Troche|     F|bari.troche@hotma...|479-41-7839|            Sandoval|   NM|     West| Cochiti Lake|87083|182148|         30|\n",
      "|206270|              October|    Lowry|     M|burton.lowry@comc...|618-87-1917|              Carbon|   PA|Northeast|    Palmerton|18071|181592|         26|\n",
      "|418390|             December|  Bassham|     M|mickey.bassham@gm...|186-86-7205|             Oakland|   MI|  Midwest|   Lake Orion|48362|131922|         23|\n",
      "|359884|                  May|  Cerrone|     F|ying.cerrone@aol.com|083-02-7174|              Murray|   MN|  Midwest|         Iona|56141|184946|          1|\n",
      "|301840|             February|    Copas|     F|bette.copas@sbcgl...|124-98-3183|             Laramie|   WY|     West|    Hillsdale|82060|103833|         27|\n",
      "|232212|                  May|   Harkey|     F| tien.harkey@cox.net|615-87-8886|              Fresno|   CA|     West|       Fresno|93782|103292|         10|\n",
      "|450156|             November|  Chesney|     F|loma.chesney@yaho...|161-86-9824|              Mobile|   AL|    South|       Mobile|36602| 66545|          7|\n",
      "|158031|             November|   Pastor|     M|ruben.pastor@gmai...|768-02-9782|             Ozaukee|   WI|  Midwest|    Cedarburg|53012| 41892|          1|\n",
      "+------+---------------------+---------+------+--------------------+-----------+--------------------+-----+---------+-------------+-----+------+-----------+\n",
      "only showing top 20 rows\n",
      "\n"
     ]
    }
   ],
   "source": [
    "df.show(20)"
   ]
  },
  {
   "cell_type": "markdown",
   "metadata": {},
   "source": [
    "### Checking the Schema"
   ]
  },
  {
   "cell_type": "code",
   "execution_count": 11,
   "metadata": {},
   "outputs": [
    {
     "name": "stdout",
     "output_type": "stream",
     "text": [
      "root\n",
      " |-- Emp ID: integer (nullable = true)\n",
      " |-- Month Name of Joining: string (nullable = true)\n",
      " |-- Last Name: string (nullable = true)\n",
      " |-- Gender: string (nullable = true)\n",
      " |-- E Mail: string (nullable = true)\n",
      " |-- SSN: string (nullable = true)\n",
      " |-- County: string (nullable = true)\n",
      " |-- State: string (nullable = true)\n",
      " |-- Region: string (nullable = true)\n",
      " |-- City: string (nullable = true)\n",
      " |-- Zip: integer (nullable = true)\n",
      " |-- Salary: integer (nullable = true)\n",
      " |-- Salary Hike: integer (nullable = true)\n",
      "\n"
     ]
    }
   ],
   "source": [
    "df.printSchema()"
   ]
  },
  {
   "cell_type": "markdown",
   "metadata": {},
   "source": [
    "### Task 1: Count the number of employees in each County, Region and City"
   ]
  },
  {
   "cell_type": "code",
   "execution_count": 12,
   "metadata": {},
   "outputs": [
    {
     "name": "stdout",
     "output_type": "stream",
     "text": [
      "+---------+---------------------------+\n",
      "|   County|No. of Employees Per County|\n",
      "+---------+---------------------------+\n",
      "|Worcester|                      12921|\n",
      "| Thurston|                       2868|\n",
      "|    Tyler|                       1738|\n",
      "|    Bucks|                       7659|\n",
      "|  Palermo|                        155|\n",
      "+---------+---------------------------+\n",
      "only showing top 5 rows\n",
      "\n"
     ]
    }
   ],
   "source": [
    "task11 = df.groupBy(\"County\").agg(func.countDistinct(\"Emp ID\").alias('No. of Employees Per County'))\n",
    "task11.show(5)"
   ]
  },
  {
   "cell_type": "code",
   "execution_count": 13,
   "metadata": {},
   "outputs": [
    {
     "name": "stdout",
     "output_type": "stream",
     "text": [
      "+---------+---------------------------+\n",
      "|   Region|No. of Employees Per Region|\n",
      "+---------+---------------------------+\n",
      "|  Midwest|                     691814|\n",
      "|    South|                     770939|\n",
      "|     West|                     555368|\n",
      "|Northeast|                     557073|\n",
      "+---------+---------------------------+\n",
      "\n"
     ]
    }
   ],
   "source": [
    "task12 = df.groupBy(\"Region\").agg(func.countDistinct(\"Emp ID\").alias('No. of Employees Per Region'))\n",
    "task12.show(5)"
   ]
  },
  {
   "cell_type": "code",
   "execution_count": 14,
   "metadata": {},
   "outputs": [
    {
     "name": "stdout",
     "output_type": "stream",
     "text": [
      "+-----------+-------------------------+\n",
      "|       City|No. of Employees Per City|\n",
      "+-----------+-------------------------+\n",
      "|    Hanover|                     2311|\n",
      "|      Tyler|                     1999|\n",
      "|Piney Creek|                      110|\n",
      "|   Bluffton|                      820|\n",
      "| Prattville|                      487|\n",
      "+-----------+-------------------------+\n",
      "only showing top 5 rows\n",
      "\n"
     ]
    }
   ],
   "source": [
    "task13 = df.groupBy(\"City\").agg(func.countDistinct(\"Emp ID\").alias('No. of Employees Per City'))\n",
    "task13.show(5)"
   ]
  },
  {
   "cell_type": "markdown",
   "metadata": {},
   "source": [
    "### Task 2: Generate employee summary"
   ]
  },
  {
   "cell_type": "code",
   "execution_count": 15,
   "metadata": {},
   "outputs": [
    {
     "name": "stdout",
     "output_type": "stream",
     "text": [
      "+------+---------------------+---------+------+--------------------+-----------+------+-----+-------+-----------+-----+------+-----------+\n",
      "|Emp ID|Month Name of Joining|Last Name|Gender|              E Mail|        SSN|County|State| Region|       City|  Zip|Salary|Salary Hike|\n",
      "+------+---------------------+---------+------+--------------------+-----------+------+-----+-------+-----------+-----+------+-----------+\n",
      "|111111|                  May|   Isbell|     M|riley.isbell@gmai...|066-02-8823|Sabine|   LA|  South|    Florien|71429|115049|         26|\n",
      "|111111|                  May|Witkowski|     F|danuta.witkowski@...|506-57-4157|   Bay|   FL|  South|Panama City|32403|142276|         11|\n",
      "|111111|             February|  Ribeiro|     F|ursula.ribeiro@ao...|504-45-4194|Ottawa|   MI|Midwest| Ferrysburg|49409| 68056|         11|\n",
      "|111111|                March|     Hock|     F|karolyn.hock@hotm...|295-15-1492|  Wise|   TX|  South|    Slidell|76267|146377|         25|\n",
      "|111111|              October| Lamberth|     F|delois.lamberth@h...|193-86-6147|Martin|   NC|  South|Williamston|27892|146377|         25|\n",
      "+------+---------------------+---------+------+--------------------+-----------+------+-----+-------+-----------+-----+------+-----------+\n",
      "only showing top 5 rows\n",
      "\n"
     ]
    }
   ],
   "source": [
    "task2 = df.sort(\"Emp ID\")\n",
    "task2.show(5)"
   ]
  },
  {
   "cell_type": "markdown",
   "metadata": {},
   "source": [
    "### Task 3: Generate employee summary and ordering by Gender and Salary"
   ]
  },
  {
   "cell_type": "code",
   "execution_count": 16,
   "metadata": {},
   "outputs": [
    {
     "name": "stdout",
     "output_type": "stream",
     "text": [
      "+------+---------------------+-----------+------+--------------------+-----------+----------+-----+-------+------------+-----+------+-----------+\n",
      "|Emp ID|Month Name of Joining|  Last Name|Gender|              E Mail|        SSN|    County|State| Region|        City|  Zip|Salary|Salary Hike|\n",
      "+------+---------------------+-----------+------+--------------------+-----------+----------+-----+-------+------------+-----+------+-----------+\n",
      "|571129|                March|    Nolting|     F|lakiesha.nolting@...|141-23-4908|   Larimer|   CO|   West|  Glen Haven|80532| 40000|         21|\n",
      "|506893|                 June|Cumberbatch|     F|ariana.cumberbatc...|057-02-5798|Evangeline|   LA|  South|Saint Landry|71367| 40000|          4|\n",
      "|631239|                  May|     Ellman|     F|tijuana.ellman@ho...|730-28-6351|      Hoke|   NC|  South|     Raeford|28376| 40000|         19|\n",
      "|832197|              October|     Grosso|     F|vikki.grosso@hotm...|131-98-5564|   McHenry|   ND|Midwest|      Bantry|58713| 40000|         14|\n",
      "|828071|             February|   Barrette|     F|madelaine.barrett...|545-99-1053|     Aiken|   SC|  South|       Aiken|29801| 40000|         26|\n",
      "+------+---------------------+-----------+------+--------------------+-----------+----------+-----+-------+------------+-----+------+-----------+\n",
      "only showing top 5 rows\n",
      "\n"
     ]
    }
   ],
   "source": [
    "task3 = df.orderBy([\"Gender\", \"Salary\"])\n",
    "task3.show(5)"
   ]
  },
  {
   "cell_type": "markdown",
   "metadata": {},
   "source": [
    "### Task 4: Summerize the number of employee joined and hikes granted based on month"
   ]
  },
  {
   "cell_type": "code",
   "execution_count": 17,
   "metadata": {},
   "outputs": [
    {
     "name": "stdout",
     "output_type": "stream",
     "text": [
      "+---------------------+-------------------------------------------+\n",
      "|Month Name of Joining|No. of Employees Joined in Particular Month|\n",
      "+---------------------+-------------------------------------------+\n",
      "|                 July|                                     351634|\n",
      "|             November|                                     315549|\n",
      "|             February|                                     309233|\n",
      "|              January|                                     328953|\n",
      "|                March|                                     335261|\n",
      "|              October|                                     320530|\n",
      "|                  May|                                     342019|\n",
      "|               August|                                     361916|\n",
      "|                April|                                     329291|\n",
      "|                 June|                                     337582|\n",
      "|             December|                                     325905|\n",
      "|            September|                                     310627|\n",
      "+---------------------+-------------------------------------------+\n",
      "\n"
     ]
    }
   ],
   "source": [
    "task41 = df.groupBy(\"Month Name of Joining\").agg(func.countDistinct(\"Emp ID\").alias('No. of Employees Joined in Particular Month'))\n",
    "task41.show()"
   ]
  },
  {
   "cell_type": "code",
   "execution_count": 19,
   "metadata": {},
   "outputs": [
    {
     "name": "stdout",
     "output_type": "stream",
     "text": [
      "+---------------------+----------------------------------------+\n",
      "|Month Name of Joining|No. of Hikes granted in Particular Month|\n",
      "+---------------------+----------------------------------------+\n",
      "|                 July|                                      31|\n",
      "|             November|                                      31|\n",
      "|             February|                                      31|\n",
      "|              January|                                      31|\n",
      "|                March|                                      31|\n",
      "|              October|                                      31|\n",
      "|                  May|                                      31|\n",
      "|               August|                                      31|\n",
      "|                April|                                      31|\n",
      "|                 June|                                      31|\n",
      "|             December|                                      31|\n",
      "|            September|                                      31|\n",
      "+---------------------+----------------------------------------+\n",
      "\n"
     ]
    }
   ],
   "source": [
    "task42 = df.groupBy(\"Month Name of Joining\").agg(func.countDistinct(\"Salary Hike\").alias('No. of Hikes granted in Particular Month'))\n",
    "task42.show()"
   ]
  },
  {
   "cell_type": "markdown",
   "metadata": {},
   "source": [
    "### Task 5: Generate employee summary and ordering by Salary"
   ]
  },
  {
   "cell_type": "code",
   "execution_count": 20,
   "metadata": {},
   "outputs": [
    {
     "name": "stdout",
     "output_type": "stream",
     "text": [
      "+------+---------------------+-----------+------+--------------------+-----------+----------+-----+---------+------------+-----+------+-----------+\n",
      "|Emp ID|Month Name of Joining|  Last Name|Gender|              E Mail|        SSN|    County|State|   Region|        City|  Zip|Salary|Salary Hike|\n",
      "+------+---------------------+-----------+------+--------------------+-----------+----------+-----+---------+------------+-----+------+-----------+\n",
      "|828071|             February|   Barrette|     F|madelaine.barrett...|545-99-1053|     Aiken|   SC|    South|       Aiken|29801| 40000|         26|\n",
      "|336973|                April|       Deem|     M| kirk.deem@gmail.com|623-85-7102|  Ouachita|   AR|    South|      Louann|71751| 40000|         28|\n",
      "|832197|              October|     Grosso|     F|vikki.grosso@hotm...|131-98-5564|   McHenry|   ND|  Midwest|      Bantry|58713| 40000|         14|\n",
      "|680938|             November|   Hillyard|     M|rosario.hillyard@...|307-37-6816|  Somerset|   PA|Northeast|   Tire Hill|15959| 40000|         30|\n",
      "|506893|                 June|Cumberbatch|     F|ariana.cumberbatc...|057-02-5798|Evangeline|   LA|    South|Saint Landry|71367| 40000|          4|\n",
      "+------+---------------------+-----------+------+--------------------+-----------+----------+-----+---------+------------+-----+------+-----------+\n",
      "only showing top 5 rows\n",
      "\n"
     ]
    }
   ],
   "source": [
    "task5 = df.orderBy([\"Salary\"])\n",
    "task5.show(5)"
   ]
  },
  {
   "cell_type": "code",
   "execution_count": 21,
   "metadata": {},
   "outputs": [
    {
     "name": "stdout",
     "output_type": "stream",
     "text": [
      "SparkSession Stopped Successfully!\n"
     ]
    }
   ],
   "source": [
    "spark.stop()\n",
    "print(\"SparkSession Stopped Successfully!\")"
   ]
  }
 ],
 "metadata": {
  "kernelspec": {
   "display_name": "Python 3",
   "language": "python",
   "name": "python3"
  },
  "language_info": {
   "codemirror_mode": {
    "name": "ipython",
    "version": 3
   },
   "file_extension": ".py",
   "mimetype": "text/x-python",
   "name": "python",
   "nbconvert_exporter": "python",
   "pygments_lexer": "ipython3",
   "version": "3.6.9"
  }
 },
 "nbformat": 4,
 "nbformat_minor": 4
}
