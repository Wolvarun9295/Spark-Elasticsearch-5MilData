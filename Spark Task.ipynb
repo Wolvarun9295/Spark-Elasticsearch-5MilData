{
 "cells": [
  {
   "cell_type": "markdown",
   "metadata": {},
   "source": [
    "### Importing the libraries"
   ]
  },
  {
   "cell_type": "code",
   "execution_count": 97,
   "metadata": {},
   "outputs": [],
   "source": [
    "import findspark\n",
    "from pyspark.sql import SQLContext as spark, SparkSession\n",
    "import pandas as pd"
   ]
  },
  {
   "cell_type": "markdown",
   "metadata": {},
   "source": [
    "### Finding locally installed Spark"
   ]
  },
  {
   "cell_type": "code",
   "execution_count": 84,
   "metadata": {},
   "outputs": [],
   "source": [
    "findspark.init(\"/usr/local/spark/\")"
   ]
  },
  {
   "cell_type": "markdown",
   "metadata": {},
   "source": [
    "### Reading all the columns in CSV file using Pandas"
   ]
  },
  {
   "cell_type": "code",
   "execution_count": 85,
   "metadata": {},
   "outputs": [
    {
     "name": "stdout",
     "output_type": "stream",
     "text": [
      "Emp ID\n",
      "Name Prefix\n",
      "First Name\n",
      "Middle Initial\n",
      "Last Name\n",
      "Gender\n",
      "E Mail\n",
      "Father's Name\n",
      "Mother's Name\n",
      "Mother's Maiden Name\n",
      "Date of Birth\n",
      "Time of Birth\n",
      "Age in Yrs.\n",
      "Weight in Kgs.\n",
      "Date of Joining\n",
      "Quarter of Joining\n",
      "Half of Joining\n",
      "Year of Joining\n",
      "Month of Joining\n",
      "Month Name of Joining\n",
      "Short Month\n",
      "Day of Joining\n",
      "DOW of Joining\n",
      "Short DOW\n",
      "Age in Company (Years)\n",
      "Salary\n",
      "Last % Hike\n",
      "SSN\n",
      "Phone No. \n",
      "Place Name\n",
      "County\n",
      "City\n",
      "State\n",
      "Zip\n",
      "Region\n",
      "User Name\n",
      "Password\n"
     ]
    }
   ],
   "source": [
    "data = pd.read_csv(\"/home/ubuntu/10000 Records.csv\", low_memory=False)\n",
    "cols = data.columns\n",
    "for col in cols:\n",
    "    print(col)"
   ]
  },
  {
   "cell_type": "markdown",
   "metadata": {},
   "source": [
    "### Creating Pandas Dataframe by selecting useful columns from the CSV"
   ]
  },
  {
   "cell_type": "code",
   "execution_count": 86,
   "metadata": {},
   "outputs": [
    {
     "data": {
      "text/html": [
       "<div>\n",
       "<style scoped>\n",
       "    .dataframe tbody tr th:only-of-type {\n",
       "        vertical-align: middle;\n",
       "    }\n",
       "\n",
       "    .dataframe tbody tr th {\n",
       "        vertical-align: top;\n",
       "    }\n",
       "\n",
       "    .dataframe thead th {\n",
       "        text-align: right;\n",
       "    }\n",
       "</style>\n",
       "<table border=\"1\" class=\"dataframe\">\n",
       "  <thead>\n",
       "    <tr style=\"text-align: right;\">\n",
       "      <th></th>\n",
       "      <th>Emp ID</th>\n",
       "      <th>Month Name of Joining</th>\n",
       "      <th>Gender</th>\n",
       "      <th>E Mail</th>\n",
       "      <th>SSN</th>\n",
       "      <th>County</th>\n",
       "      <th>State</th>\n",
       "      <th>Region</th>\n",
       "      <th>City</th>\n",
       "      <th>Zip</th>\n",
       "      <th>Salary</th>\n",
       "      <th>Last % Hike</th>\n",
       "    </tr>\n",
       "  </thead>\n",
       "  <tbody>\n",
       "    <tr>\n",
       "      <th>0</th>\n",
       "      <td>198429</td>\n",
       "      <td>February</td>\n",
       "      <td>F</td>\n",
       "      <td>serafina.bumgarner@exxonmobil.com</td>\n",
       "      <td>063-02-3609</td>\n",
       "      <td>Chautauqua</td>\n",
       "      <td>NY</td>\n",
       "      <td>Northeast</td>\n",
       "      <td>Clymer</td>\n",
       "      <td>14724</td>\n",
       "      <td>69294</td>\n",
       "      <td>14%</td>\n",
       "    </tr>\n",
       "    <tr>\n",
       "      <th>1</th>\n",
       "      <td>178566</td>\n",
       "      <td>June</td>\n",
       "      <td>F</td>\n",
       "      <td>juliette.rojo@yahoo.co.uk</td>\n",
       "      <td>671-48-9915</td>\n",
       "      <td>Montgomery</td>\n",
       "      <td>PA</td>\n",
       "      <td>Northeast</td>\n",
       "      <td>Glenside</td>\n",
       "      <td>19038</td>\n",
       "      <td>193912</td>\n",
       "      <td>27%</td>\n",
       "    </tr>\n",
       "    <tr>\n",
       "      <th>2</th>\n",
       "      <td>647173</td>\n",
       "      <td>January</td>\n",
       "      <td>M</td>\n",
       "      <td>milan.krawczyk@hotmail.com</td>\n",
       "      <td>527-99-6328</td>\n",
       "      <td>Anne Arundel</td>\n",
       "      <td>MD</td>\n",
       "      <td>South</td>\n",
       "      <td>Gibson Island</td>\n",
       "      <td>21056</td>\n",
       "      <td>123681</td>\n",
       "      <td>11%</td>\n",
       "    </tr>\n",
       "    <tr>\n",
       "      <th>3</th>\n",
       "      <td>847634</td>\n",
       "      <td>May</td>\n",
       "      <td>M</td>\n",
       "      <td>elmer.jason@yahoo.com</td>\n",
       "      <td>063-02-5994</td>\n",
       "      <td>Washington</td>\n",
       "      <td>VA</td>\n",
       "      <td>South</td>\n",
       "      <td>Mendota</td>\n",
       "      <td>24270</td>\n",
       "      <td>93504</td>\n",
       "      <td>26%</td>\n",
       "    </tr>\n",
       "    <tr>\n",
       "      <th>4</th>\n",
       "      <td>260736</td>\n",
       "      <td>January</td>\n",
       "      <td>F</td>\n",
       "      <td>zelda.forest@ibm.com</td>\n",
       "      <td>421-67-5501</td>\n",
       "      <td>Schenectady</td>\n",
       "      <td>NY</td>\n",
       "      <td>Northeast</td>\n",
       "      <td>Schenectady</td>\n",
       "      <td>12306</td>\n",
       "      <td>176642</td>\n",
       "      <td>29%</td>\n",
       "    </tr>\n",
       "  </tbody>\n",
       "</table>\n",
       "</div>"
      ],
      "text/plain": [
       "   Emp ID Month Name of Joining Gender                             E Mail  \\\n",
       "0  198429              February      F  serafina.bumgarner@exxonmobil.com   \n",
       "1  178566                  June      F          juliette.rojo@yahoo.co.uk   \n",
       "2  647173               January      M         milan.krawczyk@hotmail.com   \n",
       "3  847634                   May      M              elmer.jason@yahoo.com   \n",
       "4  260736               January      F               zelda.forest@ibm.com   \n",
       "\n",
       "           SSN        County State     Region           City    Zip  Salary  \\\n",
       "0  063-02-3609    Chautauqua    NY  Northeast         Clymer  14724   69294   \n",
       "1  671-48-9915    Montgomery    PA  Northeast       Glenside  19038  193912   \n",
       "2  527-99-6328  Anne Arundel    MD      South  Gibson Island  21056  123681   \n",
       "3  063-02-5994    Washington    VA      South        Mendota  24270   93504   \n",
       "4  421-67-5501   Schenectady    NY  Northeast    Schenectady  12306  176642   \n",
       "\n",
       "  Last % Hike  \n",
       "0         14%  \n",
       "1         27%  \n",
       "2         11%  \n",
       "3         26%  \n",
       "4         29%  "
      ]
     },
     "execution_count": 86,
     "metadata": {},
     "output_type": "execute_result"
    }
   ],
   "source": [
    "ndata = data[[\"Emp ID\", \"Month Name of Joining\", \"Gender\", \"E Mail\", \"SSN\", \"County\", \"State\", \"Region\", \"City\", \"Zip\", \"Salary\", \"Last % Hike\"]]\n",
    "ndata.head()"
   ]
  },
  {
   "cell_type": "markdown",
   "metadata": {},
   "source": [
    "### Creating Spark Session"
   ]
  },
  {
   "cell_type": "code",
   "execution_count": 87,
   "metadata": {},
   "outputs": [],
   "source": [
    "spark = SparkSession.builder.appName('task').getOrCreate()"
   ]
  },
  {
   "cell_type": "markdown",
   "metadata": {},
   "source": [
    "### Reading CSV with Spark"
   ]
  },
  {
   "cell_type": "code",
   "execution_count": 88,
   "metadata": {},
   "outputs": [
    {
     "name": "stdout",
     "output_type": "stream",
     "text": [
      "+------+---------------------+---------+------+--------------------+-----------+------------+-----+---------+-------------+-----+------+-----------+\n",
      "|Emp ID|Month Name of Joining|Last Name|Gender|              E Mail|        SSN|      County|State|   Region|         City|  Zip|Salary|Last % Hike|\n",
      "+------+---------------------+---------+------+--------------------+-----------+------------+-----+---------+-------------+-----+------+-----------+\n",
      "|198429|             February|Bumgarner|     F|serafina.bumgarne...|063-02-3609|  Chautauqua|   NY|Northeast|       Clymer|14724| 69294|        14%|\n",
      "|178566|                 June|     Rojo|     F|juliette.rojo@yah...|671-48-9915|  Montgomery|   PA|Northeast|     Glenside|19038|193912|        27%|\n",
      "|647173|              January| Krawczyk|     M|milan.krawczyk@ho...|527-99-6328|Anne Arundel|   MD|    South|Gibson Island|21056|123681|        11%|\n",
      "|847634|                  May|    Jason|     M|elmer.jason@yahoo...|063-02-5994|  Washington|   VA|    South|      Mendota|24270| 93504|        26%|\n",
      "|260736|              January|   Forest|     F|zelda.forest@ibm.com|421-67-5501| Schenectady|   NY|Northeast|  Schenectady|12306|176642|        29%|\n",
      "+------+---------------------+---------+------+--------------------+-----------+------------+-----+---------+-------------+-----+------+-----------+\n",
      "only showing top 5 rows\n",
      "\n"
     ]
    }
   ],
   "source": [
    "df = spark.read.csv('/home/ubuntu/10000 Records.csv', header=True, inferSchema = True)[\"Emp ID\", \"Month Name of Joining\", \"Last Name\", \"Gender\", \"E Mail\", \"SSN\", \"County\", \"State\", \"Region\", \"City\", \"Zip\", \"Salary\", \"Last % Hike\"]\n",
    "df.show(5)"
   ]
  },
  {
   "cell_type": "markdown",
   "metadata": {},
   "source": [
    "### Task 1: Count the number of employees in each County, Region and City"
   ]
  },
  {
   "cell_type": "code",
   "execution_count": 89,
   "metadata": {},
   "outputs": [
    {
     "name": "stdout",
     "output_type": "stream",
     "text": [
      "+--------------------+---------------------------+\n",
      "|              County|No. of Employees Per County|\n",
      "+--------------------+---------------------------+\n",
      "|               Bucks|                         14|\n",
      "|           Worcester|                         21|\n",
      "|            Thurston|                          3|\n",
      "|              Grimes|                          2|\n",
      "|Skagway-Hoonah-An...|                          2|\n",
      "+--------------------+---------------------------+\n",
      "only showing top 5 rows\n",
      "\n"
     ]
    }
   ],
   "source": [
    "task11 = df.groupBy(\"County\").agg(func.countDistinct(\"Emp ID\").alias('No. of Employees Per County'))\n",
    "task11.show(5)"
   ]
  },
  {
   "cell_type": "code",
   "execution_count": 90,
   "metadata": {},
   "outputs": [
    {
     "name": "stdout",
     "output_type": "stream",
     "text": [
      "+---------+---------------------------+\n",
      "|   Region|No. of Employees Per Region|\n",
      "+---------+---------------------------+\n",
      "|  Midwest|                       2819|\n",
      "|    South|                       3647|\n",
      "|     West|                       1747|\n",
      "|Northeast|                       1773|\n",
      "+---------+---------------------------+\n",
      "\n"
     ]
    }
   ],
   "source": [
    "task12 = df.groupBy(\"Region\").agg(func.countDistinct(\"Emp ID\").alias('No. of Employees Per Region'))\n",
    "task12.show(5)"
   ]
  },
  {
   "cell_type": "code",
   "execution_count": 91,
   "metadata": {},
   "outputs": [
    {
     "name": "stdout",
     "output_type": "stream",
     "text": [
      "+---------+-------------------------+\n",
      "|     City|No. of Employees Per City|\n",
      "+---------+-------------------------+\n",
      "|   Scuddy|                        1|\n",
      "|  Maxbass|                        2|\n",
      "| Fredonia|                        3|\n",
      "|    Tyler|                        1|\n",
      "|Fairbanks|                        5|\n",
      "+---------+-------------------------+\n",
      "only showing top 5 rows\n",
      "\n"
     ]
    }
   ],
   "source": [
    "task13 = df.groupBy(\"City\").agg(func.countDistinct(\"Emp ID\").alias('No. of Employees Per City'))\n",
    "task13.show(5)"
   ]
  },
  {
   "cell_type": "markdown",
   "metadata": {},
   "source": [
    "### Task 2: Generate employee summary"
   ]
  },
  {
   "cell_type": "code",
   "execution_count": 92,
   "metadata": {},
   "outputs": [
    {
     "name": "stdout",
     "output_type": "stream",
     "text": [
      "+------+---------------------+---------+------+--------------------+-----------+----------+-----+---------+--------------+-----+------+-----------+\n",
      "|Emp ID|Month Name of Joining|Last Name|Gender|              E Mail|        SSN|    County|State|   Region|          City|  Zip|Salary|Last % Hike|\n",
      "+------+---------------------+---------+------+--------------------+-----------+----------+-----+---------+--------------+-----+------+-----------+\n",
      "|111282|             February|  Boykins|     M|claude.boykins@ho...|316-35-9848| Dinwiddie|   VA|    South|     Mc Kenney|23872|118158|        26%|\n",
      "|111415|                March|Sebastian|     M|gene.sebastian@ya...|294-15-0140|   Houston|   GA|    South| Warner Robins|31099|139501|        20%|\n",
      "|111498|                  May|  Dickman|     F|wan.dickman@walma...|704-18-5219|    Benton|   IA|  Midwest|  Mount Auburn|52313|173022|        21%|\n",
      "|111730|             December|     Buie|     F|nickie.buie@gmail...|607-87-9903|   Carroll|   NH|Northeast|East Wakefield| 3830|141852|        29%|\n",
      "|111787|                April|   Kaplan|     F|phyliss.kaplan@ho...|703-18-5144|Miami-Dade|   FL|    South|         Miami|33133| 86657|        29%|\n",
      "+------+---------------------+---------+------+--------------------+-----------+----------+-----+---------+--------------+-----+------+-----------+\n",
      "only showing top 5 rows\n",
      "\n"
     ]
    }
   ],
   "source": [
    "task2 = df.sort(\"Emp ID\")\n",
    "task2.show(5)"
   ]
  },
  {
   "cell_type": "markdown",
   "metadata": {},
   "source": [
    "### Task 3: Generate employee summary and ordering by Gender and Salary"
   ]
  },
  {
   "cell_type": "code",
   "execution_count": 93,
   "metadata": {},
   "outputs": [
    {
     "name": "stdout",
     "output_type": "stream",
     "text": [
      "+------+---------------------+----------+------+--------------------+-----------+-----------+-----+-------+-----------+-----+------+-----------+\n",
      "|Emp ID|Month Name of Joining| Last Name|Gender|              E Mail|        SSN|     County|State| Region|       City|  Zip|Salary|Last % Hike|\n",
      "+------+---------------------+----------+------+--------------------+-----------+-----------+-----+-------+-----------+-----+------+-----------+\n",
      "|338798|                  May|    Conley|     F|jodi.conley@chart...|084-02-6421|Los Angeles|   CA|   West|   Glendale|91210| 40009|         1%|\n",
      "|644604|               August|   Brazell|     F|lorina.brazell@nt...|308-37-1932|      Lucas|   OH|Midwest|     Toledo|43635| 40015|        12%|\n",
      "|946170|             November|Lafontaine|     F|anja.lafontaine@y...|116-98-7081|    Henrico|   VA|  South|   Sandston|23150| 40049|        21%|\n",
      "|893122|                 June|     Raber|     F|sharan.raber@gmai...|480-41-0592|  Baltimore|   MD|  South|Hunt Valley|21031| 40051|         5%|\n",
      "|442211|                April|   Millett|     F|yang.millett@aol.com|154-23-0055|   Shoshone|   ID|   West|    Clarkia|83812| 40069|        26%|\n",
      "+------+---------------------+----------+------+--------------------+-----------+-----------+-----+-------+-----------+-----+------+-----------+\n",
      "only showing top 5 rows\n",
      "\n"
     ]
    }
   ],
   "source": [
    "task3 = df.orderBy([\"Gender\", \"Salary\"])\n",
    "task3.show(5)"
   ]
  },
  {
   "cell_type": "markdown",
   "metadata": {},
   "source": [
    "### Task 4: Summerize the number of employee joined and hikes granted based on month"
   ]
  },
  {
   "cell_type": "code",
   "execution_count": 95,
   "metadata": {},
   "outputs": [
    {
     "name": "stdout",
     "output_type": "stream",
     "text": [
      "+---------------------+-------------------------------------------+\n",
      "|Month Name of Joining|No. of Employees Joined in Particular Month|\n",
      "+---------------------+-------------------------------------------+\n",
      "|                 July|                                        901|\n",
      "|             November|                                        787|\n",
      "|             February|                                        782|\n",
      "|              January|                                        836|\n",
      "|                March|                                        867|\n",
      "|              October|                                        811|\n",
      "|                  May|                                        846|\n",
      "|               August|                                        808|\n",
      "|                April|                                        851|\n",
      "|                 June|                                        894|\n",
      "|             December|                                        826|\n",
      "|            September|                                        786|\n",
      "+---------------------+-------------------------------------------+\n",
      "\n"
     ]
    }
   ],
   "source": [
    "task41 = df.groupBy(\"Month Name of Joining\").agg(func.countDistinct(\"Emp ID\").alias('No. of Employees Joined in Particular Month'))\n",
    "task41.show()"
   ]
  },
  {
   "cell_type": "code",
   "execution_count": 96,
   "metadata": {},
   "outputs": [
    {
     "name": "stdout",
     "output_type": "stream",
     "text": [
      "+---------------------+----------------------------------------+\n",
      "|Month Name of Joining|No. of Hikes granted in Particular Month|\n",
      "+---------------------+----------------------------------------+\n",
      "|                 July|                                      31|\n",
      "|             November|                                      31|\n",
      "|             February|                                      31|\n",
      "|              January|                                      31|\n",
      "|                March|                                      31|\n",
      "|              October|                                      31|\n",
      "|                  May|                                      31|\n",
      "|               August|                                      31|\n",
      "|                April|                                      31|\n",
      "|                 June|                                      31|\n",
      "|             December|                                      31|\n",
      "|            September|                                      31|\n",
      "+---------------------+----------------------------------------+\n",
      "\n"
     ]
    }
   ],
   "source": [
    "task42 = df.groupBy(\"Month Name of Joining\").agg(func.countDistinct(\"Last % Hike\").alias('No. of Hikes granted in Particular Month'))\n",
    "task42.show()"
   ]
  },
  {
   "cell_type": "markdown",
   "metadata": {},
   "source": [
    "### Task 5: Generate employee summary and ordering by Salary"
   ]
  },
  {
   "cell_type": "code",
   "execution_count": 94,
   "metadata": {},
   "outputs": [
    {
     "name": "stdout",
     "output_type": "stream",
     "text": [
      "+------+---------------------+---------+------+--------------------+-----------+-------------+-----+---------+-------------+-----+------+-----------+\n",
      "|Emp ID|Month Name of Joining|Last Name|Gender|              E Mail|        SSN|       County|State|   Region|         City|  Zip|Salary|Last % Hike|\n",
      "+------+---------------------+---------+------+--------------------+-----------+-------------+-----+---------+-------------+-----+------+-----------+\n",
      "|373347|             December|   Shaner|     M|royce.shaner@hotm...|056-02-4379|East Freetown|   NY|Northeast|East Freetown|13055| 40007|        24%|\n",
      "|449798|             February|  Cleaves|     M|ben.cleaves@bells...|369-39-2187|     Montrose|   CO|     West|        Nucla|81424| 40009|        19%|\n",
      "|338798|                  May|   Conley|     F|jodi.conley@chart...|084-02-6421|  Los Angeles|   CA|     West|     Glendale|91210| 40009|         1%|\n",
      "|684725|            September|  Valerio|     M|peter.valerio@aol...|052-02-4357|        Burke|   GA|    South|   Waynesboro|30830| 40010|        26%|\n",
      "|644604|               August|  Brazell|     F|lorina.brazell@nt...|308-37-1932|        Lucas|   OH|  Midwest|       Toledo|43635| 40015|        12%|\n",
      "+------+---------------------+---------+------+--------------------+-----------+-------------+-----+---------+-------------+-----+------+-----------+\n",
      "only showing top 5 rows\n",
      "\n"
     ]
    }
   ],
   "source": [
    "task5 = df.orderBy([\"Salary\"])\n",
    "task5.show(5)"
   ]
  }
 ],
 "metadata": {
  "kernelspec": {
   "display_name": "Python 3",
   "language": "python",
   "name": "python3"
  },
  "language_info": {
   "codemirror_mode": {
    "name": "ipython",
    "version": 3
   },
   "file_extension": ".py",
   "mimetype": "text/x-python",
   "name": "python",
   "nbconvert_exporter": "python",
   "pygments_lexer": "ipython3",
   "version": "3.6.9"
  }
 },
 "nbformat": 4,
 "nbformat_minor": 4
}
