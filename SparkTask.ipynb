{
 "cells": [
  {
   "cell_type": "code",
   "execution_count": 2,
   "metadata": {},
   "outputs": [
    {
     "data": {
      "text/html": [
       "<style>.container { width:100% !important; }</style>"
      ],
      "text/plain": [
       "<IPython.core.display.HTML object>"
      ]
     },
     "metadata": {},
     "output_type": "display_data"
    }
   ],
   "source": [
    "from IPython.core.display import display, HTML\n",
    "display(HTML(\"<style>.container { width:100% !important; }</style>\"))"
   ]
  },
  {
   "cell_type": "markdown",
   "metadata": {},
   "source": [
    "### Finding locally installed Spark and importing PySpark libraries"
   ]
  },
  {
   "cell_type": "code",
   "execution_count": 3,
   "metadata": {},
   "outputs": [],
   "source": [
    "import findspark\n",
    "findspark.init(\"/usr/local/spark/\")\n",
    "from pyspark.sql import SparkSession, functions as func"
   ]
  },
  {
   "cell_type": "markdown",
   "metadata": {},
   "source": [
    "### Creating Spark Session"
   ]
  },
  {
   "cell_type": "code",
   "execution_count": 4,
   "metadata": {},
   "outputs": [],
   "source": [
    "spark = SparkSession.builder.appName('task').getOrCreate()"
   ]
  },
  {
   "cell_type": "markdown",
   "metadata": {},
   "source": [
    "### Reading CSV with Spark"
   ]
  },
  {
   "cell_type": "code",
   "execution_count": 5,
   "metadata": {},
   "outputs": [
    {
     "name": "stdout",
     "output_type": "stream",
     "text": [
      "+------+---------------------+---------+------+--------------------+-----------+------------+-----+---------+-------------+-----+------+-----------+\n",
      "|Emp ID|Month Name of Joining|Last Name|Gender|              E Mail|        SSN|      County|State|   Region|         City|  Zip|Salary|Salary Hike|\n",
      "+------+---------------------+---------+------+--------------------+-----------+------------+-----+---------+-------------+-----+------+-----------+\n",
      "|198429|             February|Bumgarner|     F|serafina.bumgarne...|063-02-3609|  Chautauqua|   NY|Northeast|       Clymer|14724| 69294|         14|\n",
      "|178566|                 June|     Rojo|     F|juliette.rojo@yah...|671-48-9915|  Montgomery|   PA|Northeast|     Glenside|19038|193912|         27|\n",
      "|647173|              January| Krawczyk|     M|milan.krawczyk@ho...|527-99-6328|Anne Arundel|   MD|    South|Gibson Island|21056|123681|         11|\n",
      "|847634|                  May|    Jason|     M|elmer.jason@yahoo...|063-02-5994|  Washington|   VA|    South|      Mendota|24270| 93504|         26|\n",
      "|260736|              January|   Forest|     F|zelda.forest@ibm.com|421-67-5501| Schenectady|   NY|Northeast|  Schenectady|12306|176642|         29|\n",
      "+------+---------------------+---------+------+--------------------+-----------+------------+-----+---------+-------------+-----+------+-----------+\n",
      "only showing top 5 rows\n",
      "\n"
     ]
    }
   ],
   "source": [
    "df = spark.read.csv('/home/ubuntu/10000 Records.csv', header=True, inferSchema = True).fillna(0)[\"Emp ID\", \"Month Name of Joining\", \"Last Name\", \"Gender\", \"E Mail\", \"SSN\", \"County\", \"State\", \"Region\", \"City\", \"Zip\", \"Salary\", func.regexp_replace(func.col(\"Last % Hike\"), \"%\", \"\").alias(\"Salary Hike\")]\n",
    "df.show(5)"
   ]
  },
  {
   "cell_type": "markdown",
   "metadata": {},
   "source": [
    "### Checking the total records in the PySpark Dataframe"
   ]
  },
  {
   "cell_type": "code",
   "execution_count": 6,
   "metadata": {},
   "outputs": [
    {
     "name": "stdout",
     "output_type": "stream",
     "text": [
      "Total records present: 10000\n"
     ]
    }
   ],
   "source": [
    "print(f\"Total records present: {df.count()}\")"
   ]
  },
  {
   "cell_type": "markdown",
   "metadata": {},
   "source": [
    "### Checking the data types"
   ]
  },
  {
   "cell_type": "code",
   "execution_count": 7,
   "metadata": {},
   "outputs": [
    {
     "data": {
      "text/plain": [
       "[('Emp ID', 'int'),\n",
       " ('Month Name of Joining', 'string'),\n",
       " ('Last Name', 'string'),\n",
       " ('Gender', 'string'),\n",
       " ('E Mail', 'string'),\n",
       " ('SSN', 'string'),\n",
       " ('County', 'string'),\n",
       " ('State', 'string'),\n",
       " ('Region', 'string'),\n",
       " ('City', 'string'),\n",
       " ('Zip', 'int'),\n",
       " ('Salary', 'int'),\n",
       " ('Salary Hike', 'string')]"
      ]
     },
     "execution_count": 7,
     "metadata": {},
     "output_type": "execute_result"
    }
   ],
   "source": [
    "df.dtypes"
   ]
  },
  {
   "cell_type": "markdown",
   "metadata": {},
   "source": [
    "### Casting 'string' value to 'int'"
   ]
  },
  {
   "cell_type": "code",
   "execution_count": 8,
   "metadata": {},
   "outputs": [
    {
     "data": {
      "text/plain": [
       "[('Emp ID', 'int'),\n",
       " ('Month Name of Joining', 'string'),\n",
       " ('Last Name', 'string'),\n",
       " ('Gender', 'string'),\n",
       " ('E Mail', 'string'),\n",
       " ('SSN', 'string'),\n",
       " ('County', 'string'),\n",
       " ('State', 'string'),\n",
       " ('Region', 'string'),\n",
       " ('City', 'string'),\n",
       " ('Zip', 'int'),\n",
       " ('Salary', 'int'),\n",
       " ('Salary Hike', 'int')]"
      ]
     },
     "execution_count": 8,
     "metadata": {},
     "output_type": "execute_result"
    }
   ],
   "source": [
    "df = (df.withColumn(\"Salary Hike\", df[\"Salary Hike\"].cast(\"int\")))\n",
    "df.dtypes"
   ]
  },
  {
   "cell_type": "markdown",
   "metadata": {},
   "source": [
    "### Checking if the changes have been made successfully"
   ]
  },
  {
   "cell_type": "code",
   "execution_count": 9,
   "metadata": {},
   "outputs": [
    {
     "name": "stdout",
     "output_type": "stream",
     "text": [
      "+------+---------------------+---------+------+--------------------+-----------+------------+-----+---------+---------------+-----+------+-----------+\n",
      "|Emp ID|Month Name of Joining|Last Name|Gender|              E Mail|        SSN|      County|State|   Region|           City|  Zip|Salary|Salary Hike|\n",
      "+------+---------------------+---------+------+--------------------+-----------+------------+-----+---------+---------------+-----+------+-----------+\n",
      "|198429|             February|Bumgarner|     F|serafina.bumgarne...|063-02-3609|  Chautauqua|   NY|Northeast|         Clymer|14724| 69294|         14|\n",
      "|178566|                 June|     Rojo|     F|juliette.rojo@yah...|671-48-9915|  Montgomery|   PA|Northeast|       Glenside|19038|193912|         27|\n",
      "|647173|              January| Krawczyk|     M|milan.krawczyk@ho...|527-99-6328|Anne Arundel|   MD|    South|  Gibson Island|21056|123681|         11|\n",
      "|847634|                  May|    Jason|     M|elmer.jason@yahoo...|063-02-5994|  Washington|   VA|    South|        Mendota|24270| 93504|         26|\n",
      "|260736|              January|   Forest|     F|zelda.forest@ibm.com|421-67-5501| Schenectady|   NY|Northeast|    Schenectady|12306|176642|         29|\n",
      "|811306|              January|      Wan|     M|rhett.wan@hotmail...|608-87-8674|      Fresno|   CA|     West|          Selma|93662| 59406|         25|\n",
      "|956633|             February|   Farrow|     M|  hal.farrow@cox.net|661-22-0722|  Stanislaus|   CA|     West|        Modesto|95353|164580|         21|\n",
      "|629539|                April|Fernandez|     M|del.fernandez@hot...|510-33-5541|     Portage|   OH|  Midwest|           Kent|44243|138662|         25|\n",
      "|784160|                 June|  Jackman|     M|corey.jackman@gma...|651-62-1513|     Jamaica|   NY|Northeast|        Jamaica|11480| 57616|         21|\n",
      "|744723|             November|  Paddock|     F|bibi.paddock@yaho...|311-35-3566|     Overton|   TN|    South|        Rickman|38580| 87148|          0|\n",
      "|423093|              October|  Manning|     M|eric.manning@yaho...|647-21-1863|     Fayette|   IA|  Midwest|       Clermont|52135|149363|          4|\n",
      "|207808|               August|   Hafner|     F|renetta.hafner@ao...|539-71-9884|     Broward|   FL|    South|Fort Lauderdale|33335|180289|         14|\n",
      "|338634|                  May|  Pearman|     F|paz.pearman@gmail...|665-22-7253|     Clayton|   IA|  Midwest|     Garnavillo|52049|144804|         25|\n",
      "|324573|              October|   Forman|     F|ardath.forman@gma...|449-99-5082|      Clarke|   GA|    South|         Athens|30602|189373|         17|\n",
      "|953724|             November|   Osorio|     F|nanci.osorio@hotm...|571-99-4191|     Grafton|   NH|Northeast|        Lincoln| 3251| 71321|         26|\n",
      "|138700|            September|   Simard|     F|maricela.simard@g...|157-23-8970|     Sampson|   NC|    South|         Ingold|28446| 88513|         20|\n",
      "|644265|             November|   Stoner|     F|avelina.stoner@ex...|532-71-2239|Westmoreland|   PA|Northeast|         Salina|15680|157826|         20|\n",
      "|223871|            September| Mattison|     F|christene.mattiso...|169-86-8872|      Jasper|   MO|  Midwest|           Alba|64830|177224|          6|\n",
      "|807262|             November|    Maeda|     M|stefan.maeda@yaho...|312-35-8549| St. Tammany|   LA|    South|        Slidell|70461| 67028|         25|\n",
      "|368234|             November|   Winter|     F|gillian.winter@gm...|486-29-0402|       Otero|   NM|     West|     Alamogordo|88310|103619|         10|\n",
      "+------+---------------------+---------+------+--------------------+-----------+------------+-----+---------+---------------+-----+------+-----------+\n",
      "only showing top 20 rows\n",
      "\n"
     ]
    }
   ],
   "source": [
    "df.show()"
   ]
  },
  {
   "cell_type": "markdown",
   "metadata": {},
   "source": [
    "### Checking the Schema"
   ]
  },
  {
   "cell_type": "code",
   "execution_count": 11,
   "metadata": {},
   "outputs": [
    {
     "name": "stdout",
     "output_type": "stream",
     "text": [
      "root\n",
      " |-- Emp ID: integer (nullable = true)\n",
      " |-- Month Name of Joining: string (nullable = true)\n",
      " |-- Last Name: string (nullable = true)\n",
      " |-- Gender: string (nullable = true)\n",
      " |-- E Mail: string (nullable = true)\n",
      " |-- SSN: string (nullable = true)\n",
      " |-- County: string (nullable = true)\n",
      " |-- State: string (nullable = true)\n",
      " |-- Region: string (nullable = true)\n",
      " |-- City: string (nullable = true)\n",
      " |-- Zip: integer (nullable = true)\n",
      " |-- Salary: integer (nullable = true)\n",
      " |-- Salary Hike: integer (nullable = true)\n",
      "\n"
     ]
    }
   ],
   "source": [
    "df.printSchema()"
   ]
  },
  {
   "cell_type": "markdown",
   "metadata": {},
   "source": [
    "### Task 1: Count the number of employees in each County, Region and City"
   ]
  },
  {
   "cell_type": "code",
   "execution_count": 12,
   "metadata": {},
   "outputs": [
    {
     "name": "stdout",
     "output_type": "stream",
     "text": [
      "+--------------------+---------------------------+\n",
      "|              County|No. of Employees Per County|\n",
      "+--------------------+---------------------------+\n",
      "|               Bucks|                         14|\n",
      "|           Worcester|                         21|\n",
      "|            Thurston|                          3|\n",
      "|              Grimes|                          2|\n",
      "|Skagway-Hoonah-An...|                          2|\n",
      "+--------------------+---------------------------+\n",
      "only showing top 5 rows\n",
      "\n"
     ]
    }
   ],
   "source": [
    "task11 = df.groupBy(\"County\").agg(func.countDistinct(\"Emp ID\").alias('No. of Employees Per County'))\n",
    "task11.show(5)"
   ]
  },
  {
   "cell_type": "code",
   "execution_count": 13,
   "metadata": {},
   "outputs": [
    {
     "name": "stdout",
     "output_type": "stream",
     "text": [
      "+---------+---------------------------+\n",
      "|   Region|No. of Employees Per Region|\n",
      "+---------+---------------------------+\n",
      "|  Midwest|                       2819|\n",
      "|    South|                       3647|\n",
      "|     West|                       1747|\n",
      "|Northeast|                       1773|\n",
      "+---------+---------------------------+\n",
      "\n"
     ]
    }
   ],
   "source": [
    "task12 = df.groupBy(\"Region\").agg(func.countDistinct(\"Emp ID\").alias('No. of Employees Per Region'))\n",
    "task12.show(5)"
   ]
  },
  {
   "cell_type": "code",
   "execution_count": 14,
   "metadata": {},
   "outputs": [
    {
     "name": "stdout",
     "output_type": "stream",
     "text": [
      "+---------+-------------------------+\n",
      "|     City|No. of Employees Per City|\n",
      "+---------+-------------------------+\n",
      "|   Scuddy|                        1|\n",
      "|  Maxbass|                        2|\n",
      "| Fredonia|                        3|\n",
      "|    Tyler|                        1|\n",
      "|Fairbanks|                        5|\n",
      "+---------+-------------------------+\n",
      "only showing top 5 rows\n",
      "\n"
     ]
    }
   ],
   "source": [
    "task13 = df.groupBy(\"City\").agg(func.countDistinct(\"Emp ID\").alias('No. of Employees Per City'))\n",
    "task13.show(5)"
   ]
  },
  {
   "cell_type": "markdown",
   "metadata": {},
   "source": [
    "### Task 2: Generate employee summary"
   ]
  },
  {
   "cell_type": "code",
   "execution_count": 15,
   "metadata": {},
   "outputs": [
    {
     "name": "stdout",
     "output_type": "stream",
     "text": [
      "+------+---------------------+---------+------+--------------------+-----------+----------+-----+---------+--------------+-----+------+-----------+\n",
      "|Emp ID|Month Name of Joining|Last Name|Gender|              E Mail|        SSN|    County|State|   Region|          City|  Zip|Salary|Salary Hike|\n",
      "+------+---------------------+---------+------+--------------------+-----------+----------+-----+---------+--------------+-----+------+-----------+\n",
      "|111282|             February|  Boykins|     M|claude.boykins@ho...|316-35-9848| Dinwiddie|   VA|    South|     Mc Kenney|23872|118158|         26|\n",
      "|111415|                March|Sebastian|     M|gene.sebastian@ya...|294-15-0140|   Houston|   GA|    South| Warner Robins|31099|139501|         20|\n",
      "|111498|                  May|  Dickman|     F|wan.dickman@walma...|704-18-5219|    Benton|   IA|  Midwest|  Mount Auburn|52313|173022|         21|\n",
      "|111730|             December|     Buie|     F|nickie.buie@gmail...|607-87-9903|   Carroll|   NH|Northeast|East Wakefield| 3830|141852|         29|\n",
      "|111787|                April|   Kaplan|     F|phyliss.kaplan@ho...|703-18-5144|Miami-Dade|   FL|    South|         Miami|33133| 86657|         29|\n",
      "+------+---------------------+---------+------+--------------------+-----------+----------+-----+---------+--------------+-----+------+-----------+\n",
      "only showing top 5 rows\n",
      "\n"
     ]
    }
   ],
   "source": [
    "task2 = df.sort(\"Emp ID\")\n",
    "task2.show(5)"
   ]
  },
  {
   "cell_type": "markdown",
   "metadata": {},
   "source": [
    "### Task 3: Generate employee summary and ordering by Gender and Salary"
   ]
  },
  {
   "cell_type": "code",
   "execution_count": 16,
   "metadata": {},
   "outputs": [
    {
     "name": "stdout",
     "output_type": "stream",
     "text": [
      "+------+---------------------+----------+------+--------------------+-----------+-----------+-----+-------+-----------+-----+------+-----------+\n",
      "|Emp ID|Month Name of Joining| Last Name|Gender|              E Mail|        SSN|     County|State| Region|       City|  Zip|Salary|Salary Hike|\n",
      "+------+---------------------+----------+------+--------------------+-----------+-----------+-----+-------+-----------+-----+------+-----------+\n",
      "|338798|                  May|    Conley|     F|jodi.conley@chart...|084-02-6421|Los Angeles|   CA|   West|   Glendale|91210| 40009|          1|\n",
      "|644604|               August|   Brazell|     F|lorina.brazell@nt...|308-37-1932|      Lucas|   OH|Midwest|     Toledo|43635| 40015|         12|\n",
      "|946170|             November|Lafontaine|     F|anja.lafontaine@y...|116-98-7081|    Henrico|   VA|  South|   Sandston|23150| 40049|         21|\n",
      "|893122|                 June|     Raber|     F|sharan.raber@gmai...|480-41-0592|  Baltimore|   MD|  South|Hunt Valley|21031| 40051|          5|\n",
      "|442211|                April|   Millett|     F|yang.millett@aol.com|154-23-0055|   Shoshone|   ID|   West|    Clarkia|83812| 40069|         26|\n",
      "+------+---------------------+----------+------+--------------------+-----------+-----------+-----+-------+-----------+-----+------+-----------+\n",
      "only showing top 5 rows\n",
      "\n"
     ]
    }
   ],
   "source": [
    "task3 = df.orderBy([\"Gender\", \"Salary\"])\n",
    "task3.show(5)"
   ]
  },
  {
   "cell_type": "markdown",
   "metadata": {},
   "source": [
    "### Task 4: Summerize the number of employee joined and hikes granted based on month"
   ]
  },
  {
   "cell_type": "code",
   "execution_count": 17,
   "metadata": {},
   "outputs": [
    {
     "name": "stdout",
     "output_type": "stream",
     "text": [
      "+---------------------+-------------------------------------------+\n",
      "|Month Name of Joining|No. of Employees Joined in Particular Month|\n",
      "+---------------------+-------------------------------------------+\n",
      "|                 July|                                        901|\n",
      "|             November|                                        787|\n",
      "|             February|                                        782|\n",
      "|              January|                                        836|\n",
      "|                March|                                        867|\n",
      "|              October|                                        811|\n",
      "|                  May|                                        846|\n",
      "|               August|                                        808|\n",
      "|                April|                                        851|\n",
      "|                 June|                                        894|\n",
      "|             December|                                        826|\n",
      "|            September|                                        786|\n",
      "+---------------------+-------------------------------------------+\n",
      "\n"
     ]
    }
   ],
   "source": [
    "task41 = df.groupBy(\"Month Name of Joining\").agg(func.countDistinct(\"Emp ID\").alias('No. of Employees Joined in Particular Month'))\n",
    "task41.show()"
   ]
  },
  {
   "cell_type": "code",
   "execution_count": 18,
   "metadata": {},
   "outputs": [
    {
     "name": "stdout",
     "output_type": "stream",
     "text": [
      "+---------------------+----------------------------------------+\n",
      "|Month Name of Joining|No. of Hikes granted in Particular Month|\n",
      "+---------------------+----------------------------------------+\n",
      "|                 July|                                      31|\n",
      "|             November|                                      31|\n",
      "|             February|                                      31|\n",
      "|              January|                                      31|\n",
      "|                March|                                      31|\n",
      "|              October|                                      31|\n",
      "|                  May|                                      31|\n",
      "|               August|                                      31|\n",
      "|                April|                                      31|\n",
      "|                 June|                                      31|\n",
      "|             December|                                      31|\n",
      "|            September|                                      31|\n",
      "+---------------------+----------------------------------------+\n",
      "\n"
     ]
    }
   ],
   "source": [
    "task42 = df.groupBy(\"Month Name of Joining\").agg(func.countDistinct(\"Salary Hike\").alias('No. of Hikes granted in Particular Month'))\n",
    "task42.show()"
   ]
  },
  {
   "cell_type": "markdown",
   "metadata": {},
   "source": [
    "### Task 5: Generate employee summary and ordering by Salary"
   ]
  },
  {
   "cell_type": "code",
   "execution_count": 19,
   "metadata": {},
   "outputs": [
    {
     "name": "stdout",
     "output_type": "stream",
     "text": [
      "+------+---------------------+---------+------+--------------------+-----------+-------------+-----+---------+-------------+-----+------+-----------+\n",
      "|Emp ID|Month Name of Joining|Last Name|Gender|              E Mail|        SSN|       County|State|   Region|         City|  Zip|Salary|Salary Hike|\n",
      "+------+---------------------+---------+------+--------------------+-----------+-------------+-----+---------+-------------+-----+------+-----------+\n",
      "|373347|             December|   Shaner|     M|royce.shaner@hotm...|056-02-4379|East Freetown|   NY|Northeast|East Freetown|13055| 40007|         24|\n",
      "|449798|             February|  Cleaves|     M|ben.cleaves@bells...|369-39-2187|     Montrose|   CO|     West|        Nucla|81424| 40009|         19|\n",
      "|338798|                  May|   Conley|     F|jodi.conley@chart...|084-02-6421|  Los Angeles|   CA|     West|     Glendale|91210| 40009|          1|\n",
      "|684725|            September|  Valerio|     M|peter.valerio@aol...|052-02-4357|        Burke|   GA|    South|   Waynesboro|30830| 40010|         26|\n",
      "|644604|               August|  Brazell|     F|lorina.brazell@nt...|308-37-1932|        Lucas|   OH|  Midwest|       Toledo|43635| 40015|         12|\n",
      "+------+---------------------+---------+------+--------------------+-----------+-------------+-----+---------+-------------+-----+------+-----------+\n",
      "only showing top 5 rows\n",
      "\n"
     ]
    }
   ],
   "source": [
    "task5 = df.orderBy([\"Salary\"])\n",
    "task5.show(5)"
   ]
  },
  {
   "cell_type": "code",
   "execution_count": 20,
   "metadata": {},
   "outputs": [
    {
     "name": "stdout",
     "output_type": "stream",
     "text": [
      "SparkSession Stopped Successfully!\n"
     ]
    }
   ],
   "source": [
    "spark.stop()\n",
    "print(\"SparkSession Stopped Successfully!\")"
   ]
  }
 ],
 "metadata": {
  "kernelspec": {
   "display_name": "Python 3",
   "language": "python",
   "name": "python3"
  },
  "language_info": {
   "codemirror_mode": {
    "name": "ipython",
    "version": 3
   },
   "file_extension": ".py",
   "mimetype": "text/x-python",
   "name": "python",
   "nbconvert_exporter": "python",
   "pygments_lexer": "ipython3",
   "version": "3.6.9"
  }
 },
 "nbformat": 4,
 "nbformat_minor": 4
}
