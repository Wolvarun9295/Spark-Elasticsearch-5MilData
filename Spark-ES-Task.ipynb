{
 "cells": [
  {
   "cell_type": "code",
   "execution_count": 1,
   "metadata": {},
   "outputs": [
    {
     "data": {
      "text/html": [
       "<style>.container { width:100% !important; }</style>"
      ],
      "text/plain": [
       "<IPython.core.display.HTML object>"
      ]
     },
     "metadata": {},
     "output_type": "display_data"
    }
   ],
   "source": [
    "from IPython.core.display import display, HTML\n",
    "display(HTML(\"<style>.container { width:100% !important; }</style>\"))"
   ]
  },
  {
   "cell_type": "markdown",
   "metadata": {},
   "source": [
    "### Importing the libraries"
   ]
  },
  {
   "cell_type": "code",
   "execution_count": 2,
   "metadata": {},
   "outputs": [],
   "source": [
    "import findspark\n",
    "from elasticsearch import Elasticsearch\n",
    "import requests\n",
    "from pprint import pprint"
   ]
  },
  {
   "cell_type": "markdown",
   "metadata": {},
   "source": [
    "### Finding locally installed Spark and importing PySpark libraries"
   ]
  },
  {
   "cell_type": "code",
   "execution_count": 3,
   "metadata": {},
   "outputs": [],
   "source": [
    "findspark.init(\"/usr/local/spark/\")\n",
    "from pyspark.sql import SparkSession, functions as func"
   ]
  },
  {
   "cell_type": "markdown",
   "metadata": {},
   "source": [
    "### Checking if Elasticsearch has successfully been connected"
   ]
  },
  {
   "cell_type": "code",
   "execution_count": 4,
   "metadata": {},
   "outputs": [
    {
     "name": "stdout",
     "output_type": "stream",
     "text": [
      "(b'{\\n  \"name\" : \"ip-172-31-14-175\",\\n  \"cluster_name\" : \"elasticsearch\",\\n  \"'\n",
      " b'cluster_uuid\" : \"ypf0RlCFQYytEO-JNW-MCg\",\\n  \"version\" : {\\n    \"number\" :'\n",
      " b' \"7.9.2\",\\n    \"build_flavor\" : \"default\",\\n    \"build_type\" : \"tar\",\\n    '\n",
      " b'\"build_hash\" : \"d34da0ea4a966c4e49417f2da2f244e3e97b4e6e\",\\n    \"build_da'\n",
      " b'te\" : \"2020-09-23T00:45:33.626720Z\",\\n    \"build_snapshot\" : false,\\n    \"'\n",
      " b'lucene_version\" : \"8.6.2\",\\n    \"minimum_wire_compatibility_version\" : \"6'\n",
      " b'.8.0\",\\n    \"minimum_index_compatibility_version\" : \"6.0.0-beta1\"\\n  },\\n  '\n",
      " b'\"tagline\" : \"You Know, for Search\"\\n}\\n')\n"
     ]
    }
   ],
   "source": [
    "res = requests.get('http://localhost:9200')\n",
    "pprint(res.content)"
   ]
  },
  {
   "cell_type": "markdown",
   "metadata": {},
   "source": [
    "### Creating an Elasticsearch object"
   ]
  },
  {
   "cell_type": "code",
   "execution_count": 5,
   "metadata": {},
   "outputs": [],
   "source": [
    "es = Elasticsearch([{'host': 'localhost', 'port': 9200}])"
   ]
  },
  {
   "cell_type": "markdown",
   "metadata": {},
   "source": [
    "### Creating Spark Session"
   ]
  },
  {
   "cell_type": "code",
   "execution_count": 6,
   "metadata": {},
   "outputs": [],
   "source": [
    "spark = SparkSession.builder.appName('task').getOrCreate()"
   ]
  },
  {
   "cell_type": "markdown",
   "metadata": {},
   "source": [
    "### Reading CSV with Spark and creating Dataframe"
   ]
  },
  {
   "cell_type": "code",
   "execution_count": 7,
   "metadata": {},
   "outputs": [
    {
     "name": "stdout",
     "output_type": "stream",
     "text": [
      "+------+---------------------+---------+------+--------------------+-----------+------------+-----+---------+-------------+-----+------+-----------+\n",
      "|Emp ID|Month Name of Joining|Last Name|Gender|              E Mail|        SSN|      County|State|   Region|         City|  Zip|Salary|Salary Hike|\n",
      "+------+---------------------+---------+------+--------------------+-----------+------------+-----+---------+-------------+-----+------+-----------+\n",
      "|198429|             February|Bumgarner|     F|serafina.bumgarne...|063-02-3609|  Chautauqua|   NY|Northeast|       Clymer|14724| 69294|         14|\n",
      "|178566|                 June|     Rojo|     F|juliette.rojo@yah...|671-48-9915|  Montgomery|   PA|Northeast|     Glenside|19038|193912|         27|\n",
      "|647173|              January| Krawczyk|     M|milan.krawczyk@ho...|527-99-6328|Anne Arundel|   MD|    South|Gibson Island|21056|123681|         11|\n",
      "|847634|                  May|    Jason|     M|elmer.jason@yahoo...|063-02-5994|  Washington|   VA|    South|      Mendota|24270| 93504|         26|\n",
      "|260736|              January|   Forest|     F|zelda.forest@ibm.com|421-67-5501| Schenectady|   NY|Northeast|  Schenectady|12306|176642|         29|\n",
      "+------+---------------------+---------+------+--------------------+-----------+------------+-----+---------+-------------+-----+------+-----------+\n",
      "only showing top 5 rows\n",
      "\n"
     ]
    }
   ],
   "source": [
    "df = spark.read.csv('/home/ubuntu/10000 Records.csv', header=True, inferSchema = True).fillna(0)[\"Emp ID\", \"Month Name of Joining\", \"Last Name\", \"Gender\", \"E Mail\", \"SSN\", \"County\", \"State\", \"Region\", \"City\", \"Zip\", \"Salary\", func.regexp_replace(func.col(\"Last % Hike\"), \"%\", \"\").alias(\"Salary Hike\")]\n",
    "df.show(5)"
   ]
  },
  {
   "cell_type": "markdown",
   "metadata": {},
   "source": [
    "### Checking the total records in the PySpark Dataframe"
   ]
  },
  {
   "cell_type": "code",
   "execution_count": 8,
   "metadata": {},
   "outputs": [
    {
     "data": {
      "text/plain": [
       "10000"
      ]
     },
     "execution_count": 8,
     "metadata": {},
     "output_type": "execute_result"
    }
   ],
   "source": [
    "df.count()"
   ]
  },
  {
   "cell_type": "markdown",
   "metadata": {},
   "source": [
    "### Checking the data types"
   ]
  },
  {
   "cell_type": "code",
   "execution_count": 9,
   "metadata": {},
   "outputs": [
    {
     "data": {
      "text/plain": [
       "[('Emp ID', 'int'),\n",
       " ('Month Name of Joining', 'string'),\n",
       " ('Last Name', 'string'),\n",
       " ('Gender', 'string'),\n",
       " ('E Mail', 'string'),\n",
       " ('SSN', 'string'),\n",
       " ('County', 'string'),\n",
       " ('State', 'string'),\n",
       " ('Region', 'string'),\n",
       " ('City', 'string'),\n",
       " ('Zip', 'int'),\n",
       " ('Salary', 'int'),\n",
       " ('Salary Hike', 'string')]"
      ]
     },
     "execution_count": 9,
     "metadata": {},
     "output_type": "execute_result"
    }
   ],
   "source": [
    "df.dtypes"
   ]
  },
  {
   "cell_type": "markdown",
   "metadata": {},
   "source": [
    "### Casting 'string' value to 'int'"
   ]
  },
  {
   "cell_type": "code",
   "execution_count": 10,
   "metadata": {},
   "outputs": [
    {
     "data": {
      "text/plain": [
       "[('Emp ID', 'int'),\n",
       " ('Month Name of Joining', 'string'),\n",
       " ('Last Name', 'string'),\n",
       " ('Gender', 'string'),\n",
       " ('E Mail', 'string'),\n",
       " ('SSN', 'string'),\n",
       " ('County', 'string'),\n",
       " ('State', 'string'),\n",
       " ('Region', 'string'),\n",
       " ('City', 'string'),\n",
       " ('Zip', 'int'),\n",
       " ('Salary', 'int'),\n",
       " ('Salary Hike', 'int')]"
      ]
     },
     "execution_count": 10,
     "metadata": {},
     "output_type": "execute_result"
    }
   ],
   "source": [
    "df = (df.withColumn(\"Salary Hike\", df[\"Salary Hike\"].cast(\"int\")))\n",
    "df.dtypes"
   ]
  },
  {
   "cell_type": "markdown",
   "metadata": {},
   "source": [
    "### Checking if the changes have been made successfully"
   ]
  },
  {
   "cell_type": "code",
   "execution_count": 11,
   "metadata": {},
   "outputs": [
    {
     "name": "stdout",
     "output_type": "stream",
     "text": [
      "+------+---------------------+---------+------+--------------------+-----------+------------+-----+---------+---------------+-----+------+-----------+\n",
      "|Emp ID|Month Name of Joining|Last Name|Gender|              E Mail|        SSN|      County|State|   Region|           City|  Zip|Salary|Salary Hike|\n",
      "+------+---------------------+---------+------+--------------------+-----------+------------+-----+---------+---------------+-----+------+-----------+\n",
      "|198429|             February|Bumgarner|     F|serafina.bumgarne...|063-02-3609|  Chautauqua|   NY|Northeast|         Clymer|14724| 69294|         14|\n",
      "|178566|                 June|     Rojo|     F|juliette.rojo@yah...|671-48-9915|  Montgomery|   PA|Northeast|       Glenside|19038|193912|         27|\n",
      "|647173|              January| Krawczyk|     M|milan.krawczyk@ho...|527-99-6328|Anne Arundel|   MD|    South|  Gibson Island|21056|123681|         11|\n",
      "|847634|                  May|    Jason|     M|elmer.jason@yahoo...|063-02-5994|  Washington|   VA|    South|        Mendota|24270| 93504|         26|\n",
      "|260736|              January|   Forest|     F|zelda.forest@ibm.com|421-67-5501| Schenectady|   NY|Northeast|    Schenectady|12306|176642|         29|\n",
      "|811306|              January|      Wan|     M|rhett.wan@hotmail...|608-87-8674|      Fresno|   CA|     West|          Selma|93662| 59406|         25|\n",
      "|956633|             February|   Farrow|     M|  hal.farrow@cox.net|661-22-0722|  Stanislaus|   CA|     West|        Modesto|95353|164580|         21|\n",
      "|629539|                April|Fernandez|     M|del.fernandez@hot...|510-33-5541|     Portage|   OH|  Midwest|           Kent|44243|138662|         25|\n",
      "|784160|                 June|  Jackman|     M|corey.jackman@gma...|651-62-1513|     Jamaica|   NY|Northeast|        Jamaica|11480| 57616|         21|\n",
      "|744723|             November|  Paddock|     F|bibi.paddock@yaho...|311-35-3566|     Overton|   TN|    South|        Rickman|38580| 87148|          0|\n",
      "|423093|              October|  Manning|     M|eric.manning@yaho...|647-21-1863|     Fayette|   IA|  Midwest|       Clermont|52135|149363|          4|\n",
      "|207808|               August|   Hafner|     F|renetta.hafner@ao...|539-71-9884|     Broward|   FL|    South|Fort Lauderdale|33335|180289|         14|\n",
      "|338634|                  May|  Pearman|     F|paz.pearman@gmail...|665-22-7253|     Clayton|   IA|  Midwest|     Garnavillo|52049|144804|         25|\n",
      "|324573|              October|   Forman|     F|ardath.forman@gma...|449-99-5082|      Clarke|   GA|    South|         Athens|30602|189373|         17|\n",
      "|953724|             November|   Osorio|     F|nanci.osorio@hotm...|571-99-4191|     Grafton|   NH|Northeast|        Lincoln| 3251| 71321|         26|\n",
      "|138700|            September|   Simard|     F|maricela.simard@g...|157-23-8970|     Sampson|   NC|    South|         Ingold|28446| 88513|         20|\n",
      "|644265|             November|   Stoner|     F|avelina.stoner@ex...|532-71-2239|Westmoreland|   PA|Northeast|         Salina|15680|157826|         20|\n",
      "|223871|            September| Mattison|     F|christene.mattiso...|169-86-8872|      Jasper|   MO|  Midwest|           Alba|64830|177224|          6|\n",
      "|807262|             November|    Maeda|     M|stefan.maeda@yaho...|312-35-8549| St. Tammany|   LA|    South|        Slidell|70461| 67028|         25|\n",
      "|368234|             November|   Winter|     F|gillian.winter@gm...|486-29-0402|       Otero|   NM|     West|     Alamogordo|88310|103619|         10|\n",
      "+------+---------------------+---------+------+--------------------+-----------+------------+-----+---------+---------------+-----+------+-----------+\n",
      "only showing top 20 rows\n",
      "\n"
     ]
    }
   ],
   "source": [
    "df.show()"
   ]
  },
  {
   "cell_type": "markdown",
   "metadata": {},
   "source": [
    "### Checking the Schema"
   ]
  },
  {
   "cell_type": "code",
   "execution_count": 12,
   "metadata": {},
   "outputs": [
    {
     "name": "stdout",
     "output_type": "stream",
     "text": [
      "root\n",
      " |-- Emp ID: integer (nullable = true)\n",
      " |-- Month Name of Joining: string (nullable = true)\n",
      " |-- Last Name: string (nullable = true)\n",
      " |-- Gender: string (nullable = true)\n",
      " |-- E Mail: string (nullable = true)\n",
      " |-- SSN: string (nullable = true)\n",
      " |-- County: string (nullable = true)\n",
      " |-- State: string (nullable = true)\n",
      " |-- Region: string (nullable = true)\n",
      " |-- City: string (nullable = true)\n",
      " |-- Zip: integer (nullable = true)\n",
      " |-- Salary: integer (nullable = true)\n",
      " |-- Salary Hike: integer (nullable = true)\n",
      "\n"
     ]
    }
   ],
   "source": [
    "df.printSchema()"
   ]
  },
  {
   "cell_type": "markdown",
   "metadata": {},
   "source": [
    "### Ingesting Pyspark Dataframe in Elasticsearch directly"
   ]
  },
  {
   "cell_type": "code",
   "execution_count": 13,
   "metadata": {},
   "outputs": [],
   "source": [
    "df.write.format(\n",
    "    \"org.elasticsearch.spark.sql\"\n",
    ").option(\n",
    "    \"es.resource\", '%s' % ('humans')\n",
    ").option(\n",
    "    \"es.nodes\", 'localhost'\n",
    ").option(\n",
    "    \"es.port\", '9200'\n",
    ").save()"
   ]
  },
  {
   "cell_type": "markdown",
   "metadata": {},
   "source": [
    "### Setting the output limit"
   ]
  },
  {
   "cell_type": "code",
   "execution_count": 14,
   "metadata": {},
   "outputs": [
    {
     "data": {
      "text/plain": [
       "{'acknowledged': True}"
      ]
     },
     "execution_count": 14,
     "metadata": {},
     "output_type": "execute_result"
    }
   ],
   "source": [
    "es.indices.put_settings(index=\"humans\", body = {\"index\" : { \"max_result_window\" : 5000000 }})"
   ]
  },
  {
   "cell_type": "markdown",
   "metadata": {},
   "source": [
    "### Counting the records in index to see if PySpark Dataframe has been successfully ingested"
   ]
  },
  {
   "cell_type": "code",
   "execution_count": 15,
   "metadata": {},
   "outputs": [
    {
     "data": {
      "text/plain": [
       "{'count': 10000,\n",
       " '_shards': {'total': 1, 'successful': 1, 'skipped': 0, 'failed': 0}}"
      ]
     },
     "execution_count": 15,
     "metadata": {},
     "output_type": "execute_result"
    }
   ],
   "source": [
    "es.count(index= \"humans\")"
   ]
  },
  {
   "cell_type": "markdown",
   "metadata": {},
   "source": [
    "### Task 1: Count the number of employees in each County, Region and City"
   ]
  },
  {
   "cell_type": "code",
   "execution_count": 16,
   "metadata": {},
   "outputs": [
    {
     "data": {
      "text/plain": [
       "{'took': 11,\n",
       " 'timed_out': False,\n",
       " '_shards': {'total': 1, 'successful': 1, 'skipped': 0, 'failed': 0},\n",
       " 'hits': {'total': {'value': 10000, 'relation': 'eq'},\n",
       "  'max_score': None,\n",
       "  'hits': []},\n",
       " 'aggregations': {'No. of Employees in per County': {'doc_count_error_upper_bound': 0,\n",
       "   'sum_other_doc_count': 9165,\n",
       "   'buckets': [{'key': 'Los Angeles', 'doc_count': 122},\n",
       "    {'key': 'Jefferson', 'doc_count': 119},\n",
       "    {'key': 'Washington', 'doc_count': 105},\n",
       "    {'key': 'Montgomery', 'doc_count': 98},\n",
       "    {'key': 'Jackson', 'doc_count': 76},\n",
       "    {'key': 'Franklin', 'doc_count': 73},\n",
       "    {'key': 'Orange', 'doc_count': 70},\n",
       "    {'key': 'District of Columbia', 'doc_count': 58},\n",
       "    {'key': 'Polk', 'doc_count': 58},\n",
       "    {'key': 'Clark', 'doc_count': 56}]}}}"
      ]
     },
     "execution_count": 16,
     "metadata": {},
     "output_type": "execute_result"
    }
   ],
   "source": [
    "es.search(index=\"humans\", size=0, body={\"query\": {\"match_all\": {}}, \"aggs\":{\"No. of Employees in per County\" : {\"terms\":{\"field\": \"County.keyword\"}}}})"
   ]
  },
  {
   "cell_type": "code",
   "execution_count": 17,
   "metadata": {},
   "outputs": [
    {
     "data": {
      "text/plain": [
       "{'took': 2,\n",
       " 'timed_out': False,\n",
       " '_shards': {'total': 1, 'successful': 1, 'skipped': 0, 'failed': 0},\n",
       " 'hits': {'total': {'value': 10000, 'relation': 'eq'},\n",
       "  'max_score': None,\n",
       "  'hits': []},\n",
       " 'aggregations': {'No. of Employees per Region': {'doc_count_error_upper_bound': 0,\n",
       "   'sum_other_doc_count': 0,\n",
       "   'buckets': [{'key': 'South', 'doc_count': 3652},\n",
       "    {'key': 'Midwest', 'doc_count': 2821},\n",
       "    {'key': 'Northeast', 'doc_count': 1777},\n",
       "    {'key': 'West', 'doc_count': 1750}]}}}"
      ]
     },
     "execution_count": 17,
     "metadata": {},
     "output_type": "execute_result"
    }
   ],
   "source": [
    "es.search(index=\"humans\", size=0, body={\"query\": {\"match_all\": {}}, \"aggs\":{\"No. of Employees per Region\" : {\"terms\":{\"field\": \"Region.keyword\"}}}})"
   ]
  },
  {
   "cell_type": "code",
   "execution_count": 18,
   "metadata": {},
   "outputs": [
    {
     "data": {
      "text/plain": [
       "{'took': 6,\n",
       " 'timed_out': False,\n",
       " '_shards': {'total': 1, 'successful': 1, 'skipped': 0, 'failed': 0},\n",
       " 'hits': {'total': {'value': 10000, 'relation': 'eq'},\n",
       "  'max_score': None,\n",
       "  'hits': []},\n",
       " 'aggregations': {'No. of Employees per City': {'doc_count_error_upper_bound': 0,\n",
       "   'sum_other_doc_count': 9661,\n",
       "   'buckets': [{'key': 'Washington', 'doc_count': 69},\n",
       "    {'key': 'El Paso', 'doc_count': 39},\n",
       "    {'key': 'Houston', 'doc_count': 35},\n",
       "    {'key': 'New York City', 'doc_count': 33},\n",
       "    {'key': 'Miami', 'doc_count': 30},\n",
       "    {'key': 'Sacramento', 'doc_count': 28},\n",
       "    {'key': 'Dallas', 'doc_count': 27},\n",
       "    {'key': 'Richmond', 'doc_count': 27},\n",
       "    {'key': 'Phoenix', 'doc_count': 26},\n",
       "    {'key': 'Atlanta', 'doc_count': 25}]}}}"
      ]
     },
     "execution_count": 18,
     "metadata": {},
     "output_type": "execute_result"
    }
   ],
   "source": [
    "es.search(index=\"humans\", size=0, body={\"query\": {\"match_all\": {}}, \"aggs\":{\"No. of Employees per City\" : {\"terms\":{\"field\": \"City.keyword\"}}}})"
   ]
  },
  {
   "cell_type": "markdown",
   "metadata": {},
   "source": [
    "### Task 2: Generate Employee Summary"
   ]
  },
  {
   "cell_type": "code",
   "execution_count": 19,
   "metadata": {},
   "outputs": [
    {
     "data": {
      "text/plain": [
       "{'took': 1,\n",
       " 'timed_out': False,\n",
       " '_shards': {'total': 1, 'successful': 1, 'skipped': 0, 'failed': 0},\n",
       " 'hits': {'total': {'value': 10000, 'relation': 'eq'},\n",
       "  'max_score': 1.0,\n",
       "  'hits': [{'_index': 'humans',\n",
       "    '_type': '_doc',\n",
       "    '_id': '9FFvDnUBFUuBiHlmB95l',\n",
       "    '_score': 1.0,\n",
       "    '_source': {'Emp ID': 198429,\n",
       "     'Month Name of Joining': 'February',\n",
       "     'Last Name': 'Bumgarner',\n",
       "     'Gender': 'F',\n",
       "     'E Mail': 'serafina.bumgarner@exxonmobil.com',\n",
       "     'SSN': '063-02-3609',\n",
       "     'County': 'Chautauqua',\n",
       "     'State': 'NY',\n",
       "     'Region': 'Northeast',\n",
       "     'City': 'Clymer',\n",
       "     'Zip': 14724,\n",
       "     'Salary': 69294,\n",
       "     'Salary Hike': 14}},\n",
       "   {'_index': 'humans',\n",
       "    '_type': '_doc',\n",
       "    '_id': '9VFvDnUBFUuBiHlmB95l',\n",
       "    '_score': 1.0,\n",
       "    '_source': {'Emp ID': 178566,\n",
       "     'Month Name of Joining': 'June',\n",
       "     'Last Name': 'Rojo',\n",
       "     'Gender': 'F',\n",
       "     'E Mail': 'juliette.rojo@yahoo.co.uk',\n",
       "     'SSN': '671-48-9915',\n",
       "     'County': 'Montgomery',\n",
       "     'State': 'PA',\n",
       "     'Region': 'Northeast',\n",
       "     'City': 'Glenside',\n",
       "     'Zip': 19038,\n",
       "     'Salary': 193912,\n",
       "     'Salary Hike': 27}},\n",
       "   {'_index': 'humans',\n",
       "    '_type': '_doc',\n",
       "    '_id': '9lFvDnUBFUuBiHlmB95l',\n",
       "    '_score': 1.0,\n",
       "    '_source': {'Emp ID': 647173,\n",
       "     'Month Name of Joining': 'January',\n",
       "     'Last Name': 'Krawczyk',\n",
       "     'Gender': 'M',\n",
       "     'E Mail': 'milan.krawczyk@hotmail.com',\n",
       "     'SSN': '527-99-6328',\n",
       "     'County': 'Anne Arundel',\n",
       "     'State': 'MD',\n",
       "     'Region': 'South',\n",
       "     'City': 'Gibson Island',\n",
       "     'Zip': 21056,\n",
       "     'Salary': 123681,\n",
       "     'Salary Hike': 11}},\n",
       "   {'_index': 'humans',\n",
       "    '_type': '_doc',\n",
       "    '_id': '91FvDnUBFUuBiHlmB95l',\n",
       "    '_score': 1.0,\n",
       "    '_source': {'Emp ID': 847634,\n",
       "     'Month Name of Joining': 'May',\n",
       "     'Last Name': 'Jason',\n",
       "     'Gender': 'M',\n",
       "     'E Mail': 'elmer.jason@yahoo.com',\n",
       "     'SSN': '063-02-5994',\n",
       "     'County': 'Washington',\n",
       "     'State': 'VA',\n",
       "     'Region': 'South',\n",
       "     'City': 'Mendota',\n",
       "     'Zip': 24270,\n",
       "     'Salary': 93504,\n",
       "     'Salary Hike': 26}},\n",
       "   {'_index': 'humans',\n",
       "    '_type': '_doc',\n",
       "    '_id': '-FFvDnUBFUuBiHlmB95l',\n",
       "    '_score': 1.0,\n",
       "    '_source': {'Emp ID': 260736,\n",
       "     'Month Name of Joining': 'January',\n",
       "     'Last Name': 'Forest',\n",
       "     'Gender': 'F',\n",
       "     'E Mail': 'zelda.forest@ibm.com',\n",
       "     'SSN': '421-67-5501',\n",
       "     'County': 'Schenectady',\n",
       "     'State': 'NY',\n",
       "     'Region': 'Northeast',\n",
       "     'City': 'Schenectady',\n",
       "     'Zip': 12306,\n",
       "     'Salary': 176642,\n",
       "     'Salary Hike': 29}}]}}"
      ]
     },
     "execution_count": 19,
     "metadata": {},
     "output_type": "execute_result"
    }
   ],
   "source": [
    "es.search(index=\"humans\", size=5, body={\"query\": {\"match_all\": {}}})"
   ]
  },
  {
   "cell_type": "markdown",
   "metadata": {},
   "source": [
    "### Task 3: Generate employee summary and ordering by Gender and Salary"
   ]
  },
  {
   "cell_type": "code",
   "execution_count": 20,
   "metadata": {},
   "outputs": [
    {
     "data": {
      "text/plain": [
       "{'took': 2,\n",
       " 'timed_out': False,\n",
       " '_shards': {'total': 1, 'successful': 1, 'skipped': 0, 'failed': 0},\n",
       " 'hits': {'total': {'value': 10000, 'relation': 'eq'},\n",
       "  'max_score': None,\n",
       "  'hits': [{'_index': 'humans',\n",
       "    '_type': '_doc',\n",
       "    '_id': 'wlFvDnUBFUuBiHlmCOVc',\n",
       "    '_score': None,\n",
       "    '_source': {'Emp ID': 338798,\n",
       "     'Month Name of Joining': 'May',\n",
       "     'Last Name': 'Conley',\n",
       "     'Gender': 'F',\n",
       "     'E Mail': 'jodi.conley@charter.net',\n",
       "     'SSN': '084-02-6421',\n",
       "     'County': 'Los Angeles',\n",
       "     'State': 'CA',\n",
       "     'Region': 'West',\n",
       "     'City': 'Glendale',\n",
       "     'Zip': 91210,\n",
       "     'Salary': 40009,\n",
       "     'Salary Hike': 1},\n",
       "    'sort': ['F', 40009]},\n",
       "   {'_index': 'humans',\n",
       "    '_type': '_doc',\n",
       "    '_id': 'jlFvDnUBFUuBiHlmC_3E',\n",
       "    '_score': None,\n",
       "    '_source': {'Emp ID': 644604,\n",
       "     'Month Name of Joining': 'August',\n",
       "     'Last Name': 'Brazell',\n",
       "     'Gender': 'F',\n",
       "     'E Mail': 'lorina.brazell@ntlworld.com',\n",
       "     'SSN': '308-37-1932',\n",
       "     'County': 'Lucas',\n",
       "     'State': 'OH',\n",
       "     'Region': 'Midwest',\n",
       "     'City': 'Toledo',\n",
       "     'Zip': 43635,\n",
       "     'Salary': 40015,\n",
       "     'Salary Hike': 12},\n",
       "    'sort': ['F', 40015]},\n",
       "   {'_index': 'humans',\n",
       "    '_type': '_doc',\n",
       "    '_id': 'JVFvDnUBFUuBiHlmCeyB',\n",
       "    '_score': None,\n",
       "    '_source': {'Emp ID': 946170,\n",
       "     'Month Name of Joining': 'November',\n",
       "     'Last Name': 'Lafontaine',\n",
       "     'Gender': 'F',\n",
       "     'E Mail': 'anja.lafontaine@yahoo.com',\n",
       "     'SSN': '116-98-7081',\n",
       "     'County': 'Henrico',\n",
       "     'State': 'VA',\n",
       "     'Region': 'South',\n",
       "     'City': 'Sandston',\n",
       "     'Zip': 23150,\n",
       "     'Salary': 40049,\n",
       "     'Salary Hike': 21},\n",
       "    'sort': ['F', 40049]},\n",
       "   {'_index': 'humans',\n",
       "    '_type': '_doc',\n",
       "    '_id': 'D1FvDnUBFUuBiHlmCvWH',\n",
       "    '_score': None,\n",
       "    '_source': {'Emp ID': 893122,\n",
       "     'Month Name of Joining': 'June',\n",
       "     'Last Name': 'Raber',\n",
       "     'Gender': 'F',\n",
       "     'E Mail': 'sharan.raber@gmail.com',\n",
       "     'SSN': '480-41-0592',\n",
       "     'County': 'Baltimore',\n",
       "     'State': 'MD',\n",
       "     'Region': 'South',\n",
       "     'City': 'Hunt Valley',\n",
       "     'Zip': 21031,\n",
       "     'Salary': 40051,\n",
       "     'Salary Hike': 5},\n",
       "    'sort': ['F', 40051]},\n",
       "   {'_index': 'humans',\n",
       "    '_type': '_doc',\n",
       "    '_id': 'hlJvDnUBFUuBiHlmDATb',\n",
       "    '_score': None,\n",
       "    '_source': {'Emp ID': 442211,\n",
       "     'Month Name of Joining': 'April',\n",
       "     'Last Name': 'Millett',\n",
       "     'Gender': 'F',\n",
       "     'E Mail': 'yang.millett@aol.com',\n",
       "     'SSN': '154-23-0055',\n",
       "     'County': 'Shoshone',\n",
       "     'State': 'ID',\n",
       "     'Region': 'West',\n",
       "     'City': 'Clarkia',\n",
       "     'Zip': 83812,\n",
       "     'Salary': 40069,\n",
       "     'Salary Hike': 26},\n",
       "    'sort': ['F', 40069]}]}}"
      ]
     },
     "execution_count": 20,
     "metadata": {},
     "output_type": "execute_result"
    }
   ],
   "source": [
    "es.search(index=\"humans\", size=5, body={\"query\": {\"match_all\": {}}, \"sort\":[{\"Gender.keyword\":{\"order\":\"asc\"}}, {\"Salary\":{\"order\":\"asc\"}}]})"
   ]
  },
  {
   "cell_type": "markdown",
   "metadata": {},
   "source": [
    "### Task 4: Summerize the number of employee joined and hikes granted based on month"
   ]
  },
  {
   "cell_type": "code",
   "execution_count": 21,
   "metadata": {},
   "outputs": [
    {
     "data": {
      "text/plain": [
       "{'took': 2,\n",
       " 'timed_out': False,\n",
       " '_shards': {'total': 1, 'successful': 1, 'skipped': 0, 'failed': 0},\n",
       " 'hits': {'total': {'value': 10000, 'relation': 'eq'},\n",
       "  'max_score': None,\n",
       "  'hits': []},\n",
       " 'aggregations': {'No. of Employees joined in particular month': {'doc_count_error_upper_bound': 0,\n",
       "   'sum_other_doc_count': 1568,\n",
       "   'buckets': [{'key': 'July', 'doc_count': 902},\n",
       "    {'key': 'June', 'doc_count': 895},\n",
       "    {'key': 'March', 'doc_count': 867},\n",
       "    {'key': 'April', 'doc_count': 851},\n",
       "    {'key': 'May', 'doc_count': 846},\n",
       "    {'key': 'January', 'doc_count': 837},\n",
       "    {'key': 'December', 'doc_count': 827},\n",
       "    {'key': 'October', 'doc_count': 811},\n",
       "    {'key': 'August', 'doc_count': 808},\n",
       "    {'key': 'November', 'doc_count': 788}]}}}"
      ]
     },
     "execution_count": 21,
     "metadata": {},
     "output_type": "execute_result"
    }
   ],
   "source": [
    "es.search(index=\"humans\", size=0, body={\"query\": {\"match_all\": {}}, \"aggs\":{\"No. of Employees joined in particular month\" : {\"terms\":{\"field\": \"Month Name of Joining.keyword\"}}}})"
   ]
  },
  {
   "cell_type": "code",
   "execution_count": 22,
   "metadata": {},
   "outputs": [
    {
     "data": {
      "text/plain": [
       "{'took': 2,\n",
       " 'timed_out': False,\n",
       " '_shards': {'total': 1, 'successful': 1, 'skipped': 0, 'failed': 0},\n",
       " 'hits': {'total': {'value': 10000, 'relation': 'eq'},\n",
       "  'max_score': None,\n",
       "  'hits': []},\n",
       " 'aggregations': {'No. of Hikes granted per Month': {'value': 31}}}"
      ]
     },
     "execution_count": 22,
     "metadata": {},
     "output_type": "execute_result"
    }
   ],
   "source": [
    "es.search(index=\"humans\", size=0, body={\"query\": {\"match_all\": {}}, \"aggs\":{\"No. of Hikes granted per Month\": {\"cardinality\": {\"field\": \"Salary Hike\"}}}})"
   ]
  },
  {
   "cell_type": "markdown",
   "metadata": {},
   "source": [
    "### Task 5: Generate employee summary and ordering by Salary"
   ]
  },
  {
   "cell_type": "code",
   "execution_count": 23,
   "metadata": {},
   "outputs": [
    {
     "data": {
      "text/plain": [
       "{'took': 3,\n",
       " 'timed_out': False,\n",
       " '_shards': {'total': 1, 'successful': 1, 'skipped': 0, 'failed': 0},\n",
       " 'hits': {'total': {'value': 10000, 'relation': 'eq'},\n",
       "  'max_score': None,\n",
       "  'hits': [{'_index': 'humans',\n",
       "    '_type': '_doc',\n",
       "    '_id': 't1JvDnUBFUuBiHlmDAXc',\n",
       "    '_score': None,\n",
       "    '_source': {'Emp ID': 373347,\n",
       "     'Month Name of Joining': 'December',\n",
       "     'Last Name': 'Shaner',\n",
       "     'Gender': 'M',\n",
       "     'E Mail': 'royce.shaner@hotmail.com',\n",
       "     'SSN': '056-02-4379',\n",
       "     'County': 'East Freetown',\n",
       "     'State': 'NY',\n",
       "     'Region': 'Northeast',\n",
       "     'City': 'East Freetown',\n",
       "     'Zip': 13055,\n",
       "     'Salary': 40007,\n",
       "     'Salary Hike': 24},\n",
       "    'sort': [40007]},\n",
       "   {'_index': 'humans',\n",
       "    '_type': '_doc',\n",
       "    '_id': 'ZFFvDnUBFUuBiHlmC_rD',\n",
       "    '_score': None,\n",
       "    '_source': {'Emp ID': 449798,\n",
       "     'Month Name of Joining': 'February',\n",
       "     'Last Name': 'Cleaves',\n",
       "     'Gender': 'M',\n",
       "     'E Mail': 'ben.cleaves@bellsouth.net',\n",
       "     'SSN': '369-39-2187',\n",
       "     'County': 'Montrose',\n",
       "     'State': 'CO',\n",
       "     'Region': 'West',\n",
       "     'City': 'Nucla',\n",
       "     'Zip': 81424,\n",
       "     'Salary': 40009,\n",
       "     'Salary Hike': 19},\n",
       "    'sort': [40009]},\n",
       "   {'_index': 'humans',\n",
       "    '_type': '_doc',\n",
       "    '_id': 'wlFvDnUBFUuBiHlmCOVc',\n",
       "    '_score': None,\n",
       "    '_source': {'Emp ID': 338798,\n",
       "     'Month Name of Joining': 'May',\n",
       "     'Last Name': 'Conley',\n",
       "     'Gender': 'F',\n",
       "     'E Mail': 'jodi.conley@charter.net',\n",
       "     'SSN': '084-02-6421',\n",
       "     'County': 'Los Angeles',\n",
       "     'State': 'CA',\n",
       "     'Region': 'West',\n",
       "     'City': 'Glendale',\n",
       "     'Zip': 91210,\n",
       "     'Salary': 40009,\n",
       "     'Salary Hike': 1},\n",
       "    'sort': [40009]},\n",
       "   {'_index': 'humans',\n",
       "    '_type': '_doc',\n",
       "    '_id': 'ulFvDnUBFUuBiHlmCOfp',\n",
       "    '_score': None,\n",
       "    '_source': {'Emp ID': 684725,\n",
       "     'Month Name of Joining': 'September',\n",
       "     'Last Name': 'Valerio',\n",
       "     'Gender': 'M',\n",
       "     'E Mail': 'peter.valerio@aol.com',\n",
       "     'SSN': '052-02-4357',\n",
       "     'County': 'Burke',\n",
       "     'State': 'GA',\n",
       "     'Region': 'South',\n",
       "     'City': 'Waynesboro',\n",
       "     'Zip': 30830,\n",
       "     'Salary': 40010,\n",
       "     'Salary Hike': 26},\n",
       "    'sort': [40010]},\n",
       "   {'_index': 'humans',\n",
       "    '_type': '_doc',\n",
       "    '_id': 'jlFvDnUBFUuBiHlmC_3E',\n",
       "    '_score': None,\n",
       "    '_source': {'Emp ID': 644604,\n",
       "     'Month Name of Joining': 'August',\n",
       "     'Last Name': 'Brazell',\n",
       "     'Gender': 'F',\n",
       "     'E Mail': 'lorina.brazell@ntlworld.com',\n",
       "     'SSN': '308-37-1932',\n",
       "     'County': 'Lucas',\n",
       "     'State': 'OH',\n",
       "     'Region': 'Midwest',\n",
       "     'City': 'Toledo',\n",
       "     'Zip': 43635,\n",
       "     'Salary': 40015,\n",
       "     'Salary Hike': 12},\n",
       "    'sort': [40015]}]}}"
      ]
     },
     "execution_count": 23,
     "metadata": {},
     "output_type": "execute_result"
    }
   ],
   "source": [
    "es.search(index=\"humans\", size=5, body={\"query\":{\"match_all\":{}}, \"sort\":[{\"Salary\":{\"order\":\"asc\"}}]})"
   ]
  },
  {
   "cell_type": "markdown",
   "metadata": {},
   "source": [
    "### Deleting the index from elasticsearch"
   ]
  },
  {
   "cell_type": "code",
   "execution_count": 24,
   "metadata": {},
   "outputs": [
    {
     "data": {
      "text/plain": [
       "{'acknowledged': True}"
      ]
     },
     "execution_count": 24,
     "metadata": {},
     "output_type": "execute_result"
    }
   ],
   "source": [
    "es.indices.delete(index='humans')"
   ]
  },
  {
   "cell_type": "markdown",
   "metadata": {},
   "source": [
    "### Stopping the SparkSession"
   ]
  },
  {
   "cell_type": "code",
   "execution_count": 25,
   "metadata": {},
   "outputs": [
    {
     "name": "stdout",
     "output_type": "stream",
     "text": [
      "Successfully stopped SparkSession!\n"
     ]
    }
   ],
   "source": [
    "spark.stop()\n",
    "print(\"Successfully stopped SparkSession!\")"
   ]
  }
 ],
 "metadata": {
  "kernelspec": {
   "display_name": "Python 3",
   "language": "python",
   "name": "python3"
  },
  "language_info": {
   "codemirror_mode": {
    "name": "ipython",
    "version": 3
   },
   "file_extension": ".py",
   "mimetype": "text/x-python",
   "name": "python",
   "nbconvert_exporter": "python",
   "pygments_lexer": "ipython3",
   "version": "3.6.9"
  }
 },
 "nbformat": 4,
 "nbformat_minor": 4
}
