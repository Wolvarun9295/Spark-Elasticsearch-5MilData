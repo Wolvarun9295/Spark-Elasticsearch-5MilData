{
 "cells": [
  {
   "cell_type": "code",
   "execution_count": 1,
   "metadata": {},
   "outputs": [
    {
     "data": {
      "text/html": [
       "<style>.container { width:100% !important; }</style>"
      ],
      "text/plain": [
       "<IPython.core.display.HTML object>"
      ]
     },
     "metadata": {},
     "output_type": "display_data"
    }
   ],
   "source": [
    "from IPython.core.display import display, HTML\n",
    "display(HTML(\"<style>.container { width:100% !important; }</style>\"))"
   ]
  },
  {
   "cell_type": "markdown",
   "metadata": {},
   "source": [
    "### Importing the libraries"
   ]
  },
  {
   "cell_type": "code",
   "execution_count": 2,
   "metadata": {},
   "outputs": [],
   "source": [
    "import findspark\n",
    "from elasticsearch import Elasticsearch\n",
    "import requests\n",
    "from pprint import pprint"
   ]
  },
  {
   "cell_type": "markdown",
   "metadata": {},
   "source": [
    "### Finding locally installed Spark and importing PySpark libraries"
   ]
  },
  {
   "cell_type": "code",
   "execution_count": 3,
   "metadata": {},
   "outputs": [],
   "source": [
    "findspark.init(\"/usr/local/spark/\")\n",
    "from pyspark.sql import SparkSession, functions as func"
   ]
  },
  {
   "cell_type": "markdown",
   "metadata": {},
   "source": [
    "### Checking if Elasticsearch has successfully been connected"
   ]
  },
  {
   "cell_type": "code",
   "execution_count": 4,
   "metadata": {},
   "outputs": [
    {
     "name": "stdout",
     "output_type": "stream",
     "text": [
      "(b'{\\n  \"name\" : \"ip-172-31-14-175\",\\n  \"cluster_name\" : \"elasticsearch\",\\n  \"'\n",
      " b'cluster_uuid\" : \"ypf0RlCFQYytEO-JNW-MCg\",\\n  \"version\" : {\\n    \"number\" :'\n",
      " b' \"7.9.2\",\\n    \"build_flavor\" : \"default\",\\n    \"build_type\" : \"tar\",\\n    '\n",
      " b'\"build_hash\" : \"d34da0ea4a966c4e49417f2da2f244e3e97b4e6e\",\\n    \"build_da'\n",
      " b'te\" : \"2020-09-23T00:45:33.626720Z\",\\n    \"build_snapshot\" : false,\\n    \"'\n",
      " b'lucene_version\" : \"8.6.2\",\\n    \"minimum_wire_compatibility_version\" : \"6'\n",
      " b'.8.0\",\\n    \"minimum_index_compatibility_version\" : \"6.0.0-beta1\"\\n  },\\n  '\n",
      " b'\"tagline\" : \"You Know, for Search\"\\n}\\n')\n"
     ]
    }
   ],
   "source": [
    "res = requests.get('http://localhost:9200')\n",
    "pprint(res.content)"
   ]
  },
  {
   "cell_type": "markdown",
   "metadata": {},
   "source": [
    "### Creating an Elasticsearch object"
   ]
  },
  {
   "cell_type": "code",
   "execution_count": 5,
   "metadata": {},
   "outputs": [],
   "source": [
    "es = Elasticsearch([{'host': 'localhost', 'port': 9200}])"
   ]
  },
  {
   "cell_type": "markdown",
   "metadata": {},
   "source": [
    "### Creating Spark Session"
   ]
  },
  {
   "cell_type": "code",
   "execution_count": 6,
   "metadata": {},
   "outputs": [],
   "source": [
    "spark = SparkSession.builder.appName('task').getOrCreate()"
   ]
  },
  {
   "cell_type": "markdown",
   "metadata": {},
   "source": [
    "### Reading CSV with Spark and creating Dataframe"
   ]
  },
  {
   "cell_type": "code",
   "execution_count": 7,
   "metadata": {},
   "outputs": [
    {
     "name": "stdout",
     "output_type": "stream",
     "text": [
      "+------+---------------------+---------+------+--------------------+-----------+--------------------+-----+-------+----------+-----+------+-----------+\n",
      "|Emp ID|Month Name of Joining|Last Name|Gender|              E Mail|        SSN|              County|State| Region|      City|  Zip|Salary|Salary Hike|\n",
      "+------+---------------------+---------+------+--------------------+-----------+--------------------+-----+-------+----------+-----+------+-----------+\n",
      "|742048|              January|   Mccoll|     F|lizeth.mccoll@ibm...|171-86-6830|               Stark|   OH|Midwest|  Alliance|44601|147446|         14|\n",
      "|671135|                April|     Hern|     F|argentina.hern@nt...|083-02-3078|District of Columbia|   DC|  South|Washington|20411|129174|          8|\n",
      "|965851|             December|  Patillo|     M|damian.patillo@ou...|326-11-9852|              Fresno|   CA|   West|    Burrel|93607|158746|          8|\n",
      "|224660|                 June| Hagopian|     F|imogene.hagopian@...|656-36-0772|              Brazos|   TX|  South|     Bryan|77806| 55761|         14|\n",
      "|852694|             February|  Wallach|     M|walker.wallach@ao...|296-15-3535|              Vernon|   LA|  South|  Newllano|71461|197519|         24|\n",
      "+------+---------------------+---------+------+--------------------+-----------+--------------------+-----+-------+----------+-----+------+-----------+\n",
      "only showing top 5 rows\n",
      "\n"
     ]
    }
   ],
   "source": [
    "df = spark.read.format(\"csv\").option(\"header\",\"true\").load(\"/home/ubuntu/Hr5m.csv\").fillna(0)[\"Emp ID\", \"Month Name of Joining\", \"Last Name\", \"Gender\", \"E Mail\", \"SSN\", \"County\", \"State\", \"Region\", \"City\", \"Zip\", \"Salary\", func.regexp_replace(func.col(\"Last % Hike\"), \"%\", \"\").alias(\"Salary Hike\")]\n",
    "df.show(5)"
   ]
  },
  {
   "cell_type": "markdown",
   "metadata": {},
   "source": [
    "### Checking the total records in the PySpark Dataframe"
   ]
  },
  {
   "cell_type": "code",
   "execution_count": 8,
   "metadata": {},
   "outputs": [
    {
     "name": "stdout",
     "output_type": "stream",
     "text": [
      "Total records present: 5000000\n"
     ]
    }
   ],
   "source": [
    "print(f\"Total records present: {df.count()}\")"
   ]
  },
  {
   "cell_type": "markdown",
   "metadata": {},
   "source": [
    "### Checking the data types"
   ]
  },
  {
   "cell_type": "code",
   "execution_count": 9,
   "metadata": {},
   "outputs": [
    {
     "data": {
      "text/plain": [
       "[('Emp ID', 'string'),\n",
       " ('Month Name of Joining', 'string'),\n",
       " ('Last Name', 'string'),\n",
       " ('Gender', 'string'),\n",
       " ('E Mail', 'string'),\n",
       " ('SSN', 'string'),\n",
       " ('County', 'string'),\n",
       " ('State', 'string'),\n",
       " ('Region', 'string'),\n",
       " ('City', 'string'),\n",
       " ('Zip', 'string'),\n",
       " ('Salary', 'string'),\n",
       " ('Salary Hike', 'string')]"
      ]
     },
     "execution_count": 9,
     "metadata": {},
     "output_type": "execute_result"
    }
   ],
   "source": [
    "df.dtypes"
   ]
  },
  {
   "cell_type": "markdown",
   "metadata": {},
   "source": [
    "### Casting 'string' value to 'int'"
   ]
  },
  {
   "cell_type": "code",
   "execution_count": 10,
   "metadata": {},
   "outputs": [
    {
     "data": {
      "text/plain": [
       "[('Emp ID', 'int'),\n",
       " ('Month Name of Joining', 'string'),\n",
       " ('Last Name', 'string'),\n",
       " ('Gender', 'string'),\n",
       " ('E Mail', 'string'),\n",
       " ('SSN', 'string'),\n",
       " ('County', 'string'),\n",
       " ('State', 'string'),\n",
       " ('Region', 'string'),\n",
       " ('City', 'string'),\n",
       " ('Zip', 'int'),\n",
       " ('Salary', 'int'),\n",
       " ('Salary Hike', 'int')]"
      ]
     },
     "execution_count": 10,
     "metadata": {},
     "output_type": "execute_result"
    }
   ],
   "source": [
    "df = df.withColumn(\"Emp ID\", df[\"Emp ID\"].cast(\"int\"))\n",
    "df = df.withColumn(\"Zip\", df[\"Zip\"].cast(\"int\"))\n",
    "df = df.withColumn(\"Salary\", df[\"Salary\"].cast(\"int\"))\n",
    "df = df.withColumn(\"Salary Hike\", df[\"Salary Hike\"].cast(\"int\"))\n",
    "df.dtypes"
   ]
  },
  {
   "cell_type": "markdown",
   "metadata": {},
   "source": [
    "### Checking if the changes have been made successfully"
   ]
  },
  {
   "cell_type": "code",
   "execution_count": 11,
   "metadata": {},
   "outputs": [
    {
     "name": "stdout",
     "output_type": "stream",
     "text": [
      "+------+---------------------+---------+------+--------------------+-----------+--------------------+-----+---------+-------------+-----+------+-----------+\n",
      "|Emp ID|Month Name of Joining|Last Name|Gender|              E Mail|        SSN|              County|State|   Region|         City|  Zip|Salary|Salary Hike|\n",
      "+------+---------------------+---------+------+--------------------+-----------+--------------------+-----+---------+-------------+-----+------+-----------+\n",
      "|742048|              January|   Mccoll|     F|lizeth.mccoll@ibm...|171-86-6830|               Stark|   OH|  Midwest|     Alliance|44601|147446|         14|\n",
      "|671135|                April|     Hern|     F|argentina.hern@nt...|083-02-3078|District of Columbia|   DC|    South|   Washington|20411|129174|          8|\n",
      "|965851|             December|  Patillo|     M|damian.patillo@ou...|326-11-9852|              Fresno|   CA|     West|       Burrel|93607|158746|          8|\n",
      "|224660|                 June| Hagopian|     F|imogene.hagopian@...|656-36-0772|              Brazos|   TX|    South|        Bryan|77806| 55761|         14|\n",
      "|852694|             February|  Wallach|     M|walker.wallach@ao...|296-15-3535|              Vernon|   LA|    South|     Newllano|71461|197519|         24|\n",
      "|144102|                March|   Hollie|     F|jesusita.hollie@h...|375-37-3861|         Los Angeles|   CA|     West|      Topanga|90290|103839|          6|\n",
      "|687793|              October|  Esqueda|     M|fausto.esqueda@ao...|095-02-0857|          Tuscarawas|   OH|  Midwest|    Somerdale|44678| 60101|          5|\n",
      "|636308|                 July|    Komar|     F| vanda.komar@aol.com|002-11-5408|              Summit|   OH|  Midwest|        Akron|44312|115639|         26|\n",
      "|218660|             November|Nicholson|     F|destiny.nicholson...|386-37-5628|            Atlantic|   NJ|Northeast|Atlantic City| 8401|126048|         19|\n",
      "|465691|              October|    Hamby|     F|evie.hamby@gmail.com|682-24-5946|              Morris|   NJ|Northeast|     Rockaway| 7866|193757|         28|\n",
      "|242339|              October|Friedrich|     M|carlton.friedrich...|717-18-8892|            Hamilton|   OH|  Midwest|   Cincinnati|45202| 43826|         14|\n",
      "|636949|                March|   Haynie|     M|carmelo.haynie@gm...|529-99-1135|          Livingston|   MI|  Midwest|       Howell|48844| 84036|          2|\n",
      "|890565|                 June|   Troche|     F|bari.troche@hotma...|479-41-7839|            Sandoval|   NM|     West| Cochiti Lake|87083|182148|         30|\n",
      "|206270|              October|    Lowry|     M|burton.lowry@comc...|618-87-1917|              Carbon|   PA|Northeast|    Palmerton|18071|181592|         26|\n",
      "|418390|             December|  Bassham|     M|mickey.bassham@gm...|186-86-7205|             Oakland|   MI|  Midwest|   Lake Orion|48362|131922|         23|\n",
      "|359884|                  May|  Cerrone|     F|ying.cerrone@aol.com|083-02-7174|              Murray|   MN|  Midwest|         Iona|56141|184946|          1|\n",
      "|301840|             February|    Copas|     F|bette.copas@sbcgl...|124-98-3183|             Laramie|   WY|     West|    Hillsdale|82060|103833|         27|\n",
      "|232212|                  May|   Harkey|     F| tien.harkey@cox.net|615-87-8886|              Fresno|   CA|     West|       Fresno|93782|103292|         10|\n",
      "|450156|             November|  Chesney|     F|loma.chesney@yaho...|161-86-9824|              Mobile|   AL|    South|       Mobile|36602| 66545|          7|\n",
      "|158031|             November|   Pastor|     M|ruben.pastor@gmai...|768-02-9782|             Ozaukee|   WI|  Midwest|    Cedarburg|53012| 41892|          1|\n",
      "+------+---------------------+---------+------+--------------------+-----------+--------------------+-----+---------+-------------+-----+------+-----------+\n",
      "only showing top 20 rows\n",
      "\n"
     ]
    }
   ],
   "source": [
    "df.show(20)"
   ]
  },
  {
   "cell_type": "markdown",
   "metadata": {},
   "source": [
    "### Checking the Schema"
   ]
  },
  {
   "cell_type": "code",
   "execution_count": 12,
   "metadata": {},
   "outputs": [
    {
     "name": "stdout",
     "output_type": "stream",
     "text": [
      "root\n",
      " |-- Emp ID: integer (nullable = true)\n",
      " |-- Month Name of Joining: string (nullable = true)\n",
      " |-- Last Name: string (nullable = true)\n",
      " |-- Gender: string (nullable = true)\n",
      " |-- E Mail: string (nullable = true)\n",
      " |-- SSN: string (nullable = true)\n",
      " |-- County: string (nullable = true)\n",
      " |-- State: string (nullable = true)\n",
      " |-- Region: string (nullable = true)\n",
      " |-- City: string (nullable = true)\n",
      " |-- Zip: integer (nullable = true)\n",
      " |-- Salary: integer (nullable = true)\n",
      " |-- Salary Hike: integer (nullable = true)\n",
      "\n"
     ]
    }
   ],
   "source": [
    "df.printSchema()"
   ]
  },
  {
   "cell_type": "markdown",
   "metadata": {},
   "source": [
    "### Ingesting Pyspark Dataframe in Elasticsearch directly"
   ]
  },
  {
   "cell_type": "code",
   "execution_count": 13,
   "metadata": {},
   "outputs": [
    {
     "name": "stdout",
     "output_type": "stream",
     "text": [
      "Successfully ingested data into Elasticsearch!\n"
     ]
    }
   ],
   "source": [
    "df.write.format(\n",
    "    \"org.elasticsearch.spark.sql\"\n",
    ").option(\n",
    "    \"es.resource\", '%s' % ('humans')\n",
    ").option(\n",
    "    \"es.nodes\", 'localhost'\n",
    ").option(\n",
    "    \"es.port\", '9200'\n",
    ").save()\n",
    "print(\"Successfully ingested data into Elasticsearch!\")"
   ]
  },
  {
   "cell_type": "markdown",
   "metadata": {},
   "source": [
    "### Setting the output limit"
   ]
  },
  {
   "cell_type": "code",
   "execution_count": 14,
   "metadata": {},
   "outputs": [
    {
     "data": {
      "text/plain": [
       "{'acknowledged': True}"
      ]
     },
     "execution_count": 14,
     "metadata": {},
     "output_type": "execute_result"
    }
   ],
   "source": [
    "es.indices.put_settings(index=\"humans\", body = {\"index\" : { \"max_result_window\" : 5000000 }})"
   ]
  },
  {
   "cell_type": "markdown",
   "metadata": {},
   "source": [
    "### Counting the records in index to see if PySpark Dataframe has been successfully ingested"
   ]
  },
  {
   "cell_type": "code",
   "execution_count": 15,
   "metadata": {},
   "outputs": [
    {
     "data": {
      "text/plain": [
       "{'count': 5000000,\n",
       " '_shards': {'total': 1, 'successful': 1, 'skipped': 0, 'failed': 0}}"
      ]
     },
     "execution_count": 15,
     "metadata": {},
     "output_type": "execute_result"
    }
   ],
   "source": [
    "es.count(index= \"humans\")"
   ]
  },
  {
   "cell_type": "markdown",
   "metadata": {},
   "source": [
    "### Task 1: Count the number of employees in each County, Region and City"
   ]
  },
  {
   "cell_type": "code",
   "execution_count": 16,
   "metadata": {},
   "outputs": [
    {
     "data": {
      "text/plain": [
       "{'took': 153,\n",
       " 'timed_out': False,\n",
       " '_shards': {'total': 1, 'successful': 1, 'skipped': 0, 'failed': 0},\n",
       " 'hits': {'total': {'value': 10000, 'relation': 'gte'},\n",
       "  'max_score': None,\n",
       "  'hits': []},\n",
       " 'aggregations': {'No. of Employees in per County': {'doc_count_error_upper_bound': 0,\n",
       "   'sum_other_doc_count': 4574483,\n",
       "   'buckets': [{'key': 'Los Angeles', 'doc_count': 61870},\n",
       "    {'key': 'Jefferson', 'doc_count': 58354},\n",
       "    {'key': 'Washington', 'doc_count': 55558},\n",
       "    {'key': 'Montgomery', 'doc_count': 46164},\n",
       "    {'key': 'Orange', 'doc_count': 39923},\n",
       "    {'key': 'Franklin', 'doc_count': 38340},\n",
       "    {'key': 'Jackson', 'doc_count': 35621},\n",
       "    {'key': 'District of Columbia', 'doc_count': 31760},\n",
       "    {'key': 'Wayne', 'doc_count': 29634},\n",
       "    {'key': 'Monroe', 'doc_count': 28293}]}}}"
      ]
     },
     "execution_count": 16,
     "metadata": {},
     "output_type": "execute_result"
    }
   ],
   "source": [
    "es.search(index=\"humans\", size=0, body={\"query\": {\"match_all\": {}}, \"aggs\":{\"No. of Employees in per County\" : {\"terms\":{\"field\": \"County.keyword\"}}}})"
   ]
  },
  {
   "cell_type": "code",
   "execution_count": 17,
   "metadata": {},
   "outputs": [
    {
     "data": {
      "text/plain": [
       "{'took': 97,\n",
       " 'timed_out': False,\n",
       " '_shards': {'total': 1, 'successful': 1, 'skipped': 0, 'failed': 0},\n",
       " 'hits': {'total': {'value': 10000, 'relation': 'gte'},\n",
       "  'max_score': None,\n",
       "  'hits': []},\n",
       " 'aggregations': {'No. of Employees per Region': {'doc_count_error_upper_bound': 0,\n",
       "   'sum_other_doc_count': 0,\n",
       "   'buckets': [{'key': 'South', 'doc_count': 1855656},\n",
       "    {'key': 'Midwest', 'doc_count': 1372439},\n",
       "    {'key': 'Northeast', 'doc_count': 886984},\n",
       "    {'key': 'West', 'doc_count': 884921}]}}}"
      ]
     },
     "execution_count": 17,
     "metadata": {},
     "output_type": "execute_result"
    }
   ],
   "source": [
    "es.search(index=\"humans\", size=0, body={\"query\": {\"match_all\": {}}, \"aggs\":{\"No. of Employees per Region\" : {\"terms\":{\"field\": \"Region.keyword\"}}}})"
   ]
  },
  {
   "cell_type": "code",
   "execution_count": 18,
   "metadata": {},
   "outputs": [
    {
     "data": {
      "text/plain": [
       "{'took': 249,\n",
       " 'timed_out': False,\n",
       " '_shards': {'total': 1, 'successful': 1, 'skipped': 0, 'failed': 0},\n",
       " 'hits': {'total': {'value': 10000, 'relation': 'gte'},\n",
       "  'max_score': None,\n",
       "  'hits': []},\n",
       " 'aggregations': {'No. of Employees per City': {'doc_count_error_upper_bound': 0,\n",
       "   'sum_other_doc_count': 4820798,\n",
       "   'buckets': [{'key': 'Washington', 'doc_count': 37753},\n",
       "    {'key': 'Houston', 'doc_count': 23423},\n",
       "    {'key': 'New York City', 'doc_count': 19153},\n",
       "    {'key': 'El Paso', 'doc_count': 18438},\n",
       "    {'key': 'Dallas', 'doc_count': 15789},\n",
       "    {'key': 'Atlanta', 'doc_count': 14878},\n",
       "    {'key': 'Springfield', 'doc_count': 13334},\n",
       "    {'key': 'Sacramento', 'doc_count': 12427},\n",
       "    {'key': 'Miami', 'doc_count': 12032},\n",
       "    {'key': 'Los Angeles', 'doc_count': 11975}]}}}"
      ]
     },
     "execution_count": 18,
     "metadata": {},
     "output_type": "execute_result"
    }
   ],
   "source": [
    "es.search(index=\"humans\", size=0, body={\"query\": {\"match_all\": {}}, \"aggs\":{\"No. of Employees per City\" : {\"terms\":{\"field\": \"City.keyword\"}}}})"
   ]
  },
  {
   "cell_type": "markdown",
   "metadata": {},
   "source": [
    "### Task 2: Generate Employee Summary"
   ]
  },
  {
   "cell_type": "code",
   "execution_count": 19,
   "metadata": {},
   "outputs": [
    {
     "data": {
      "text/plain": [
       "{'took': 2,\n",
       " 'timed_out': False,\n",
       " '_shards': {'total': 1, 'successful': 1, 'skipped': 0, 'failed': 0},\n",
       " 'hits': {'total': {'value': 10000, 'relation': 'gte'},\n",
       "  'max_score': 1.0,\n",
       "  'hits': [{'_index': 'humans',\n",
       "    '_type': '_doc',\n",
       "    '_id': 'rgS8DnUBFUuBiHlmLycz',\n",
       "    '_score': 1.0,\n",
       "    '_source': {'Emp ID': 426016,\n",
       "     'Month Name of Joining': 'April',\n",
       "     'Last Name': 'Ardoin',\n",
       "     'Gender': 'F',\n",
       "     'E Mail': 'maud.ardoin@ibm.com',\n",
       "     'SSN': '283-15-5867',\n",
       "     'County': 'Pinellas',\n",
       "     'State': 'FL',\n",
       "     'Region': 'South',\n",
       "     'City': 'Palm Harbor',\n",
       "     'Zip': 34684,\n",
       "     'Salary': 118802,\n",
       "     'Salary Hike': 12}},\n",
       "   {'_index': 'humans',\n",
       "    '_type': '_doc',\n",
       "    '_id': 'rwS8DnUBFUuBiHlmLycz',\n",
       "    '_score': 1.0,\n",
       "    '_source': {'Emp ID': 782805,\n",
       "     'Month Name of Joining': 'November',\n",
       "     'Last Name': 'Sorenson',\n",
       "     'Gender': 'M',\n",
       "     'E Mail': 'santo.sorenson@gmail.com',\n",
       "     'SSN': '548-99-8083',\n",
       "     'County': 'Union',\n",
       "     'State': 'NJ',\n",
       "     'Region': 'Northeast',\n",
       "     'City': 'Fanwood',\n",
       "     'Zip': 7023,\n",
       "     'Salary': 184548,\n",
       "     'Salary Hike': 10}},\n",
       "   {'_index': 'humans',\n",
       "    '_type': '_doc',\n",
       "    '_id': 'sAS8DnUBFUuBiHlmLycz',\n",
       "    '_score': 1.0,\n",
       "    '_source': {'Emp ID': 862340,\n",
       "     'Month Name of Joining': 'December',\n",
       "     'Last Name': 'Oney',\n",
       "     'Gender': 'F',\n",
       "     'E Mail': 'gerda.oney@hotmail.com',\n",
       "     'SSN': '277-17-7993',\n",
       "     'County': 'Clinton',\n",
       "     'State': 'NY',\n",
       "     'Region': 'Northeast',\n",
       "     'City': 'Ellenburg Center',\n",
       "     'Zip': 12934,\n",
       "     'Salary': 154294,\n",
       "     'Salary Hike': 28}},\n",
       "   {'_index': 'humans',\n",
       "    '_type': '_doc',\n",
       "    '_id': 'sQS8DnUBFUuBiHlmLycz',\n",
       "    '_score': 1.0,\n",
       "    '_source': {'Emp ID': 451807,\n",
       "     'Month Name of Joining': 'June',\n",
       "     'Last Name': 'Convery',\n",
       "     'Gender': 'M',\n",
       "     'E Mail': 'jarrod.convery@yahoo.com',\n",
       "     'SSN': '518-89-1857',\n",
       "     'County': 'Sarasota',\n",
       "     'State': 'FL',\n",
       "     'Region': 'South',\n",
       "     'City': 'North Port',\n",
       "     'Zip': 34287,\n",
       "     'Salary': 174109,\n",
       "     'Salary Hike': 22}},\n",
       "   {'_index': 'humans',\n",
       "    '_type': '_doc',\n",
       "    '_id': 'sgS8DnUBFUuBiHlmLycz',\n",
       "    '_score': 1.0,\n",
       "    '_source': {'Emp ID': 365861,\n",
       "     'Month Name of Joining': 'November',\n",
       "     'Last Name': 'Styers',\n",
       "     'Gender': 'F',\n",
       "     'E Mail': 'demetrice.styers@yahoo.com',\n",
       "     'SSN': '493-29-3659',\n",
       "     'County': 'Johnson',\n",
       "     'State': 'MN',\n",
       "     'Region': 'Midwest',\n",
       "     'City': 'Johnson',\n",
       "     'Zip': 56250,\n",
       "     'Salary': 157506,\n",
       "     'Salary Hike': 24}}]}}"
      ]
     },
     "execution_count": 19,
     "metadata": {},
     "output_type": "execute_result"
    }
   ],
   "source": [
    "es.search(index=\"humans\", size=5, body={\"query\": {\"match_all\": {}}})"
   ]
  },
  {
   "cell_type": "markdown",
   "metadata": {},
   "source": [
    "### Task 3: Generate employee summary and ordering by Gender and Salary"
   ]
  },
  {
   "cell_type": "code",
   "execution_count": 20,
   "metadata": {},
   "outputs": [
    {
     "data": {
      "text/plain": [
       "{'took': 221,\n",
       " 'timed_out': False,\n",
       " '_shards': {'total': 1, 'successful': 1, 'skipped': 0, 'failed': 0},\n",
       " 'hits': {'total': {'value': 10000, 'relation': 'gte'},\n",
       "  'max_score': None,\n",
       "  'hits': [{'_index': 'humans',\n",
       "    '_type': '_doc',\n",
       "    '_id': 'h-y6DnUBFUuBiHlmt2vx',\n",
       "    '_score': None,\n",
       "    '_source': {'Emp ID': 506893,\n",
       "     'Month Name of Joining': 'June',\n",
       "     'Last Name': 'Cumberbatch',\n",
       "     'Gender': 'F',\n",
       "     'E Mail': 'ariana.cumberbatch@msn.com',\n",
       "     'SSN': '057-02-5798',\n",
       "     'County': 'Evangeline',\n",
       "     'State': 'LA',\n",
       "     'Region': 'South',\n",
       "     'City': 'Saint Landry',\n",
       "     'Zip': 71367,\n",
       "     'Salary': 40000,\n",
       "     'Salary Hike': 4},\n",
       "    'sort': ['F', 40000]},\n",
       "   {'_index': 'humans',\n",
       "    '_type': '_doc',\n",
       "    '_id': '7QS8DnUBFUuBiHlmQM0j',\n",
       "    '_score': None,\n",
       "    '_source': {'Emp ID': 374296,\n",
       "     'Month Name of Joining': 'March',\n",
       "     'Last Name': 'Owen',\n",
       "     'Gender': 'F',\n",
       "     'E Mail': 'clyde.owen@gmail.com',\n",
       "     'SSN': '366-39-8276',\n",
       "     'County': 'Shawano',\n",
       "     'State': 'WI',\n",
       "     'Region': 'Midwest',\n",
       "     'City': 'Tigerton',\n",
       "     'Zip': 54486,\n",
       "     'Salary': 40000,\n",
       "     'Salary Hike': 14},\n",
       "    'sort': ['F', 40000]},\n",
       "   {'_index': 'humans',\n",
       "    '_type': '_doc',\n",
       "    '_id': 'bvW7DnUBFUuBiHlmSeif',\n",
       "    '_score': None,\n",
       "    '_source': {'Emp ID': 828071,\n",
       "     'Month Name of Joining': 'February',\n",
       "     'Last Name': 'Barrette',\n",
       "     'Gender': 'F',\n",
       "     'E Mail': 'madelaine.barrette@yahoo.com',\n",
       "     'SSN': '545-99-1053',\n",
       "     'County': 'Aiken',\n",
       "     'State': 'SC',\n",
       "     'Region': 'South',\n",
       "     'City': 'Aiken',\n",
       "     'Zip': 29801,\n",
       "     'Salary': 40000,\n",
       "     'Salary Hike': 26},\n",
       "    'sort': ['F', 40000]},\n",
       "   {'_index': 'humans',\n",
       "    '_type': '_doc',\n",
       "    '_id': 'HfW7DnUBFUuBiHlmR8Pj',\n",
       "    '_score': None,\n",
       "    '_source': {'Emp ID': 832197,\n",
       "     'Month Name of Joining': 'October',\n",
       "     'Last Name': 'Grosso',\n",
       "     'Gender': 'F',\n",
       "     'E Mail': 'vikki.grosso@hotmail.com',\n",
       "     'SSN': '131-98-5564',\n",
       "     'County': 'McHenry',\n",
       "     'State': 'ND',\n",
       "     'Region': 'Midwest',\n",
       "     'City': 'Bantry',\n",
       "     'Zip': 58713,\n",
       "     'Salary': 40000,\n",
       "     'Salary Hike': 14},\n",
       "    'sort': ['F', 40000]},\n",
       "   {'_index': 'humans',\n",
       "    '_type': '_doc',\n",
       "    '_id': 'vfy7DnUBFUuBiHlmsdOf',\n",
       "    '_score': None,\n",
       "    '_source': {'Emp ID': 117353,\n",
       "     'Month Name of Joining': 'August',\n",
       "     'Last Name': 'Vallejos',\n",
       "     'Gender': 'F',\n",
       "     'E Mail': 'vonnie.vallejos@yahoo.co.in',\n",
       "     'SSN': '342-11-1884',\n",
       "     'County': 'Potter',\n",
       "     'State': 'TX',\n",
       "     'Region': 'South',\n",
       "     'City': 'Amarillo',\n",
       "     'Zip': 79164,\n",
       "     'Salary': 40000,\n",
       "     'Salary Hike': 9},\n",
       "    'sort': ['F', 40000]}]}}"
      ]
     },
     "execution_count": 20,
     "metadata": {},
     "output_type": "execute_result"
    }
   ],
   "source": [
    "es.search(index=\"humans\", size=5, body={\"query\": {\"match_all\": {}}, \"sort\":[{\"Gender.keyword\":{\"order\":\"asc\"}}, {\"Salary\":{\"order\":\"asc\"}}]})"
   ]
  },
  {
   "cell_type": "markdown",
   "metadata": {},
   "source": [
    "### Task 4: Summerize the number of employee joined and hikes granted based on month"
   ]
  },
  {
   "cell_type": "code",
   "execution_count": 21,
   "metadata": {},
   "outputs": [
    {
     "data": {
      "text/plain": [
       "{'took': 98,\n",
       " 'timed_out': False,\n",
       " '_shards': {'total': 1, 'successful': 1, 'skipped': 0, 'failed': 0},\n",
       " 'hits': {'total': {'value': 10000, 'relation': 'gte'},\n",
       "  'max_score': None,\n",
       "  'hits': []},\n",
       " 'aggregations': {'No. of Employees joined in particular month': {'doc_count_error_upper_bound': 0,\n",
       "   'sum_other_doc_count': 766909,\n",
       "   'buckets': [{'key': 'August', 'doc_count': 468295},\n",
       "    {'key': 'July', 'doc_count': 450981},\n",
       "    {'key': 'May', 'doc_count': 434522},\n",
       "    {'key': 'June', 'doc_count': 427424},\n",
       "    {'key': 'March', 'doc_count': 422987},\n",
       "    {'key': 'April', 'doc_count': 414484},\n",
       "    {'key': 'January', 'doc_count': 413247},\n",
       "    {'key': 'December', 'doc_count': 408721},\n",
       "    {'key': 'October', 'doc_count': 400048},\n",
       "    {'key': 'November', 'doc_count': 392382}]}}}"
      ]
     },
     "execution_count": 21,
     "metadata": {},
     "output_type": "execute_result"
    }
   ],
   "source": [
    "es.search(index=\"humans\", size=0, body={\"query\": {\"match_all\": {}}, \"aggs\":{\"No. of Employees joined in particular month\" : {\"terms\":{\"field\": \"Month Name of Joining.keyword\"}}}})"
   ]
  },
  {
   "cell_type": "code",
   "execution_count": 22,
   "metadata": {},
   "outputs": [
    {
     "data": {
      "text/plain": [
       "{'took': 194,\n",
       " 'timed_out': False,\n",
       " '_shards': {'total': 1, 'successful': 1, 'skipped': 0, 'failed': 0},\n",
       " 'hits': {'total': {'value': 10000, 'relation': 'gte'},\n",
       "  'max_score': None,\n",
       "  'hits': []},\n",
       " 'aggregations': {'No. of Hikes granted per Month': {'value': 31}}}"
      ]
     },
     "execution_count": 22,
     "metadata": {},
     "output_type": "execute_result"
    }
   ],
   "source": [
    "es.search(index=\"humans\", size=0, body={\"query\": {\"match_all\": {}}, \"aggs\":{\"No. of Hikes granted per Month\": {\"cardinality\": {\"field\": \"Salary Hike\"}}}})"
   ]
  },
  {
   "cell_type": "markdown",
   "metadata": {},
   "source": [
    "### Task 5: Generate employee summary and ordering by Salary"
   ]
  },
  {
   "cell_type": "code",
   "execution_count": 23,
   "metadata": {},
   "outputs": [
    {
     "data": {
      "text/plain": [
       "{'took': 26,\n",
       " 'timed_out': False,\n",
       " '_shards': {'total': 1, 'successful': 1, 'skipped': 0, 'failed': 0},\n",
       " 'hits': {'total': {'value': 10000, 'relation': 'gte'},\n",
       "  'max_score': None,\n",
       "  'hits': [{'_index': 'humans',\n",
       "    '_type': '_doc',\n",
       "    '_id': 'Le-6DnUBFUuBiHlm7-A2',\n",
       "    '_score': None,\n",
       "    '_source': {'Emp ID': 680938,\n",
       "     'Month Name of Joining': 'November',\n",
       "     'Last Name': 'Hillyard',\n",
       "     'Gender': 'M',\n",
       "     'E Mail': 'rosario.hillyard@gmail.com',\n",
       "     'SSN': '307-37-6816',\n",
       "     'County': 'Somerset',\n",
       "     'State': 'PA',\n",
       "     'Region': 'Northeast',\n",
       "     'City': 'Tire Hill',\n",
       "     'Zip': 15959,\n",
       "     'Salary': 40000,\n",
       "     'Salary Hike': 30},\n",
       "    'sort': [40000]},\n",
       "   {'_index': 'humans',\n",
       "    '_type': '_doc',\n",
       "    '_id': 'h-y6DnUBFUuBiHlmt2vx',\n",
       "    '_score': None,\n",
       "    '_source': {'Emp ID': 506893,\n",
       "     'Month Name of Joining': 'June',\n",
       "     'Last Name': 'Cumberbatch',\n",
       "     'Gender': 'F',\n",
       "     'E Mail': 'ariana.cumberbatch@msn.com',\n",
       "     'SSN': '057-02-5798',\n",
       "     'County': 'Evangeline',\n",
       "     'State': 'LA',\n",
       "     'Region': 'South',\n",
       "     'City': 'Saint Landry',\n",
       "     'Zip': 71367,\n",
       "     'Salary': 40000,\n",
       "     'Salary Hike': 4},\n",
       "    'sort': [40000]},\n",
       "   {'_index': 'humans',\n",
       "    '_type': '_doc',\n",
       "    '_id': '7QS8DnUBFUuBiHlmQM0j',\n",
       "    '_score': None,\n",
       "    '_source': {'Emp ID': 374296,\n",
       "     'Month Name of Joining': 'March',\n",
       "     'Last Name': 'Owen',\n",
       "     'Gender': 'F',\n",
       "     'E Mail': 'clyde.owen@gmail.com',\n",
       "     'SSN': '366-39-8276',\n",
       "     'County': 'Shawano',\n",
       "     'State': 'WI',\n",
       "     'Region': 'Midwest',\n",
       "     'City': 'Tigerton',\n",
       "     'Zip': 54486,\n",
       "     'Salary': 40000,\n",
       "     'Salary Hike': 14},\n",
       "    'sort': [40000]},\n",
       "   {'_index': 'humans',\n",
       "    '_type': '_doc',\n",
       "    '_id': 'uga8DnUBFUuBiHlmZ8dC',\n",
       "    '_score': None,\n",
       "    '_source': {'Emp ID': 964794,\n",
       "     'Month Name of Joining': 'May',\n",
       "     'Last Name': 'Wexler',\n",
       "     'Gender': 'M',\n",
       "     'E Mail': 'dorian.wexler@yahoo.ca',\n",
       "     'SSN': '544-81-8607',\n",
       "     'County': 'Westchester',\n",
       "     'State': 'NY',\n",
       "     'Region': 'Northeast',\n",
       "     'City': 'Cross River',\n",
       "     'Zip': 10518,\n",
       "     'Salary': 40000,\n",
       "     'Salary Hike': 4},\n",
       "    'sort': [40000]},\n",
       "   {'_index': 'humans',\n",
       "    '_type': '_doc',\n",
       "    '_id': 'iPG7DnUBFUuBiHlmEPk1',\n",
       "    '_score': None,\n",
       "    '_source': {'Emp ID': 336973,\n",
       "     'Month Name of Joining': 'April',\n",
       "     'Last Name': 'Deem',\n",
       "     'Gender': 'M',\n",
       "     'E Mail': 'kirk.deem@gmail.com',\n",
       "     'SSN': '623-85-7102',\n",
       "     'County': 'Ouachita',\n",
       "     'State': 'AR',\n",
       "     'Region': 'South',\n",
       "     'City': 'Louann',\n",
       "     'Zip': 71751,\n",
       "     'Salary': 40000,\n",
       "     'Salary Hike': 28},\n",
       "    'sort': [40000]}]}}"
      ]
     },
     "execution_count": 23,
     "metadata": {},
     "output_type": "execute_result"
    }
   ],
   "source": [
    "es.search(index=\"humans\", size=5, body={\"query\":{\"match_all\":{}}, \"sort\":[{\"Salary\":{\"order\":\"asc\"}}]})"
   ]
  },
  {
   "cell_type": "markdown",
   "metadata": {},
   "source": [
    "### Deleting the index from elasticsearch"
   ]
  },
  {
   "cell_type": "code",
   "execution_count": 24,
   "metadata": {},
   "outputs": [
    {
     "data": {
      "text/plain": [
       "{'acknowledged': True}"
      ]
     },
     "execution_count": 24,
     "metadata": {},
     "output_type": "execute_result"
    }
   ],
   "source": [
    "es.indices.delete(index='humans')"
   ]
  },
  {
   "cell_type": "markdown",
   "metadata": {},
   "source": [
    "### Stopping the SparkSession"
   ]
  },
  {
   "cell_type": "code",
   "execution_count": 25,
   "metadata": {},
   "outputs": [
    {
     "name": "stdout",
     "output_type": "stream",
     "text": [
      "Successfully stopped SparkSession!\n"
     ]
    }
   ],
   "source": [
    "spark.stop()\n",
    "print(\"Successfully stopped SparkSession!\")"
   ]
  }
 ],
 "metadata": {
  "kernelspec": {
   "display_name": "Python 3",
   "language": "python",
   "name": "python3"
  },
  "language_info": {
   "codemirror_mode": {
    "name": "ipython",
    "version": 3
   },
   "file_extension": ".py",
   "mimetype": "text/x-python",
   "name": "python",
   "nbconvert_exporter": "python",
   "pygments_lexer": "ipython3",
   "version": "3.6.9"
  }
 },
 "nbformat": 4,
 "nbformat_minor": 4
}
