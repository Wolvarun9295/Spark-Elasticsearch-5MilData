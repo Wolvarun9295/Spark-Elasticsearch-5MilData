{
 "cells": [
  {
   "cell_type": "markdown",
   "metadata": {},
   "source": [
    "### Importing the libraries"
   ]
  },
  {
   "cell_type": "code",
   "execution_count": 14,
   "metadata": {},
   "outputs": [],
   "source": [
    "import findspark\n",
    "from elasticsearch import Elasticsearch\n",
    "import requests\n",
    "from pprint import pprint"
   ]
  },
  {
   "cell_type": "markdown",
   "metadata": {},
   "source": [
    "### Finding locally installed Spark and importing PySpark libraries"
   ]
  },
  {
   "cell_type": "code",
   "execution_count": 15,
   "metadata": {},
   "outputs": [],
   "source": [
    "findspark.init(\"/usr/local/spark/\")\n",
    "from pyspark.sql import SparkSession, functions as func"
   ]
  },
  {
   "cell_type": "markdown",
   "metadata": {},
   "source": [
    "### Checking if Elasticsearch has successfully been connected"
   ]
  },
  {
   "cell_type": "code",
   "execution_count": 16,
   "metadata": {},
   "outputs": [
    {
     "name": "stdout",
     "output_type": "stream",
     "text": [
      "(b'{\\n  \"name\" : \"ip-172-31-14-175\",\\n  \"cluster_name\" : \"elasticsearch\",\\n  \"'\n",
      " b'cluster_uuid\" : \"ypf0RlCFQYytEO-JNW-MCg\",\\n  \"version\" : {\\n    \"number\" :'\n",
      " b' \"7.9.2\",\\n    \"build_flavor\" : \"default\",\\n    \"build_type\" : \"tar\",\\n    '\n",
      " b'\"build_hash\" : \"d34da0ea4a966c4e49417f2da2f244e3e97b4e6e\",\\n    \"build_da'\n",
      " b'te\" : \"2020-09-23T00:45:33.626720Z\",\\n    \"build_snapshot\" : false,\\n    \"'\n",
      " b'lucene_version\" : \"8.6.2\",\\n    \"minimum_wire_compatibility_version\" : \"6'\n",
      " b'.8.0\",\\n    \"minimum_index_compatibility_version\" : \"6.0.0-beta1\"\\n  },\\n  '\n",
      " b'\"tagline\" : \"You Know, for Search\"\\n}\\n')\n"
     ]
    }
   ],
   "source": [
    "res = requests.get('http://localhost:9200')\n",
    "pprint(res.content)"
   ]
  },
  {
   "cell_type": "markdown",
   "metadata": {},
   "source": [
    "### Creating an Elasticsearch object"
   ]
  },
  {
   "cell_type": "code",
   "execution_count": 17,
   "metadata": {},
   "outputs": [],
   "source": [
    "es = Elasticsearch([{'host': 'localhost', 'port': 9200}])"
   ]
  },
  {
   "cell_type": "markdown",
   "metadata": {},
   "source": [
    "### Creating Spark Session"
   ]
  },
  {
   "cell_type": "code",
   "execution_count": 18,
   "metadata": {},
   "outputs": [],
   "source": [
    "spark = SparkSession.builder.appName('task').getOrCreate()"
   ]
  },
  {
   "cell_type": "markdown",
   "metadata": {},
   "source": [
    "### Reading CSV with Spark and creating Dataframe"
   ]
  },
  {
   "cell_type": "code",
   "execution_count": 19,
   "metadata": {},
   "outputs": [
    {
     "name": "stdout",
     "output_type": "stream",
     "text": [
      "+------+----------+---------+------+--------------------+---------------------+-----------+--------------------+-----+-------+----------+-----+------+----------------+\n",
      "|Emp ID|First Name|Last Name|Gender|              E Mail|Month Name of Joining|        SSN|              County|State| Region|      City|  Zip|Salary|Salary Hike in %|\n",
      "+------+----------+---------+------+--------------------+---------------------+-----------+--------------------+-----+-------+----------+-----+------+----------------+\n",
      "|742048|    Lizeth|   Mccoll|     F|lizeth.mccoll@ibm...|              January|171-86-6830|               Stark|   OH|Midwest|  Alliance|44601|147446|              14|\n",
      "|671135| Argentina|     Hern|     F|argentina.hern@nt...|                April|083-02-3078|District of Columbia|   DC|  South|Washington|20411|129174|               8|\n",
      "|965851|    Damian|  Patillo|     M|damian.patillo@ou...|             December|326-11-9852|              Fresno|   CA|   West|    Burrel|93607|158746|               8|\n",
      "|224660|   Imogene| Hagopian|     F|imogene.hagopian@...|                 June|656-36-0772|              Brazos|   TX|  South|     Bryan|77806| 55761|              14|\n",
      "|852694|    Walker|  Wallach|     M|walker.wallach@ao...|             February|296-15-3535|              Vernon|   LA|  South|  Newllano|71461|197519|              24|\n",
      "+------+----------+---------+------+--------------------+---------------------+-----------+--------------------+-----+-------+----------+-----+------+----------------+\n",
      "only showing top 5 rows\n",
      "\n"
     ]
    }
   ],
   "source": [
    "df = spark.read.format(\"csv\").option(\"header\",\"true\").load(\"/home/ubuntu/Hr5m.csv\").fillna(0)[\"Emp ID\", \"First Name\", \"Last Name\", \"Gender\", \"E Mail\", \"Month Name of Joining\", \"SSN\", \"County\", \"State\", \"Region\", \"City\", \"Zip\", \"Salary\", func.regexp_replace(func.col(\"Last % Hike\"), \"%\", \"\").alias(\"Salary Hike in %\")]\n",
    "df.show(5)"
   ]
  },
  {
   "cell_type": "markdown",
   "metadata": {},
   "source": [
    "### Checking the total records in the PySpark Dataframe"
   ]
  },
  {
   "cell_type": "code",
   "execution_count": 20,
   "metadata": {},
   "outputs": [
    {
     "name": "stdout",
     "output_type": "stream",
     "text": [
      "Total records present: 5000000\n"
     ]
    }
   ],
   "source": [
    "print(f\"Total records present: {df.count()}\")"
   ]
  },
  {
   "cell_type": "markdown",
   "metadata": {},
   "source": [
    "### Checking the data types"
   ]
  },
  {
   "cell_type": "code",
   "execution_count": 21,
   "metadata": {},
   "outputs": [
    {
     "data": {
      "text/plain": [
       "[('Emp ID', 'string'),\n",
       " ('First Name', 'string'),\n",
       " ('Last Name', 'string'),\n",
       " ('Gender', 'string'),\n",
       " ('E Mail', 'string'),\n",
       " ('Month Name of Joining', 'string'),\n",
       " ('SSN', 'string'),\n",
       " ('County', 'string'),\n",
       " ('State', 'string'),\n",
       " ('Region', 'string'),\n",
       " ('City', 'string'),\n",
       " ('Zip', 'string'),\n",
       " ('Salary', 'string'),\n",
       " ('Salary Hike in %', 'string')]"
      ]
     },
     "execution_count": 21,
     "metadata": {},
     "output_type": "execute_result"
    }
   ],
   "source": [
    "df.dtypes"
   ]
  },
  {
   "cell_type": "markdown",
   "metadata": {},
   "source": [
    "### Casting 'string' value to 'int'"
   ]
  },
  {
   "cell_type": "code",
   "execution_count": 22,
   "metadata": {},
   "outputs": [
    {
     "data": {
      "text/plain": [
       "[('Emp ID', 'int'),\n",
       " ('First Name', 'string'),\n",
       " ('Last Name', 'string'),\n",
       " ('Gender', 'string'),\n",
       " ('E Mail', 'string'),\n",
       " ('Month Name of Joining', 'string'),\n",
       " ('SSN', 'string'),\n",
       " ('County', 'string'),\n",
       " ('State', 'string'),\n",
       " ('Region', 'string'),\n",
       " ('City', 'string'),\n",
       " ('Zip', 'int'),\n",
       " ('Salary', 'int'),\n",
       " ('Salary Hike in %', 'int')]"
      ]
     },
     "execution_count": 22,
     "metadata": {},
     "output_type": "execute_result"
    }
   ],
   "source": [
    "df = df.withColumn(\"Emp ID\", df[\"Emp ID\"].cast(\"int\"))\n",
    "df = df.withColumn(\"Zip\", df[\"Zip\"].cast(\"int\"))\n",
    "df = df.withColumn(\"Salary\", df[\"Salary\"].cast(\"int\"))\n",
    "df = df.withColumn(\"Salary Hike in %\", df[\"Salary Hike in %\"].cast(\"int\"))\n",
    "df.dtypes"
   ]
  },
  {
   "cell_type": "markdown",
   "metadata": {},
   "source": [
    "### Checking if the changes have been made successfully"
   ]
  },
  {
   "cell_type": "code",
   "execution_count": 23,
   "metadata": {},
   "outputs": [
    {
     "name": "stdout",
     "output_type": "stream",
     "text": [
      "+------+----------+---------+------+--------------------+---------------------+-----------+--------------------+-----+-------+----------+-----+------+----------------+\n",
      "|Emp ID|First Name|Last Name|Gender|              E Mail|Month Name of Joining|        SSN|              County|State| Region|      City|  Zip|Salary|Salary Hike in %|\n",
      "+------+----------+---------+------+--------------------+---------------------+-----------+--------------------+-----+-------+----------+-----+------+----------------+\n",
      "|742048|    Lizeth|   Mccoll|     F|lizeth.mccoll@ibm...|              January|171-86-6830|               Stark|   OH|Midwest|  Alliance|44601|147446|              14|\n",
      "|671135| Argentina|     Hern|     F|argentina.hern@nt...|                April|083-02-3078|District of Columbia|   DC|  South|Washington|20411|129174|               8|\n",
      "|965851|    Damian|  Patillo|     M|damian.patillo@ou...|             December|326-11-9852|              Fresno|   CA|   West|    Burrel|93607|158746|               8|\n",
      "|224660|   Imogene| Hagopian|     F|imogene.hagopian@...|                 June|656-36-0772|              Brazos|   TX|  South|     Bryan|77806| 55761|              14|\n",
      "|852694|    Walker|  Wallach|     M|walker.wallach@ao...|             February|296-15-3535|              Vernon|   LA|  South|  Newllano|71461|197519|              24|\n",
      "+------+----------+---------+------+--------------------+---------------------+-----------+--------------------+-----+-------+----------+-----+------+----------------+\n",
      "only showing top 5 rows\n",
      "\n"
     ]
    }
   ],
   "source": [
    "df.show(5)"
   ]
  },
  {
   "cell_type": "markdown",
   "metadata": {},
   "source": [
    "### Checking the Schema"
   ]
  },
  {
   "cell_type": "code",
   "execution_count": 24,
   "metadata": {},
   "outputs": [
    {
     "name": "stdout",
     "output_type": "stream",
     "text": [
      "root\n",
      " |-- Emp ID: integer (nullable = true)\n",
      " |-- First Name: string (nullable = true)\n",
      " |-- Last Name: string (nullable = true)\n",
      " |-- Gender: string (nullable = true)\n",
      " |-- E Mail: string (nullable = true)\n",
      " |-- Month Name of Joining: string (nullable = true)\n",
      " |-- SSN: string (nullable = true)\n",
      " |-- County: string (nullable = true)\n",
      " |-- State: string (nullable = true)\n",
      " |-- Region: string (nullable = true)\n",
      " |-- City: string (nullable = true)\n",
      " |-- Zip: integer (nullable = true)\n",
      " |-- Salary: integer (nullable = true)\n",
      " |-- Salary Hike in %: integer (nullable = true)\n",
      "\n"
     ]
    }
   ],
   "source": [
    "df.printSchema()"
   ]
  },
  {
   "cell_type": "markdown",
   "metadata": {},
   "source": [
    "### Ingesting Pyspark Dataframe in Elasticsearch directly"
   ]
  },
  {
   "cell_type": "code",
   "execution_count": 25,
   "metadata": {},
   "outputs": [
    {
     "name": "stdout",
     "output_type": "stream",
     "text": [
      "Successfully ingested data into Elasticsearch!\n"
     ]
    }
   ],
   "source": [
    "df.write.format(\n",
    "    \"org.elasticsearch.spark.sql\"\n",
    ").option(\n",
    "    \"es.resource\", '%s' % ('humans')\n",
    ").option(\n",
    "    \"es.nodes\", 'localhost'\n",
    ").option(\n",
    "    \"es.port\", '9200'\n",
    ").save()\n",
    "print(\"Successfully ingested data into Elasticsearch!\")"
   ]
  },
  {
   "cell_type": "markdown",
   "metadata": {},
   "source": [
    "### Setting the output limit"
   ]
  },
  {
   "cell_type": "code",
   "execution_count": 26,
   "metadata": {},
   "outputs": [
    {
     "data": {
      "text/plain": [
       "{'acknowledged': True}"
      ]
     },
     "execution_count": 26,
     "metadata": {},
     "output_type": "execute_result"
    }
   ],
   "source": [
    "es.indices.put_settings(index=\"humans\", body = {\"index\" : { \"max_result_window\" : 5000000 }})"
   ]
  },
  {
   "cell_type": "markdown",
   "metadata": {},
   "source": [
    "### Counting the records in index to see if PySpark Dataframe has been successfully ingested"
   ]
  },
  {
   "cell_type": "code",
   "execution_count": 27,
   "metadata": {},
   "outputs": [
    {
     "data": {
      "text/plain": [
       "{'count': 5000000,\n",
       " '_shards': {'total': 1, 'successful': 1, 'skipped': 0, 'failed': 0}}"
      ]
     },
     "execution_count": 27,
     "metadata": {},
     "output_type": "execute_result"
    }
   ],
   "source": [
    "es.count(index= \"humans\")"
   ]
  },
  {
   "cell_type": "markdown",
   "metadata": {},
   "source": [
    "### Task 1: Count the number of employees in each County, Region and City"
   ]
  },
  {
   "cell_type": "code",
   "execution_count": 32,
   "metadata": {},
   "outputs": [
    {
     "name": "stdout",
     "output_type": "stream",
     "text": [
      "[{'doc_count': 90, 'key': 'Aaron'},\n",
      " {'doc_count': 509, 'key': 'Abbeville'},\n",
      " {'doc_count': 1373, 'key': 'Acadia'},\n",
      " {'doc_count': 4611, 'key': 'Accomack'},\n",
      " {'doc_count': 5104, 'key': 'Ada'}]\n"
     ]
    }
   ],
   "source": [
    "res = es.search(index=\"humans\", size=0, body={\"aggs\": {\"No. of Employees per County\": {\"terms\": {\"field\": \"County.keyword\",\"size\": 5, \"order\": {\"_key\": \"asc\"}}}}})\n",
    "pprint(res[\"aggregations\"][\"No. of Employees per County\"][\"buckets\"])"
   ]
  },
  {
   "cell_type": "code",
   "execution_count": 33,
   "metadata": {},
   "outputs": [
    {
     "name": "stdout",
     "output_type": "stream",
     "text": [
      "[{'doc_count': 1372439, 'key': 'Midwest'},\n",
      " {'doc_count': 886984, 'key': 'Northeast'},\n",
      " {'doc_count': 1855656, 'key': 'South'},\n",
      " {'doc_count': 884921, 'key': 'West'}]\n"
     ]
    }
   ],
   "source": [
    "res = es.search(index=\"humans\", size=0, body={\"aggs\":{\"No. of Employees per Region\" : {\"terms\":{\"field\": \"Region.keyword\", \"order\": {\"_key\": \"asc\"}}}}})\n",
    "pprint(res[\"aggregations\"][\"No. of Employees per Region\"][\"buckets\"])"
   ]
  },
  {
   "cell_type": "code",
   "execution_count": 34,
   "metadata": {},
   "outputs": [
    {
     "name": "stdout",
     "output_type": "stream",
     "text": [
      "[{'doc_count': 90, 'key': 'Aaron'},\n",
      " {'doc_count': 96, 'key': 'Aaronsburg'},\n",
      " {'doc_count': 681, 'key': 'Abbeville'},\n",
      " {'doc_count': 139, 'key': 'Abbot'},\n",
      " {'doc_count': 118, 'key': 'Abbotsford'}]\n"
     ]
    }
   ],
   "source": [
    "res = es.search(index=\"humans\", size=0, body={\"aggs\":{\"No. of Employees per City\" : {\"terms\":{\"field\": \"City.keyword\", \"size\": 5, \"order\": {\"_key\": \"asc\"}}}}})\n",
    "pprint(res[\"aggregations\"][\"No. of Employees per City\"][\"buckets\"])"
   ]
  },
  {
   "cell_type": "markdown",
   "metadata": {},
   "source": [
    "### Task 2: Generate Employee Summary"
   ]
  },
  {
   "cell_type": "code",
   "execution_count": 35,
   "metadata": {},
   "outputs": [
    {
     "name": "stdout",
     "output_type": "stream",
     "text": [
      "[{'_id': 'bAo_JnUB6zQKO643xqax',\n",
      "  '_index': 'humans',\n",
      "  '_score': 1.0,\n",
      "  '_source': {'City': 'Charlotte',\n",
      "              'County': 'Mecklenburg',\n",
      "              'E Mail': 'walter.shelly@gmail.com',\n",
      "              'Emp ID': 547291,\n",
      "              'First Name': 'Walter',\n",
      "              'Gender': 'M',\n",
      "              'Last Name': 'Shelly',\n",
      "              'Month Name of Joining': 'February',\n",
      "              'Region': 'South',\n",
      "              'SSN': '423-67-5915',\n",
      "              'Salary': 117819,\n",
      "              'Salary Hike in %': 21,\n",
      "              'State': 'NC',\n",
      "              'Zip': 28289},\n",
      "  '_type': '_doc'},\n",
      " {'_id': 'bQo_JnUB6zQKO643xqax',\n",
      "  '_index': 'humans',\n",
      "  '_score': 1.0,\n",
      "  '_source': {'City': 'Geraldine',\n",
      "              'County': 'Chouteau',\n",
      "              'E Mail': 'efren.samuel@yahoo.com',\n",
      "              'Emp ID': 430700,\n",
      "              'First Name': 'Efren',\n",
      "              'Gender': 'M',\n",
      "              'Last Name': 'Samuel',\n",
      "              'Month Name of Joining': 'August',\n",
      "              'Region': 'West',\n",
      "              'SSN': '102-02-7322',\n",
      "              'Salary': 189607,\n",
      "              'Salary Hike in %': 12,\n",
      "              'State': 'MT',\n",
      "              'Zip': 59446},\n",
      "  '_type': '_doc'},\n",
      " {'_id': 'bgo_JnUB6zQKO643xqax',\n",
      "  '_index': 'humans',\n",
      "  '_score': 1.0,\n",
      "  '_source': {'City': 'Protivin',\n",
      "              'County': 'Howard',\n",
      "              'E Mail': 'darrin.mericle@gmail.com',\n",
      "              'Emp ID': 550167,\n",
      "              'First Name': 'Darrin',\n",
      "              'Gender': 'M',\n",
      "              'Last Name': 'Mericle',\n",
      "              'Month Name of Joining': 'February',\n",
      "              'Region': 'Midwest',\n",
      "              'SSN': '518-89-5402',\n",
      "              'Salary': 52789,\n",
      "              'Salary Hike in %': 18,\n",
      "              'State': 'IA',\n",
      "              'Zip': 52163},\n",
      "  '_type': '_doc'},\n",
      " {'_id': 'bwo_JnUB6zQKO643xqax',\n",
      "  '_index': 'humans',\n",
      "  '_score': 1.0,\n",
      "  '_source': {'City': 'Salt Lake City',\n",
      "              'County': 'Salt Lake',\n",
      "              'E Mail': 'kandra.whitehill@hotmail.com',\n",
      "              'Emp ID': 604906,\n",
      "              'First Name': 'Kandra',\n",
      "              'Gender': 'F',\n",
      "              'Last Name': 'Whitehill',\n",
      "              'Month Name of Joining': 'February',\n",
      "              'Region': 'West',\n",
      "              'SSN': '299-15-1836',\n",
      "              'Salary': 177604,\n",
      "              'Salary Hike in %': 18,\n",
      "              'State': 'UT',\n",
      "              'Zip': 84141},\n",
      "  '_type': '_doc'},\n",
      " {'_id': 'cAo_JnUB6zQKO643xqax',\n",
      "  '_index': 'humans',\n",
      "  '_score': 1.0,\n",
      "  '_source': {'City': 'Rensselaer',\n",
      "              'County': 'Jasper',\n",
      "              'E Mail': 'andre.ripple@gmail.com',\n",
      "              'Emp ID': 923490,\n",
      "              'First Name': 'Andre',\n",
      "              'Gender': 'M',\n",
      "              'Last Name': 'Ripple',\n",
      "              'Month Name of Joining': 'June',\n",
      "              'Region': 'Midwest',\n",
      "              'SSN': '450-99-8154',\n",
      "              'Salary': 170066,\n",
      "              'Salary Hike in %': 21,\n",
      "              'State': 'IN',\n",
      "              'Zip': 47978},\n",
      "  '_type': '_doc'}]\n"
     ]
    }
   ],
   "source": [
    "res = es.search(index=\"humans\", size=5, body={\"query\": {\"match_all\": {}}})\n",
    "pprint(res[\"hits\"][\"hits\"])"
   ]
  },
  {
   "cell_type": "markdown",
   "metadata": {},
   "source": [
    "### Task 3: Generate employee summary and ordering by Gender and Salary"
   ]
  },
  {
   "cell_type": "code",
   "execution_count": 36,
   "metadata": {},
   "outputs": [
    {
     "name": "stdout",
     "output_type": "stream",
     "text": [
      "[{'_id': 'Zgg_JnUB6zQKO643fQON',\n",
      "  '_index': 'humans',\n",
      "  '_score': None,\n",
      "  '_source': {'City': 'Saint Landry',\n",
      "              'County': 'Evangeline',\n",
      "              'E Mail': 'ariana.cumberbatch@msn.com',\n",
      "              'Emp ID': 506893,\n",
      "              'First Name': 'Ariana',\n",
      "              'Gender': 'F',\n",
      "              'Last Name': 'Cumberbatch',\n",
      "              'Month Name of Joining': 'June',\n",
      "              'Region': 'South',\n",
      "              'SSN': '057-02-5798',\n",
      "              'Salary': 40000,\n",
      "              'Salary Hike in %': 4,\n",
      "              'State': 'LA',\n",
      "              'Zip': 71367},\n",
      "  '_type': '_doc',\n",
      "  'sort': ['F', 40000]},\n",
      " {'_id': 'rk9FJnUB6zQKO643p0WP',\n",
      "  '_index': 'humans',\n",
      "  '_score': None,\n",
      "  '_source': {'City': 'Dallas',\n",
      "              'County': 'Dallas',\n",
      "              'E Mail': 'amee.gagliano@yahoo.ca',\n",
      "              'Emp ID': 616703,\n",
      "              'First Name': 'Amee',\n",
      "              'Gender': 'F',\n",
      "              'Last Name': 'Gagliano',\n",
      "              'Month Name of Joining': 'August',\n",
      "              'Region': 'South',\n",
      "              'SSN': '762-12-9963',\n",
      "              'Salary': 40000,\n",
      "              'Salary Hike in %': 14,\n",
      "              'State': 'TX',\n",
      "              'Zip': 75312},\n",
      "  '_type': '_doc',\n",
      "  'sort': ['F', 40000]},\n",
      " {'_id': '11JFJnUB6zQKO6435QpX',\n",
      "  '_index': 'humans',\n",
      "  '_score': None,\n",
      "  '_source': {'City': 'Plainfield',\n",
      "              'County': 'Dodge',\n",
      "              'E Mail': 'agripina.leclair@cox.net',\n",
      "              'Emp ID': 654026,\n",
      "              'First Name': 'Agripina',\n",
      "              'Gender': 'F',\n",
      "              'Last Name': 'Leclair',\n",
      "              'Month Name of Joining': 'December',\n",
      "              'Region': 'South',\n",
      "              'SSN': '112-98-1371',\n",
      "              'Salary': 40000,\n",
      "              'Salary Hike in %': 0,\n",
      "              'State': 'GA',\n",
      "              'Zip': 31073},\n",
      "  '_type': '_doc',\n",
      "  'sort': ['F', 40000]},\n",
      " {'_id': 'ExdBJnUB6zQKO643DLiV',\n",
      "  '_index': 'humans',\n",
      "  '_score': None,\n",
      "  '_source': {'City': 'Amarillo',\n",
      "              'County': 'Potter',\n",
      "              'E Mail': 'vonnie.vallejos@yahoo.co.in',\n",
      "              'Emp ID': 117353,\n",
      "              'First Name': 'Vonnie',\n",
      "              'Gender': 'F',\n",
      "              'Last Name': 'Vallejos',\n",
      "              'Month Name of Joining': 'August',\n",
      "              'Region': 'South',\n",
      "              'SSN': '342-11-1884',\n",
      "              'Salary': 40000,\n",
      "              'Salary Hike in %': 9,\n",
      "              'State': 'TX',\n",
      "              'Zip': 79164},\n",
      "  '_type': '_doc',\n",
      "  'sort': ['F', 40000]},\n",
      " {'_id': '2BJAJnUB6zQKO643lbL-',\n",
      "  '_index': 'humans',\n",
      "  '_score': None,\n",
      "  '_source': {'City': 'Bantry',\n",
      "              'County': 'McHenry',\n",
      "              'E Mail': 'vikki.grosso@hotmail.com',\n",
      "              'Emp ID': 832197,\n",
      "              'First Name': 'Vikki',\n",
      "              'Gender': 'F',\n",
      "              'Last Name': 'Grosso',\n",
      "              'Month Name of Joining': 'October',\n",
      "              'Region': 'Midwest',\n",
      "              'SSN': '131-98-5564',\n",
      "              'Salary': 40000,\n",
      "              'Salary Hike in %': 14,\n",
      "              'State': 'ND',\n",
      "              'Zip': 58713},\n",
      "  '_type': '_doc',\n",
      "  'sort': ['F', 40000]}]\n"
     ]
    }
   ],
   "source": [
    "res=es.search(index=\"humans\", size=5, body={\"sort\":[{\"Gender.keyword\":{\"order\":\"asc\"}}, {\"Salary\":{\"order\":\"asc\"}}]})\n",
    "pprint(res[\"hits\"][\"hits\"])"
   ]
  },
  {
   "cell_type": "markdown",
   "metadata": {},
   "source": [
    "### Task 4: Summerize the number of employee joined and hikes granted based on month"
   ]
  },
  {
   "cell_type": "code",
   "execution_count": 37,
   "metadata": {},
   "outputs": [
    {
     "name": "stdout",
     "output_type": "stream",
     "text": [
      "[{'doc_count': 468295, 'key': 'August'},\n",
      " {'doc_count': 450981, 'key': 'July'},\n",
      " {'doc_count': 434522, 'key': 'May'},\n",
      " {'doc_count': 427424, 'key': 'June'},\n",
      " {'doc_count': 422987, 'key': 'March'},\n",
      " {'doc_count': 414484, 'key': 'April'},\n",
      " {'doc_count': 413247, 'key': 'January'},\n",
      " {'doc_count': 408721, 'key': 'December'},\n",
      " {'doc_count': 400048, 'key': 'October'},\n",
      " {'doc_count': 392382, 'key': 'November'},\n",
      " {'doc_count': 384646, 'key': 'September'},\n",
      " {'doc_count': 382263, 'key': 'February'}]\n"
     ]
    }
   ],
   "source": [
    "res=es.search(index=\"humans\", size=0, body={\"aggs\":{\"No. of Employees joined in particular Month\" : {\"terms\":{\"field\": \"Month Name of Joining.keyword\", \"size\": 12}}}})\n",
    "pprint(res[\"aggregations\"][\"No. of Employees joined in particular Month\"][\"buckets\"])"
   ]
  },
  {
   "cell_type": "code",
   "execution_count": 39,
   "metadata": {},
   "outputs": [
    {
     "name": "stdout",
     "output_type": "stream",
     "text": [
      "[{'Hikes granted in this Month': {'buckets': [],\n",
      "                                  'doc_count_error_upper_bound': 0,\n",
      "                                  'sum_other_doc_count': 0},\n",
      "  'doc_count': 468295,\n",
      "  'key': 'August'},\n",
      " {'Hikes granted in this Month': {'buckets': [],\n",
      "                                  'doc_count_error_upper_bound': 0,\n",
      "                                  'sum_other_doc_count': 0},\n",
      "  'doc_count': 450981,\n",
      "  'key': 'July'},\n",
      " {'Hikes granted in this Month': {'buckets': [],\n",
      "                                  'doc_count_error_upper_bound': 0,\n",
      "                                  'sum_other_doc_count': 0},\n",
      "  'doc_count': 434522,\n",
      "  'key': 'May'},\n",
      " {'Hikes granted in this Month': {'buckets': [],\n",
      "                                  'doc_count_error_upper_bound': 0,\n",
      "                                  'sum_other_doc_count': 0},\n",
      "  'doc_count': 427424,\n",
      "  'key': 'June'},\n",
      " {'Hikes granted in this Month': {'buckets': [],\n",
      "                                  'doc_count_error_upper_bound': 0,\n",
      "                                  'sum_other_doc_count': 0},\n",
      "  'doc_count': 422987,\n",
      "  'key': 'March'},\n",
      " {'Hikes granted in this Month': {'buckets': [],\n",
      "                                  'doc_count_error_upper_bound': 0,\n",
      "                                  'sum_other_doc_count': 0},\n",
      "  'doc_count': 414484,\n",
      "  'key': 'April'},\n",
      " {'Hikes granted in this Month': {'buckets': [],\n",
      "                                  'doc_count_error_upper_bound': 0,\n",
      "                                  'sum_other_doc_count': 0},\n",
      "  'doc_count': 413247,\n",
      "  'key': 'January'},\n",
      " {'Hikes granted in this Month': {'buckets': [],\n",
      "                                  'doc_count_error_upper_bound': 0,\n",
      "                                  'sum_other_doc_count': 0},\n",
      "  'doc_count': 408721,\n",
      "  'key': 'December'},\n",
      " {'Hikes granted in this Month': {'buckets': [],\n",
      "                                  'doc_count_error_upper_bound': 0,\n",
      "                                  'sum_other_doc_count': 0},\n",
      "  'doc_count': 400048,\n",
      "  'key': 'October'},\n",
      " {'Hikes granted in this Month': {'buckets': [],\n",
      "                                  'doc_count_error_upper_bound': 0,\n",
      "                                  'sum_other_doc_count': 0},\n",
      "  'doc_count': 392382,\n",
      "  'key': 'November'},\n",
      " {'Hikes granted in this Month': {'buckets': [],\n",
      "                                  'doc_count_error_upper_bound': 0,\n",
      "                                  'sum_other_doc_count': 0},\n",
      "  'doc_count': 384646,\n",
      "  'key': 'September'},\n",
      " {'Hikes granted in this Month': {'buckets': [],\n",
      "                                  'doc_count_error_upper_bound': 0,\n",
      "                                  'sum_other_doc_count': 0},\n",
      "  'doc_count': 382263,\n",
      "  'key': 'February'}]\n"
     ]
    }
   ],
   "source": [
    "res=es.search(index=\"humans\", size=0, body={\"aggs\": {\"Month\": {\"terms\": {\"field\": \"Month Name of Joining.keyword\", \"size\":12},\"aggs\": {\"Hikes granted in this Month\": {\"terms\": {\"field\": \"Salary Hike\"}}}}}})\n",
    "pprint(res[\"aggregations\"][\"Month\"][\"buckets\"])"
   ]
  },
  {
   "cell_type": "markdown",
   "metadata": {},
   "source": [
    "### Task 5: Generate employee summary and ordering by Salary"
   ]
  },
  {
   "cell_type": "code",
   "execution_count": 40,
   "metadata": {},
   "outputs": [
    {
     "name": "stdout",
     "output_type": "stream",
     "text": [
      "[{'_id': 'Bw1AJnUB6zQKO643Hnoz',\n",
      "  '_index': 'humans',\n",
      "  '_score': None,\n",
      "  '_source': {'City': 'Louann',\n",
      "              'County': 'Ouachita',\n",
      "              'E Mail': 'kirk.deem@gmail.com',\n",
      "              'Emp ID': 336973,\n",
      "              'First Name': 'Kirk',\n",
      "              'Gender': 'M',\n",
      "              'Last Name': 'Deem',\n",
      "              'Month Name of Joining': 'April',\n",
      "              'Region': 'South',\n",
      "              'SSN': '623-85-7102',\n",
      "              'Salary': 40000,\n",
      "              'Salary Hike in %': 28,\n",
      "              'State': 'AR',\n",
      "              'Zip': 71751},\n",
      "  '_type': '_doc',\n",
      "  'sort': [40000]},\n",
      " {'_id': 'Hgs_JnUB6zQKO643101x',\n",
      "  '_index': 'humans',\n",
      "  '_score': None,\n",
      "  '_source': {'City': 'Tire Hill',\n",
      "              'County': 'Somerset',\n",
      "              'E Mail': 'rosario.hillyard@gmail.com',\n",
      "              'Emp ID': 680938,\n",
      "              'First Name': 'Rosario',\n",
      "              'Gender': 'M',\n",
      "              'Last Name': 'Hillyard',\n",
      "              'Month Name of Joining': 'November',\n",
      "              'Region': 'Northeast',\n",
      "              'SSN': '307-37-6816',\n",
      "              'Salary': 40000,\n",
      "              'Salary Hike in %': 30,\n",
      "              'State': 'PA',\n",
      "              'Zip': 15959},\n",
      "  '_type': '_doc',\n",
      "  'sort': [40000]},\n",
      " {'_id': 'Zgg_JnUB6zQKO643fQON',\n",
      "  '_index': 'humans',\n",
      "  '_score': None,\n",
      "  '_source': {'City': 'Saint Landry',\n",
      "              'County': 'Evangeline',\n",
      "              'E Mail': 'ariana.cumberbatch@msn.com',\n",
      "              'Emp ID': 506893,\n",
      "              'First Name': 'Ariana',\n",
      "              'Gender': 'F',\n",
      "              'Last Name': 'Cumberbatch',\n",
      "              'Month Name of Joining': 'June',\n",
      "              'Region': 'South',\n",
      "              'SSN': '057-02-5798',\n",
      "              'Salary': 40000,\n",
      "              'Salary Hike in %': 4,\n",
      "              'State': 'LA',\n",
      "              'Zip': 71367},\n",
      "  '_type': '_doc',\n",
      "  'sort': [40000]},\n",
      " {'_id': 'rk9FJnUB6zQKO643p0WP',\n",
      "  '_index': 'humans',\n",
      "  '_score': None,\n",
      "  '_source': {'City': 'Dallas',\n",
      "              'County': 'Dallas',\n",
      "              'E Mail': 'amee.gagliano@yahoo.ca',\n",
      "              'Emp ID': 616703,\n",
      "              'First Name': 'Amee',\n",
      "              'Gender': 'F',\n",
      "              'Last Name': 'Gagliano',\n",
      "              'Month Name of Joining': 'August',\n",
      "              'Region': 'South',\n",
      "              'SSN': '762-12-9963',\n",
      "              'Salary': 40000,\n",
      "              'Salary Hike in %': 14,\n",
      "              'State': 'TX',\n",
      "              'Zip': 75312},\n",
      "  '_type': '_doc',\n",
      "  'sort': [40000]},\n",
      " {'_id': 'rVFFJnUB6zQKO6432oI2',\n",
      "  '_index': 'humans',\n",
      "  '_score': None,\n",
      "  '_source': {'City': 'Des Moines',\n",
      "              'County': 'Polk',\n",
      "              'E Mail': 'marquis.rios@yahoo.com',\n",
      "              'Emp ID': 937881,\n",
      "              'First Name': 'Marquis',\n",
      "              'Gender': 'M',\n",
      "              'Last Name': 'Rios',\n",
      "              'Month Name of Joining': 'May',\n",
      "              'Region': 'Midwest',\n",
      "              'SSN': '372-37-6324',\n",
      "              'Salary': 40000,\n",
      "              'Salary Hike in %': 5,\n",
      "              'State': 'IA',\n",
      "              'Zip': 50305},\n",
      "  '_type': '_doc',\n",
      "  'sort': [40000]}]\n"
     ]
    }
   ],
   "source": [
    "res=es.search(index=\"humans\", size=5, body={\"query\":{\"match_all\":{}}, \"sort\":[{\"Salary\":{\"order\":\"asc\"}}]})\n",
    "pprint(res[\"hits\"][\"hits\"])"
   ]
  },
  {
   "cell_type": "markdown",
   "metadata": {},
   "source": [
    "### Deleting the index from elasticsearch"
   ]
  },
  {
   "cell_type": "code",
   "execution_count": 41,
   "metadata": {},
   "outputs": [
    {
     "data": {
      "text/plain": [
       "{'acknowledged': True}"
      ]
     },
     "execution_count": 41,
     "metadata": {},
     "output_type": "execute_result"
    }
   ],
   "source": [
    "es.indices.delete(index='humans')"
   ]
  },
  {
   "cell_type": "markdown",
   "metadata": {},
   "source": [
    "### Stopping the SparkSession"
   ]
  },
  {
   "cell_type": "code",
   "execution_count": 42,
   "metadata": {},
   "outputs": [
    {
     "name": "stdout",
     "output_type": "stream",
     "text": [
      "Successfully stopped SparkSession!\n"
     ]
    }
   ],
   "source": [
    "spark.stop()\n",
    "print(\"Successfully stopped SparkSession!\")"
   ]
  }
 ],
 "metadata": {
  "kernelspec": {
   "display_name": "Python 3",
   "language": "python",
   "name": "python3"
  },
  "language_info": {
   "codemirror_mode": {
    "name": "ipython",
    "version": 3
   },
   "file_extension": ".py",
   "mimetype": "text/x-python",
   "name": "python",
   "nbconvert_exporter": "python",
   "pygments_lexer": "ipython3",
   "version": "3.6.9"
  }
 },
 "nbformat": 4,
 "nbformat_minor": 4
}
