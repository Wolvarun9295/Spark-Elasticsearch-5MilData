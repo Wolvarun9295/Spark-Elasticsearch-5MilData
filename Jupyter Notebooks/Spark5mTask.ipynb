{
 "cells": [
  {
   "cell_type": "markdown",
   "metadata": {},
   "source": [
    "### Finding locally installed Spark and importing PySpark libraries"
   ]
  },
  {
   "cell_type": "code",
   "execution_count": 1,
   "metadata": {},
   "outputs": [],
   "source": [
    "import findspark\n",
    "findspark.init(\"/usr/local/spark/\")\n",
    "from pyspark.sql import SparkSession, functions as func"
   ]
  },
  {
   "cell_type": "markdown",
   "metadata": {},
   "source": [
    "### Creating Spark Session"
   ]
  },
  {
   "cell_type": "code",
   "execution_count": 2,
   "metadata": {},
   "outputs": [],
   "source": [
    "spark = SparkSession.builder.appName('task').getOrCreate()"
   ]
  },
  {
   "cell_type": "markdown",
   "metadata": {},
   "source": [
    "### Reading 5 million data CSV with Spark by loading the file"
   ]
  },
  {
   "cell_type": "code",
   "execution_count": 3,
   "metadata": {},
   "outputs": [
    {
     "name": "stdout",
     "output_type": "stream",
     "text": [
      "+------+----------+---------+------+--------------------+---------------------+-----------+--------------------+-----+-------+----------+-----+------+----------------+\n",
      "|Emp ID|First Name|Last Name|Gender|              E Mail|Month Name of Joining|        SSN|              County|State| Region|      City|  Zip|Salary|Salary Hike in %|\n",
      "+------+----------+---------+------+--------------------+---------------------+-----------+--------------------+-----+-------+----------+-----+------+----------------+\n",
      "|742048|    Lizeth|   Mccoll|     F|lizeth.mccoll@ibm...|              January|171-86-6830|               Stark|   OH|Midwest|  Alliance|44601|147446|              14|\n",
      "|671135| Argentina|     Hern|     F|argentina.hern@nt...|                April|083-02-3078|District of Columbia|   DC|  South|Washington|20411|129174|               8|\n",
      "|965851|    Damian|  Patillo|     M|damian.patillo@ou...|             December|326-11-9852|              Fresno|   CA|   West|    Burrel|93607|158746|               8|\n",
      "|224660|   Imogene| Hagopian|     F|imogene.hagopian@...|                 June|656-36-0772|              Brazos|   TX|  South|     Bryan|77806| 55761|              14|\n",
      "|852694|    Walker|  Wallach|     M|walker.wallach@ao...|             February|296-15-3535|              Vernon|   LA|  South|  Newllano|71461|197519|              24|\n",
      "+------+----------+---------+------+--------------------+---------------------+-----------+--------------------+-----+-------+----------+-----+------+----------------+\n",
      "only showing top 5 rows\n",
      "\n"
     ]
    }
   ],
   "source": [
    "df = spark.read.format(\"csv\").option(\"header\",\"true\").load(\"/home/ubuntu/Hr5m.csv\").fillna(0)[\"Emp ID\", \"First Name\", \"Last Name\", \"Gender\", \"E Mail\", \"Month Name of Joining\", \"SSN\", \"County\", \"State\", \"Region\", \"City\", \"Zip\", \"Salary\", func.regexp_replace(func.col(\"Last % Hike\"), \"%\", \"\").alias(\"Salary Hike in %\")]\n",
    "df.show(5)"
   ]
  },
  {
   "cell_type": "markdown",
   "metadata": {},
   "source": [
    "### Checking the total records in the PySpark Dataframe"
   ]
  },
  {
   "cell_type": "code",
   "execution_count": 6,
   "metadata": {},
   "outputs": [
    {
     "name": "stdout",
     "output_type": "stream",
     "text": [
      "Total records present: 5000000\n"
     ]
    }
   ],
   "source": [
    "print(f\"Total records present: {df.count()}\")"
   ]
  },
  {
   "cell_type": "markdown",
   "metadata": {},
   "source": [
    "### Checking the data types"
   ]
  },
  {
   "cell_type": "code",
   "execution_count": 4,
   "metadata": {},
   "outputs": [
    {
     "data": {
      "text/plain": [
       "[('Emp ID', 'string'),\n",
       " ('First Name', 'string'),\n",
       " ('Last Name', 'string'),\n",
       " ('Gender', 'string'),\n",
       " ('E Mail', 'string'),\n",
       " ('Month Name of Joining', 'string'),\n",
       " ('SSN', 'string'),\n",
       " ('County', 'string'),\n",
       " ('State', 'string'),\n",
       " ('Region', 'string'),\n",
       " ('City', 'string'),\n",
       " ('Zip', 'string'),\n",
       " ('Salary', 'string'),\n",
       " ('Salary Hike in %', 'string')]"
      ]
     },
     "execution_count": 4,
     "metadata": {},
     "output_type": "execute_result"
    }
   ],
   "source": [
    "df.dtypes"
   ]
  },
  {
   "cell_type": "markdown",
   "metadata": {},
   "source": [
    "### Casting 'string' value to 'int'"
   ]
  },
  {
   "cell_type": "code",
   "execution_count": 5,
   "metadata": {},
   "outputs": [
    {
     "data": {
      "text/plain": [
       "[('Emp ID', 'int'),\n",
       " ('First Name', 'string'),\n",
       " ('Last Name', 'string'),\n",
       " ('Gender', 'string'),\n",
       " ('E Mail', 'string'),\n",
       " ('Month Name of Joining', 'string'),\n",
       " ('SSN', 'string'),\n",
       " ('County', 'string'),\n",
       " ('State', 'string'),\n",
       " ('Region', 'string'),\n",
       " ('City', 'string'),\n",
       " ('Zip', 'int'),\n",
       " ('Salary', 'int'),\n",
       " ('Salary Hike in %', 'int')]"
      ]
     },
     "execution_count": 5,
     "metadata": {},
     "output_type": "execute_result"
    }
   ],
   "source": [
    "df = df.withColumn(\"Emp ID\", df[\"Emp ID\"].cast(\"int\"))\n",
    "df = df.withColumn(\"Zip\", df[\"Zip\"].cast(\"int\"))\n",
    "df = df.withColumn(\"Salary\", df[\"Salary\"].cast(\"int\"))\n",
    "df = df.withColumn(\"Salary Hike in %\", df[\"Salary Hike in %\"].cast(\"int\"))\n",
    "df.dtypes"
   ]
  },
  {
   "cell_type": "markdown",
   "metadata": {},
   "source": [
    "### Checking if the changes have been made successfully"
   ]
  },
  {
   "cell_type": "code",
   "execution_count": 10,
   "metadata": {},
   "outputs": [
    {
     "name": "stdout",
     "output_type": "stream",
     "text": [
      "+------+----------+---------+------+--------------------+---------------------+-----------+--------------------+-----+-------+----------+-----+------+----------------+\n",
      "|Emp ID|First Name|Last Name|Gender|              E Mail|Month Name of Joining|        SSN|              County|State| Region|      City|  Zip|Salary|Salary Hike in %|\n",
      "+------+----------+---------+------+--------------------+---------------------+-----------+--------------------+-----+-------+----------+-----+------+----------------+\n",
      "|742048|    Lizeth|   Mccoll|     F|lizeth.mccoll@ibm...|              January|171-86-6830|               Stark|   OH|Midwest|  Alliance|44601|147446|              14|\n",
      "|671135| Argentina|     Hern|     F|argentina.hern@nt...|                April|083-02-3078|District of Columbia|   DC|  South|Washington|20411|129174|               8|\n",
      "|965851|    Damian|  Patillo|     M|damian.patillo@ou...|             December|326-11-9852|              Fresno|   CA|   West|    Burrel|93607|158746|               8|\n",
      "|224660|   Imogene| Hagopian|     F|imogene.hagopian@...|                 June|656-36-0772|              Brazos|   TX|  South|     Bryan|77806| 55761|              14|\n",
      "|852694|    Walker|  Wallach|     M|walker.wallach@ao...|             February|296-15-3535|              Vernon|   LA|  South|  Newllano|71461|197519|              24|\n",
      "+------+----------+---------+------+--------------------+---------------------+-----------+--------------------+-----+-------+----------+-----+------+----------------+\n",
      "only showing top 5 rows\n",
      "\n"
     ]
    }
   ],
   "source": [
    "df.show(5)"
   ]
  },
  {
   "cell_type": "markdown",
   "metadata": {},
   "source": [
    "### Checking the Schema"
   ]
  },
  {
   "cell_type": "code",
   "execution_count": 11,
   "metadata": {},
   "outputs": [
    {
     "name": "stdout",
     "output_type": "stream",
     "text": [
      "root\n",
      " |-- Emp ID: integer (nullable = true)\n",
      " |-- First Name: string (nullable = true)\n",
      " |-- Last Name: string (nullable = true)\n",
      " |-- Gender: string (nullable = true)\n",
      " |-- E Mail: string (nullable = true)\n",
      " |-- Month Name of Joining: string (nullable = true)\n",
      " |-- SSN: string (nullable = true)\n",
      " |-- County: string (nullable = true)\n",
      " |-- State: string (nullable = true)\n",
      " |-- Region: string (nullable = true)\n",
      " |-- City: string (nullable = true)\n",
      " |-- Zip: integer (nullable = true)\n",
      " |-- Salary: integer (nullable = true)\n",
      " |-- Salary Hike in %: integer (nullable = true)\n",
      "\n"
     ]
    }
   ],
   "source": [
    "df.printSchema()"
   ]
  },
  {
   "cell_type": "markdown",
   "metadata": {},
   "source": [
    "### Task 1: Count the number of employees in each County, Region and City"
   ]
  },
  {
   "cell_type": "code",
   "execution_count": 70,
   "metadata": {},
   "outputs": [
    {
     "name": "stdout",
     "output_type": "stream",
     "text": [
      "+---------------+\n",
      "|No. of Counties|\n",
      "+---------------+\n",
      "|           2752|\n",
      "+---------------+\n",
      "\n"
     ]
    }
   ],
   "source": [
    "task11c = df.agg(func.countDistinct(\"County\").alias(\"No. of Counties\"))\n",
    "task11c.show()"
   ]
  },
  {
   "cell_type": "code",
   "execution_count": 29,
   "metadata": {},
   "outputs": [
    {
     "name": "stdout",
     "output_type": "stream",
     "text": [
      "+---------+-----+\n",
      "|   County|count|\n",
      "+---------+-----+\n",
      "|    Aaron|   90|\n",
      "|Abbeville|  509|\n",
      "|   Acadia| 1373|\n",
      "| Accomack| 4611|\n",
      "|      Ada| 5104|\n",
      "+---------+-----+\n",
      "only showing top 5 rows\n",
      "\n"
     ]
    }
   ],
   "source": [
    "task11 = df.groupBy(\"County\").count().sort(\"County\")\n",
    "task11.show(5)"
   ]
  },
  {
   "cell_type": "code",
   "execution_count": 14,
   "metadata": {},
   "outputs": [
    {
     "name": "stdout",
     "output_type": "stream",
     "text": [
      "+--------------+\n",
      "|No. of Regions|\n",
      "+--------------+\n",
      "|             4|\n",
      "+--------------+\n",
      "\n"
     ]
    }
   ],
   "source": [
    "task12c = df.agg(func.countDistinct(\"Region\").alias(\"No. of Regions\"))\n",
    "task12c.show()"
   ]
  },
  {
   "cell_type": "code",
   "execution_count": 15,
   "metadata": {},
   "outputs": [
    {
     "name": "stdout",
     "output_type": "stream",
     "text": [
      "+---------+-------+\n",
      "|   Region|  count|\n",
      "+---------+-------+\n",
      "|  Midwest|1372439|\n",
      "|Northeast| 886984|\n",
      "|    South|1855656|\n",
      "|     West| 884921|\n",
      "+---------+-------+\n",
      "\n"
     ]
    }
   ],
   "source": [
    "task12 = df.groupBy(\"Region\").count().sort(\"Region\")\n",
    "task12.show()"
   ]
  },
  {
   "cell_type": "code",
   "execution_count": 17,
   "metadata": {},
   "outputs": [
    {
     "name": "stdout",
     "output_type": "stream",
     "text": [
      "+-------------+\n",
      "|No. of Cities|\n",
      "+-------------+\n",
      "|        19206|\n",
      "+-------------+\n",
      "\n"
     ]
    }
   ],
   "source": [
    "task131 = df.agg(func.countDistinct(\"City\").alias(\"No. of Cities\"))\n",
    "task131.show()"
   ]
  },
  {
   "cell_type": "code",
   "execution_count": 16,
   "metadata": {},
   "outputs": [
    {
     "name": "stdout",
     "output_type": "stream",
     "text": [
      "+----------+-----+\n",
      "|      City|count|\n",
      "+----------+-----+\n",
      "|     Aaron|   90|\n",
      "|Aaronsburg|   96|\n",
      "| Abbeville|  681|\n",
      "|     Abbot|  139|\n",
      "|Abbotsford|  118|\n",
      "+----------+-----+\n",
      "only showing top 5 rows\n",
      "\n"
     ]
    }
   ],
   "source": [
    "task13 = df.groupBy(\"City\").count().sort(\"City\")\n",
    "task13.show(5)"
   ]
  },
  {
   "cell_type": "markdown",
   "metadata": {},
   "source": [
    "### Task 2: Generate employee summary"
   ]
  },
  {
   "cell_type": "code",
   "execution_count": 18,
   "metadata": {},
   "outputs": [
    {
     "name": "stdout",
     "output_type": "stream",
     "text": [
      "+------+----------+---------+------+--------------------+---------------------+-----------+------+-----+-------+-----------+-----+------+----------------+\n",
      "|Emp ID|First Name|Last Name|Gender|              E Mail|Month Name of Joining|        SSN|County|State| Region|       City|  Zip|Salary|Salary Hike in %|\n",
      "+------+----------+---------+------+--------------------+---------------------+-----------+------+-----+-------+-----------+-----+------+----------------+\n",
      "|111111|     Riley|   Isbell|     M|riley.isbell@gmai...|                  May|066-02-8823|Sabine|   LA|  South|    Florien|71429|115049|              26|\n",
      "|111111|    Danuta|Witkowski|     F|danuta.witkowski@...|                  May|506-57-4157|   Bay|   FL|  South|Panama City|32403|142276|              11|\n",
      "|111111|    Ursula|  Ribeiro|     F|ursula.ribeiro@ao...|             February|504-45-4194|Ottawa|   MI|Midwest| Ferrysburg|49409| 68056|              11|\n",
      "|111111|    Delois| Lamberth|     F|delois.lamberth@h...|              October|193-86-6147|Martin|   NC|  South|Williamston|27892|146377|              25|\n",
      "|111111|   Karolyn|     Hock|     F|karolyn.hock@hotm...|                March|295-15-1492|  Wise|   TX|  South|    Slidell|76267|146377|              25|\n",
      "+------+----------+---------+------+--------------------+---------------------+-----------+------+-----+-------+-----------+-----+------+----------------+\n",
      "only showing top 5 rows\n",
      "\n"
     ]
    }
   ],
   "source": [
    "task2 = df.sort(\"Emp ID\")\n",
    "task2.show(5)"
   ]
  },
  {
   "cell_type": "markdown",
   "metadata": {},
   "source": [
    "### Task 3: Generate employee summary and ordering by Gender and Salary"
   ]
  },
  {
   "cell_type": "code",
   "execution_count": 19,
   "metadata": {},
   "outputs": [
    {
     "name": "stdout",
     "output_type": "stream",
     "text": [
      "+------+----------+-----------+------+--------------------+---------------------+-----------+----------+-----+-------+------------+-----+------+----------------+\n",
      "|Emp ID|First Name|  Last Name|Gender|              E Mail|Month Name of Joining|        SSN|    County|State| Region|        City|  Zip|Salary|Salary Hike in %|\n",
      "+------+----------+-----------+------+--------------------+---------------------+-----------+----------+-----+-------+------------+-----+------+----------------+\n",
      "|571129|  Lakiesha|    Nolting|     F|lakiesha.nolting@...|                March|141-23-4908|   Larimer|   CO|   West|  Glen Haven|80532| 40000|              21|\n",
      "|828071| Madelaine|   Barrette|     F|madelaine.barrett...|             February|545-99-1053|     Aiken|   SC|  South|       Aiken|29801| 40000|              26|\n",
      "|631239|   Tijuana|     Ellman|     F|tijuana.ellman@ho...|                  May|730-28-6351|      Hoke|   NC|  South|     Raeford|28376| 40000|              19|\n",
      "|506893|    Ariana|Cumberbatch|     F|ariana.cumberbatc...|                 June|057-02-5798|Evangeline|   LA|  South|Saint Landry|71367| 40000|               4|\n",
      "|832197|     Vikki|     Grosso|     F|vikki.grosso@hotm...|              October|131-98-5564|   McHenry|   ND|Midwest|      Bantry|58713| 40000|              14|\n",
      "+------+----------+-----------+------+--------------------+---------------------+-----------+----------+-----+-------+------------+-----+------+----------------+\n",
      "only showing top 5 rows\n",
      "\n"
     ]
    }
   ],
   "source": [
    "task3 = df.orderBy([\"Gender\", \"Salary\"])\n",
    "task3.show(5)"
   ]
  },
  {
   "cell_type": "markdown",
   "metadata": {},
   "source": [
    "### Task 4: Summerize the number of employee joined and hikes granted based on month"
   ]
  },
  {
   "cell_type": "code",
   "execution_count": 20,
   "metadata": {},
   "outputs": [
    {
     "name": "stdout",
     "output_type": "stream",
     "text": [
      "+---------------------+------+\n",
      "|Month Name of Joining| count|\n",
      "+---------------------+------+\n",
      "|                 July|450981|\n",
      "|             November|392382|\n",
      "|             February|382263|\n",
      "|              January|413247|\n",
      "|                March|422987|\n",
      "|              October|400048|\n",
      "|                  May|434522|\n",
      "|               August|468295|\n",
      "|                April|414484|\n",
      "|                 June|427424|\n",
      "|             December|408721|\n",
      "|            September|384646|\n",
      "+---------------------+------+\n",
      "\n"
     ]
    }
   ],
   "source": [
    "task41 = df.groupBy(\"Month Name of Joining\").count()\n",
    "task41.show()"
   ]
  },
  {
   "cell_type": "code",
   "execution_count": 22,
   "metadata": {},
   "outputs": [
    {
     "name": "stdout",
     "output_type": "stream",
     "text": [
      "+------------+\n",
      "|No. of Hikes|\n",
      "+------------+\n",
      "|         372|\n",
      "+------------+\n",
      "\n"
     ]
    }
   ],
   "source": [
    "task131 = df.agg(func.countDistinct(\"Month Name of Joining\",\"Salary Hike in %\").alias(\"No. of Hikes\"))\n",
    "task131.show()"
   ]
  },
  {
   "cell_type": "code",
   "execution_count": 21,
   "metadata": {},
   "outputs": [
    {
     "name": "stdout",
     "output_type": "stream",
     "text": [
      "+---------------------+----------------+-----+\n",
      "|Month Name of Joining|Salary Hike in %|count|\n",
      "+---------------------+----------------+-----+\n",
      "|                April|              13|13471|\n",
      "|                April|              24|13406|\n",
      "|                April|               5|13213|\n",
      "|                April|              23|13585|\n",
      "|                April|              18|13322|\n",
      "+---------------------+----------------+-----+\n",
      "only showing top 5 rows\n",
      "\n"
     ]
    }
   ],
   "source": [
    "task42 = df.groupBy(\"Month Name of Joining\", \"Salary Hike in %\").count().sort(\"Month Name of Joining\")\n",
    "task42.show(5)"
   ]
  },
  {
   "cell_type": "markdown",
   "metadata": {},
   "source": [
    "### Task 5: Generate employee summary and ordering by Salary"
   ]
  },
  {
   "cell_type": "code",
   "execution_count": 23,
   "metadata": {},
   "outputs": [
    {
     "name": "stdout",
     "output_type": "stream",
     "text": [
      "+------+----------+-----------+------+--------------------+---------------------+-----------+----------+-----+---------+------------+-----+------+----------------+\n",
      "|Emp ID|First Name|  Last Name|Gender|              E Mail|Month Name of Joining|        SSN|    County|State|   Region|        City|  Zip|Salary|Salary Hike in %|\n",
      "+------+----------+-----------+------+--------------------+---------------------+-----------+----------+-----+---------+------------+-----+------+----------------+\n",
      "|828071| Madelaine|   Barrette|     F|madelaine.barrett...|             February|545-99-1053|     Aiken|   SC|    South|       Aiken|29801| 40000|              26|\n",
      "|336973|      Kirk|       Deem|     M| kirk.deem@gmail.com|                April|623-85-7102|  Ouachita|   AR|    South|      Louann|71751| 40000|              28|\n",
      "|832197|     Vikki|     Grosso|     F|vikki.grosso@hotm...|              October|131-98-5564|   McHenry|   ND|  Midwest|      Bantry|58713| 40000|              14|\n",
      "|680938|   Rosario|   Hillyard|     M|rosario.hillyard@...|             November|307-37-6816|  Somerset|   PA|Northeast|   Tire Hill|15959| 40000|              30|\n",
      "|506893|    Ariana|Cumberbatch|     F|ariana.cumberbatc...|                 June|057-02-5798|Evangeline|   LA|    South|Saint Landry|71367| 40000|               4|\n",
      "+------+----------+-----------+------+--------------------+---------------------+-----------+----------+-----+---------+------------+-----+------+----------------+\n",
      "only showing top 5 rows\n",
      "\n"
     ]
    }
   ],
   "source": [
    "task5 = df.orderBy([\"Salary\"])\n",
    "task5.show(5)"
   ]
  },
  {
   "cell_type": "code",
   "execution_count": 24,
   "metadata": {},
   "outputs": [
    {
     "name": "stdout",
     "output_type": "stream",
     "text": [
      "SparkSession Stopped Successfully!\n"
     ]
    }
   ],
   "source": [
    "spark.stop()\n",
    "print(\"SparkSession Stopped Successfully!\")"
   ]
  }
 ],
 "metadata": {
  "kernelspec": {
   "display_name": "Python 3",
   "language": "python",
   "name": "python3"
  },
  "language_info": {
   "codemirror_mode": {
    "name": "ipython",
    "version": 3
   },
   "file_extension": ".py",
   "mimetype": "text/x-python",
   "name": "python",
   "nbconvert_exporter": "python",
   "pygments_lexer": "ipython3",
   "version": "3.6.9"
  }
 },
 "nbformat": 4,
 "nbformat_minor": 4
}
